{
  "nbformat": 4,
  "nbformat_minor": 0,
  "metadata": {
    "colab": {
      "provenance": [],
      "authorship_tag": "ABX9TyM7XJMS5PG/eayBsG7wd8H3",
      "include_colab_link": true
    },
    "kernelspec": {
      "name": "python3",
      "display_name": "Python 3"
    },
    "language_info": {
      "name": "python"
    }
  },
  "cells": [
    {
      "cell_type": "markdown",
      "metadata": {
        "id": "view-in-github",
        "colab_type": "text"
      },
      "source": [
        "<a href=\"https://colab.research.google.com/github/Vedika945/Movie-Recommendation/blob/main/Untitled5.ipynb\" target=\"_parent\"><img src=\"https://colab.research.google.com/assets/colab-badge.svg\" alt=\"Open In Colab\"/></a>"
      ]
    },
    {
      "cell_type": "markdown",
      "source": [
        "# **Data Preprocessing**"
      ],
      "metadata": {
        "id": "XLktvdUPr6yR"
      }
    },
    {
      "cell_type": "code",
      "execution_count": null,
      "metadata": {
        "id": "kk_M0gSRb_EF"
      },
      "outputs": [],
      "source": [
        "import pandas as pd"
      ]
    },
    {
      "cell_type": "code",
      "source": [
        "df = pd.read_csv('https://github.com/YBI-Foundation/Dataset/raw/main/Movies%20Recommendation.csv')"
      ],
      "metadata": {
        "id": "7TpycmdVcBhw"
      },
      "execution_count": null,
      "outputs": []
    },
    {
      "cell_type": "code",
      "source": [
        "df.head(3)"
      ],
      "metadata": {
        "colab": {
          "base_uri": "https://localhost:8080/",
          "height": 436
        },
        "id": "MaPUV0oMcOEm",
        "outputId": "3d4f0429-e2f4-4538-f509-7bb69f5a32f0"
      },
      "execution_count": null,
      "outputs": [
        {
          "output_type": "execute_result",
          "data": {
            "text/plain": [
              "   Movie_ID   Movie_Title                       Movie_Genre Movie_Language  \\\n",
              "0         1    Four Rooms                      Crime Comedy             en   \n",
              "1         2     Star Wars  Adventure Action Science Fiction             en   \n",
              "2         3  Finding Nemo                  Animation Family             en   \n",
              "\n",
              "   Movie_Budget  Movie_Popularity Movie_Release_Date  Movie_Revenue  \\\n",
              "0       4000000         22.876230         09-12-1995        4300000   \n",
              "1      11000000        126.393695         25-05-1977      775398007   \n",
              "2      94000000         85.688789         30-05-2003      940335536   \n",
              "\n",
              "   Movie_Runtime  Movie_Vote  ...  \\\n",
              "0           98.0         6.5  ...   \n",
              "1          121.0         8.1  ...   \n",
              "2          100.0         7.6  ...   \n",
              "\n",
              "                                      Movie_Homepage  \\\n",
              "0                                                NaN   \n",
              "1  http://www.starwars.com/films/star-wars-episod...   \n",
              "2              http://movies.disney.com/finding-nemo   \n",
              "\n",
              "                                      Movie_Keywords  \\\n",
              "0          hotel new year's eve witch bet hotel room   \n",
              "1        android galaxy hermit death star lightsaber   \n",
              "2  father son relationship harbor underwater fish...   \n",
              "\n",
              "                                      Movie_Overview  \\\n",
              "0  It's Ted the Bellhop's first night on the job....   \n",
              "1  Princess Leia is captured and held hostage by ...   \n",
              "2  Nemo, an adventurous young clownfish, is unexp...   \n",
              "\n",
              "                              Movie_Production_House  \\\n",
              "0  [{\"name\": \"Miramax Films\", \"id\": 14}, {\"name\":...   \n",
              "1  [{\"name\": \"Lucasfilm\", \"id\": 1}, {\"name\": \"Twe...   \n",
              "2     [{\"name\": \"Pixar Animation Studios\", \"id\": 3}]   \n",
              "\n",
              "                            Movie_Production_Country  \\\n",
              "0  [{\"iso_3166_1\": \"US\", \"name\": \"United States o...   \n",
              "1  [{\"iso_3166_1\": \"US\", \"name\": \"United States o...   \n",
              "2  [{\"iso_3166_1\": \"US\", \"name\": \"United States o...   \n",
              "\n",
              "                      Movie_Spoken_Language  \\\n",
              "0  [{\"iso_639_1\": \"en\", \"name\": \"English\"}]   \n",
              "1  [{\"iso_639_1\": \"en\", \"name\": \"English\"}]   \n",
              "2  [{\"iso_639_1\": \"en\", \"name\": \"English\"}]   \n",
              "\n",
              "                                       Movie_Tagline  \\\n",
              "0  Twelve outrageous guests. Four scandalous requ...   \n",
              "1       A long time ago in a galaxy far, far away...   \n",
              "2  There are 3.7 trillion fish in the ocean, they...   \n",
              "\n",
              "                                          Movie_Cast  \\\n",
              "0  Tim Roth Antonio Banderas Jennifer Beals Madon...   \n",
              "1  Mark Hamill Harrison Ford Carrie Fisher Peter ...   \n",
              "2  Albert Brooks Ellen DeGeneres Alexander Gould ...   \n",
              "\n",
              "                                          Movie_Crew  Movie_Director  \n",
              "0  [{'name': 'Allison Anders', 'gender': 1, 'depa...  Allison Anders  \n",
              "1  [{'name': 'George Lucas', 'gender': 2, 'depart...    George Lucas  \n",
              "2  [{'name': 'Andrew Stanton', 'gender': 2, 'depa...  Andrew Stanton  \n",
              "\n",
              "[3 rows x 21 columns]"
            ],
            "text/html": [
              "\n",
              "  <div id=\"df-24484b6a-32f1-44f3-979c-b7be195f445b\" class=\"colab-df-container\">\n",
              "    <div>\n",
              "<style scoped>\n",
              "    .dataframe tbody tr th:only-of-type {\n",
              "        vertical-align: middle;\n",
              "    }\n",
              "\n",
              "    .dataframe tbody tr th {\n",
              "        vertical-align: top;\n",
              "    }\n",
              "\n",
              "    .dataframe thead th {\n",
              "        text-align: right;\n",
              "    }\n",
              "</style>\n",
              "<table border=\"1\" class=\"dataframe\">\n",
              "  <thead>\n",
              "    <tr style=\"text-align: right;\">\n",
              "      <th></th>\n",
              "      <th>Movie_ID</th>\n",
              "      <th>Movie_Title</th>\n",
              "      <th>Movie_Genre</th>\n",
              "      <th>Movie_Language</th>\n",
              "      <th>Movie_Budget</th>\n",
              "      <th>Movie_Popularity</th>\n",
              "      <th>Movie_Release_Date</th>\n",
              "      <th>Movie_Revenue</th>\n",
              "      <th>Movie_Runtime</th>\n",
              "      <th>Movie_Vote</th>\n",
              "      <th>...</th>\n",
              "      <th>Movie_Homepage</th>\n",
              "      <th>Movie_Keywords</th>\n",
              "      <th>Movie_Overview</th>\n",
              "      <th>Movie_Production_House</th>\n",
              "      <th>Movie_Production_Country</th>\n",
              "      <th>Movie_Spoken_Language</th>\n",
              "      <th>Movie_Tagline</th>\n",
              "      <th>Movie_Cast</th>\n",
              "      <th>Movie_Crew</th>\n",
              "      <th>Movie_Director</th>\n",
              "    </tr>\n",
              "  </thead>\n",
              "  <tbody>\n",
              "    <tr>\n",
              "      <th>0</th>\n",
              "      <td>1</td>\n",
              "      <td>Four Rooms</td>\n",
              "      <td>Crime Comedy</td>\n",
              "      <td>en</td>\n",
              "      <td>4000000</td>\n",
              "      <td>22.876230</td>\n",
              "      <td>09-12-1995</td>\n",
              "      <td>4300000</td>\n",
              "      <td>98.0</td>\n",
              "      <td>6.5</td>\n",
              "      <td>...</td>\n",
              "      <td>NaN</td>\n",
              "      <td>hotel new year's eve witch bet hotel room</td>\n",
              "      <td>It's Ted the Bellhop's first night on the job....</td>\n",
              "      <td>[{\"name\": \"Miramax Films\", \"id\": 14}, {\"name\":...</td>\n",
              "      <td>[{\"iso_3166_1\": \"US\", \"name\": \"United States o...</td>\n",
              "      <td>[{\"iso_639_1\": \"en\", \"name\": \"English\"}]</td>\n",
              "      <td>Twelve outrageous guests. Four scandalous requ...</td>\n",
              "      <td>Tim Roth Antonio Banderas Jennifer Beals Madon...</td>\n",
              "      <td>[{'name': 'Allison Anders', 'gender': 1, 'depa...</td>\n",
              "      <td>Allison Anders</td>\n",
              "    </tr>\n",
              "    <tr>\n",
              "      <th>1</th>\n",
              "      <td>2</td>\n",
              "      <td>Star Wars</td>\n",
              "      <td>Adventure Action Science Fiction</td>\n",
              "      <td>en</td>\n",
              "      <td>11000000</td>\n",
              "      <td>126.393695</td>\n",
              "      <td>25-05-1977</td>\n",
              "      <td>775398007</td>\n",
              "      <td>121.0</td>\n",
              "      <td>8.1</td>\n",
              "      <td>...</td>\n",
              "      <td>http://www.starwars.com/films/star-wars-episod...</td>\n",
              "      <td>android galaxy hermit death star lightsaber</td>\n",
              "      <td>Princess Leia is captured and held hostage by ...</td>\n",
              "      <td>[{\"name\": \"Lucasfilm\", \"id\": 1}, {\"name\": \"Twe...</td>\n",
              "      <td>[{\"iso_3166_1\": \"US\", \"name\": \"United States o...</td>\n",
              "      <td>[{\"iso_639_1\": \"en\", \"name\": \"English\"}]</td>\n",
              "      <td>A long time ago in a galaxy far, far away...</td>\n",
              "      <td>Mark Hamill Harrison Ford Carrie Fisher Peter ...</td>\n",
              "      <td>[{'name': 'George Lucas', 'gender': 2, 'depart...</td>\n",
              "      <td>George Lucas</td>\n",
              "    </tr>\n",
              "    <tr>\n",
              "      <th>2</th>\n",
              "      <td>3</td>\n",
              "      <td>Finding Nemo</td>\n",
              "      <td>Animation Family</td>\n",
              "      <td>en</td>\n",
              "      <td>94000000</td>\n",
              "      <td>85.688789</td>\n",
              "      <td>30-05-2003</td>\n",
              "      <td>940335536</td>\n",
              "      <td>100.0</td>\n",
              "      <td>7.6</td>\n",
              "      <td>...</td>\n",
              "      <td>http://movies.disney.com/finding-nemo</td>\n",
              "      <td>father son relationship harbor underwater fish...</td>\n",
              "      <td>Nemo, an adventurous young clownfish, is unexp...</td>\n",
              "      <td>[{\"name\": \"Pixar Animation Studios\", \"id\": 3}]</td>\n",
              "      <td>[{\"iso_3166_1\": \"US\", \"name\": \"United States o...</td>\n",
              "      <td>[{\"iso_639_1\": \"en\", \"name\": \"English\"}]</td>\n",
              "      <td>There are 3.7 trillion fish in the ocean, they...</td>\n",
              "      <td>Albert Brooks Ellen DeGeneres Alexander Gould ...</td>\n",
              "      <td>[{'name': 'Andrew Stanton', 'gender': 2, 'depa...</td>\n",
              "      <td>Andrew Stanton</td>\n",
              "    </tr>\n",
              "  </tbody>\n",
              "</table>\n",
              "<p>3 rows × 21 columns</p>\n",
              "</div>\n",
              "    <div class=\"colab-df-buttons\">\n",
              "\n",
              "  <div class=\"colab-df-container\">\n",
              "    <button class=\"colab-df-convert\" onclick=\"convertToInteractive('df-24484b6a-32f1-44f3-979c-b7be195f445b')\"\n",
              "            title=\"Convert this dataframe to an interactive table.\"\n",
              "            style=\"display:none;\">\n",
              "\n",
              "  <svg xmlns=\"http://www.w3.org/2000/svg\" height=\"24px\" viewBox=\"0 -960 960 960\">\n",
              "    <path d=\"M120-120v-720h720v720H120Zm60-500h600v-160H180v160Zm220 220h160v-160H400v160Zm0 220h160v-160H400v160ZM180-400h160v-160H180v160Zm440 0h160v-160H620v160ZM180-180h160v-160H180v160Zm440 0h160v-160H620v160Z\"/>\n",
              "  </svg>\n",
              "    </button>\n",
              "\n",
              "  <style>\n",
              "    .colab-df-container {\n",
              "      display:flex;\n",
              "      gap: 12px;\n",
              "    }\n",
              "\n",
              "    .colab-df-convert {\n",
              "      background-color: #E8F0FE;\n",
              "      border: none;\n",
              "      border-radius: 50%;\n",
              "      cursor: pointer;\n",
              "      display: none;\n",
              "      fill: #1967D2;\n",
              "      height: 32px;\n",
              "      padding: 0 0 0 0;\n",
              "      width: 32px;\n",
              "    }\n",
              "\n",
              "    .colab-df-convert:hover {\n",
              "      background-color: #E2EBFA;\n",
              "      box-shadow: 0px 1px 2px rgba(60, 64, 67, 0.3), 0px 1px 3px 1px rgba(60, 64, 67, 0.15);\n",
              "      fill: #174EA6;\n",
              "    }\n",
              "\n",
              "    .colab-df-buttons div {\n",
              "      margin-bottom: 4px;\n",
              "    }\n",
              "\n",
              "    [theme=dark] .colab-df-convert {\n",
              "      background-color: #3B4455;\n",
              "      fill: #D2E3FC;\n",
              "    }\n",
              "\n",
              "    [theme=dark] .colab-df-convert:hover {\n",
              "      background-color: #434B5C;\n",
              "      box-shadow: 0px 1px 3px 1px rgba(0, 0, 0, 0.15);\n",
              "      filter: drop-shadow(0px 1px 2px rgba(0, 0, 0, 0.3));\n",
              "      fill: #FFFFFF;\n",
              "    }\n",
              "  </style>\n",
              "\n",
              "    <script>\n",
              "      const buttonEl =\n",
              "        document.querySelector('#df-24484b6a-32f1-44f3-979c-b7be195f445b button.colab-df-convert');\n",
              "      buttonEl.style.display =\n",
              "        google.colab.kernel.accessAllowed ? 'block' : 'none';\n",
              "\n",
              "      async function convertToInteractive(key) {\n",
              "        const element = document.querySelector('#df-24484b6a-32f1-44f3-979c-b7be195f445b');\n",
              "        const dataTable =\n",
              "          await google.colab.kernel.invokeFunction('convertToInteractive',\n",
              "                                                    [key], {});\n",
              "        if (!dataTable) return;\n",
              "\n",
              "        const docLinkHtml = 'Like what you see? Visit the ' +\n",
              "          '<a target=\"_blank\" href=https://colab.research.google.com/notebooks/data_table.ipynb>data table notebook</a>'\n",
              "          + ' to learn more about interactive tables.';\n",
              "        element.innerHTML = '';\n",
              "        dataTable['output_type'] = 'display_data';\n",
              "        await google.colab.output.renderOutput(dataTable, element);\n",
              "        const docLink = document.createElement('div');\n",
              "        docLink.innerHTML = docLinkHtml;\n",
              "        element.appendChild(docLink);\n",
              "      }\n",
              "    </script>\n",
              "  </div>\n",
              "\n",
              "\n",
              "<div id=\"df-c1098e92-e221-46fe-b533-ff9b4f8695c2\">\n",
              "  <button class=\"colab-df-quickchart\" onclick=\"quickchart('df-c1098e92-e221-46fe-b533-ff9b4f8695c2')\"\n",
              "            title=\"Suggest charts\"\n",
              "            style=\"display:none;\">\n",
              "\n",
              "<svg xmlns=\"http://www.w3.org/2000/svg\" height=\"24px\"viewBox=\"0 0 24 24\"\n",
              "     width=\"24px\">\n",
              "    <g>\n",
              "        <path d=\"M19 3H5c-1.1 0-2 .9-2 2v14c0 1.1.9 2 2 2h14c1.1 0 2-.9 2-2V5c0-1.1-.9-2-2-2zM9 17H7v-7h2v7zm4 0h-2V7h2v10zm4 0h-2v-4h2v4z\"/>\n",
              "    </g>\n",
              "</svg>\n",
              "  </button>\n",
              "\n",
              "<style>\n",
              "  .colab-df-quickchart {\n",
              "      --bg-color: #E8F0FE;\n",
              "      --fill-color: #1967D2;\n",
              "      --hover-bg-color: #E2EBFA;\n",
              "      --hover-fill-color: #174EA6;\n",
              "      --disabled-fill-color: #AAA;\n",
              "      --disabled-bg-color: #DDD;\n",
              "  }\n",
              "\n",
              "  [theme=dark] .colab-df-quickchart {\n",
              "      --bg-color: #3B4455;\n",
              "      --fill-color: #D2E3FC;\n",
              "      --hover-bg-color: #434B5C;\n",
              "      --hover-fill-color: #FFFFFF;\n",
              "      --disabled-bg-color: #3B4455;\n",
              "      --disabled-fill-color: #666;\n",
              "  }\n",
              "\n",
              "  .colab-df-quickchart {\n",
              "    background-color: var(--bg-color);\n",
              "    border: none;\n",
              "    border-radius: 50%;\n",
              "    cursor: pointer;\n",
              "    display: none;\n",
              "    fill: var(--fill-color);\n",
              "    height: 32px;\n",
              "    padding: 0;\n",
              "    width: 32px;\n",
              "  }\n",
              "\n",
              "  .colab-df-quickchart:hover {\n",
              "    background-color: var(--hover-bg-color);\n",
              "    box-shadow: 0 1px 2px rgba(60, 64, 67, 0.3), 0 1px 3px 1px rgba(60, 64, 67, 0.15);\n",
              "    fill: var(--button-hover-fill-color);\n",
              "  }\n",
              "\n",
              "  .colab-df-quickchart-complete:disabled,\n",
              "  .colab-df-quickchart-complete:disabled:hover {\n",
              "    background-color: var(--disabled-bg-color);\n",
              "    fill: var(--disabled-fill-color);\n",
              "    box-shadow: none;\n",
              "  }\n",
              "\n",
              "  .colab-df-spinner {\n",
              "    border: 2px solid var(--fill-color);\n",
              "    border-color: transparent;\n",
              "    border-bottom-color: var(--fill-color);\n",
              "    animation:\n",
              "      spin 1s steps(1) infinite;\n",
              "  }\n",
              "\n",
              "  @keyframes spin {\n",
              "    0% {\n",
              "      border-color: transparent;\n",
              "      border-bottom-color: var(--fill-color);\n",
              "      border-left-color: var(--fill-color);\n",
              "    }\n",
              "    20% {\n",
              "      border-color: transparent;\n",
              "      border-left-color: var(--fill-color);\n",
              "      border-top-color: var(--fill-color);\n",
              "    }\n",
              "    30% {\n",
              "      border-color: transparent;\n",
              "      border-left-color: var(--fill-color);\n",
              "      border-top-color: var(--fill-color);\n",
              "      border-right-color: var(--fill-color);\n",
              "    }\n",
              "    40% {\n",
              "      border-color: transparent;\n",
              "      border-right-color: var(--fill-color);\n",
              "      border-top-color: var(--fill-color);\n",
              "    }\n",
              "    60% {\n",
              "      border-color: transparent;\n",
              "      border-right-color: var(--fill-color);\n",
              "    }\n",
              "    80% {\n",
              "      border-color: transparent;\n",
              "      border-right-color: var(--fill-color);\n",
              "      border-bottom-color: var(--fill-color);\n",
              "    }\n",
              "    90% {\n",
              "      border-color: transparent;\n",
              "      border-bottom-color: var(--fill-color);\n",
              "    }\n",
              "  }\n",
              "</style>\n",
              "\n",
              "  <script>\n",
              "    async function quickchart(key) {\n",
              "      const quickchartButtonEl =\n",
              "        document.querySelector('#' + key + ' button');\n",
              "      quickchartButtonEl.disabled = true;  // To prevent multiple clicks.\n",
              "      quickchartButtonEl.classList.add('colab-df-spinner');\n",
              "      try {\n",
              "        const charts = await google.colab.kernel.invokeFunction(\n",
              "            'suggestCharts', [key], {});\n",
              "      } catch (error) {\n",
              "        console.error('Error during call to suggestCharts:', error);\n",
              "      }\n",
              "      quickchartButtonEl.classList.remove('colab-df-spinner');\n",
              "      quickchartButtonEl.classList.add('colab-df-quickchart-complete');\n",
              "    }\n",
              "    (() => {\n",
              "      let quickchartButtonEl =\n",
              "        document.querySelector('#df-c1098e92-e221-46fe-b533-ff9b4f8695c2 button');\n",
              "      quickchartButtonEl.style.display =\n",
              "        google.colab.kernel.accessAllowed ? 'block' : 'none';\n",
              "    })();\n",
              "  </script>\n",
              "</div>\n",
              "\n",
              "    </div>\n",
              "  </div>\n"
            ],
            "application/vnd.google.colaboratory.intrinsic+json": {
              "type": "dataframe",
              "variable_name": "df"
            }
          },
          "metadata": {},
          "execution_count": 46
        }
      ]
    },
    {
      "cell_type": "code",
      "source": [
        "df.info()"
      ],
      "metadata": {
        "colab": {
          "base_uri": "https://localhost:8080/"
        },
        "id": "VeO_eXEGpCMa",
        "outputId": "2a4ddfa9-875b-436c-d940-41e2b5b44051"
      },
      "execution_count": null,
      "outputs": [
        {
          "output_type": "stream",
          "name": "stdout",
          "text": [
            "<class 'pandas.core.frame.DataFrame'>\n",
            "RangeIndex: 4760 entries, 0 to 4759\n",
            "Data columns (total 21 columns):\n",
            " #   Column                    Non-Null Count  Dtype  \n",
            "---  ------                    --------------  -----  \n",
            " 0   Movie_ID                  4760 non-null   int64  \n",
            " 1   Movie_Title               4760 non-null   object \n",
            " 2   Movie_Genre               4760 non-null   object \n",
            " 3   Movie_Language            4760 non-null   object \n",
            " 4   Movie_Budget              4760 non-null   int64  \n",
            " 5   Movie_Popularity          4760 non-null   float64\n",
            " 6   Movie_Release_Date        4760 non-null   object \n",
            " 7   Movie_Revenue             4760 non-null   int64  \n",
            " 8   Movie_Runtime             4758 non-null   float64\n",
            " 9   Movie_Vote                4760 non-null   float64\n",
            " 10  Movie_Vote_Count          4760 non-null   int64  \n",
            " 11  Movie_Homepage            1699 non-null   object \n",
            " 12  Movie_Keywords            4373 non-null   object \n",
            " 13  Movie_Overview            4757 non-null   object \n",
            " 14  Movie_Production_House    4760 non-null   object \n",
            " 15  Movie_Production_Country  4760 non-null   object \n",
            " 16  Movie_Spoken_Language     4760 non-null   object \n",
            " 17  Movie_Tagline             3942 non-null   object \n",
            " 18  Movie_Cast                4733 non-null   object \n",
            " 19  Movie_Crew                4760 non-null   object \n",
            " 20  Movie_Director            4738 non-null   object \n",
            "dtypes: float64(3), int64(4), object(14)\n",
            "memory usage: 781.1+ KB\n"
          ]
        }
      ]
    },
    {
      "cell_type": "code",
      "source": [
        "df.shape"
      ],
      "metadata": {
        "colab": {
          "base_uri": "https://localhost:8080/"
        },
        "id": "KCNurc9VpMRC",
        "outputId": "b3724bde-92d5-4b19-9794-d1b3ddc33297"
      },
      "execution_count": null,
      "outputs": [
        {
          "output_type": "execute_result",
          "data": {
            "text/plain": [
              "(4760, 21)"
            ]
          },
          "metadata": {},
          "execution_count": 48
        }
      ]
    },
    {
      "cell_type": "code",
      "source": [
        "df.columns"
      ],
      "metadata": {
        "colab": {
          "base_uri": "https://localhost:8080/"
        },
        "id": "5goUl66fc3DV",
        "outputId": "326ac52a-e0e2-462e-8cf5-876a1264555c"
      },
      "execution_count": null,
      "outputs": [
        {
          "output_type": "execute_result",
          "data": {
            "text/plain": [
              "Index(['Movie_ID', 'Movie_Title', 'Movie_Genre', 'Movie_Language',\n",
              "       'Movie_Budget', 'Movie_Popularity', 'Movie_Release_Date',\n",
              "       'Movie_Revenue', 'Movie_Runtime', 'Movie_Vote', 'Movie_Vote_Count',\n",
              "       'Movie_Homepage', 'Movie_Keywords', 'Movie_Overview',\n",
              "       'Movie_Production_House', 'Movie_Production_Country',\n",
              "       'Movie_Spoken_Language', 'Movie_Tagline', 'Movie_Cast', 'Movie_Crew',\n",
              "       'Movie_Director'],\n",
              "      dtype='object')"
            ]
          },
          "metadata": {},
          "execution_count": 49
        }
      ]
    },
    {
      "cell_type": "markdown",
      "source": [
        "# **Feature Selection**"
      ],
      "metadata": {
        "id": "-nfJst_LsIl-"
      }
    },
    {
      "cell_type": "code",
      "source": [
        "df_ft = df[['Movie_Genre', 'Movie_Keywords', 'Movie_Tagline', 'Movie_Cast','Movie_Director']].fillna('')"
      ],
      "metadata": {
        "id": "tMRKiTITpbwR"
      },
      "execution_count": null,
      "outputs": []
    },
    {
      "cell_type": "code",
      "source": [
        "df_ft.shape"
      ],
      "metadata": {
        "colab": {
          "base_uri": "https://localhost:8080/"
        },
        "id": "dyJqrDFep0XR",
        "outputId": "3ba101c2-f60d-48c3-bad4-23a9d1354007"
      },
      "execution_count": null,
      "outputs": [
        {
          "output_type": "execute_result",
          "data": {
            "text/plain": [
              "(4760, 5)"
            ]
          },
          "metadata": {},
          "execution_count": 51
        }
      ]
    },
    {
      "cell_type": "code",
      "source": [
        "df_ft"
      ],
      "metadata": {
        "colab": {
          "base_uri": "https://localhost:8080/",
          "height": 545
        },
        "id": "rK_IQOaTp5V0",
        "outputId": "6c3a0fb7-68d9-49f8-dfe3-ef5f44e84e05"
      },
      "execution_count": null,
      "outputs": [
        {
          "output_type": "execute_result",
          "data": {
            "text/plain": [
              "                           Movie_Genre  \\\n",
              "0                         Crime Comedy   \n",
              "1     Adventure Action Science Fiction   \n",
              "2                     Animation Family   \n",
              "3                 Comedy Drama Romance   \n",
              "4                                Drama   \n",
              "...                                ...   \n",
              "4755                            Horror   \n",
              "4756               Comedy Family Drama   \n",
              "4757                    Thriller Drama   \n",
              "4758                            Family   \n",
              "4759                       Documentary   \n",
              "\n",
              "                                         Movie_Keywords  \\\n",
              "0             hotel new year's eve witch bet hotel room   \n",
              "1           android galaxy hermit death star lightsaber   \n",
              "2     father son relationship harbor underwater fish...   \n",
              "3     vietnam veteran hippie mentally disabled runni...   \n",
              "4     male nudity female nudity adultery midlife cri...   \n",
              "...                                                 ...   \n",
              "4755                                                      \n",
              "4756                                                      \n",
              "4757                     christian film sex trafficking   \n",
              "4758                                                      \n",
              "4759  music actors legendary perfomer classic hollyw...   \n",
              "\n",
              "                                          Movie_Tagline  \\\n",
              "0     Twelve outrageous guests. Four scandalous requ...   \n",
              "1          A long time ago in a galaxy far, far away...   \n",
              "2     There are 3.7 trillion fish in the ocean, they...   \n",
              "3     The world will never be the same, once you've ...   \n",
              "4                                          Look closer.   \n",
              "...                                                 ...   \n",
              "4755                The hot spot where Satan's waitin'.   \n",
              "4756           It’s better to stand out than to fit in.   \n",
              "4757           She never knew it could happen to her...   \n",
              "4758                                                      \n",
              "4759                                                      \n",
              "\n",
              "                                             Movie_Cast     Movie_Director  \n",
              "0     Tim Roth Antonio Banderas Jennifer Beals Madon...     Allison Anders  \n",
              "1     Mark Hamill Harrison Ford Carrie Fisher Peter ...       George Lucas  \n",
              "2     Albert Brooks Ellen DeGeneres Alexander Gould ...     Andrew Stanton  \n",
              "3     Tom Hanks Robin Wright Gary Sinise Mykelti Wil...    Robert Zemeckis  \n",
              "4     Kevin Spacey Annette Bening Thora Birch Wes Be...         Sam Mendes  \n",
              "...                                                 ...                ...  \n",
              "4755  Lisa Hart Carroll Michael Des Barres Paul Drak...         Pece Dingo  \n",
              "4756  Roni Akurati Brighton Sharbino Jason Lee Anjul...       Frank Lotito  \n",
              "4757  Nicole Smolen Kim Baldwin Ariana Stephens Brys...       Jaco Booyens  \n",
              "4758                                                                        \n",
              "4759                                    Tony Oppedisano  Simon Napier-Bell  \n",
              "\n",
              "[4760 rows x 5 columns]"
            ],
            "text/html": [
              "\n",
              "  <div id=\"df-8ad12170-a13e-43dc-86bb-a6ab6797b1dd\" class=\"colab-df-container\">\n",
              "    <div>\n",
              "<style scoped>\n",
              "    .dataframe tbody tr th:only-of-type {\n",
              "        vertical-align: middle;\n",
              "    }\n",
              "\n",
              "    .dataframe tbody tr th {\n",
              "        vertical-align: top;\n",
              "    }\n",
              "\n",
              "    .dataframe thead th {\n",
              "        text-align: right;\n",
              "    }\n",
              "</style>\n",
              "<table border=\"1\" class=\"dataframe\">\n",
              "  <thead>\n",
              "    <tr style=\"text-align: right;\">\n",
              "      <th></th>\n",
              "      <th>Movie_Genre</th>\n",
              "      <th>Movie_Keywords</th>\n",
              "      <th>Movie_Tagline</th>\n",
              "      <th>Movie_Cast</th>\n",
              "      <th>Movie_Director</th>\n",
              "    </tr>\n",
              "  </thead>\n",
              "  <tbody>\n",
              "    <tr>\n",
              "      <th>0</th>\n",
              "      <td>Crime Comedy</td>\n",
              "      <td>hotel new year's eve witch bet hotel room</td>\n",
              "      <td>Twelve outrageous guests. Four scandalous requ...</td>\n",
              "      <td>Tim Roth Antonio Banderas Jennifer Beals Madon...</td>\n",
              "      <td>Allison Anders</td>\n",
              "    </tr>\n",
              "    <tr>\n",
              "      <th>1</th>\n",
              "      <td>Adventure Action Science Fiction</td>\n",
              "      <td>android galaxy hermit death star lightsaber</td>\n",
              "      <td>A long time ago in a galaxy far, far away...</td>\n",
              "      <td>Mark Hamill Harrison Ford Carrie Fisher Peter ...</td>\n",
              "      <td>George Lucas</td>\n",
              "    </tr>\n",
              "    <tr>\n",
              "      <th>2</th>\n",
              "      <td>Animation Family</td>\n",
              "      <td>father son relationship harbor underwater fish...</td>\n",
              "      <td>There are 3.7 trillion fish in the ocean, they...</td>\n",
              "      <td>Albert Brooks Ellen DeGeneres Alexander Gould ...</td>\n",
              "      <td>Andrew Stanton</td>\n",
              "    </tr>\n",
              "    <tr>\n",
              "      <th>3</th>\n",
              "      <td>Comedy Drama Romance</td>\n",
              "      <td>vietnam veteran hippie mentally disabled runni...</td>\n",
              "      <td>The world will never be the same, once you've ...</td>\n",
              "      <td>Tom Hanks Robin Wright Gary Sinise Mykelti Wil...</td>\n",
              "      <td>Robert Zemeckis</td>\n",
              "    </tr>\n",
              "    <tr>\n",
              "      <th>4</th>\n",
              "      <td>Drama</td>\n",
              "      <td>male nudity female nudity adultery midlife cri...</td>\n",
              "      <td>Look closer.</td>\n",
              "      <td>Kevin Spacey Annette Bening Thora Birch Wes Be...</td>\n",
              "      <td>Sam Mendes</td>\n",
              "    </tr>\n",
              "    <tr>\n",
              "      <th>...</th>\n",
              "      <td>...</td>\n",
              "      <td>...</td>\n",
              "      <td>...</td>\n",
              "      <td>...</td>\n",
              "      <td>...</td>\n",
              "    </tr>\n",
              "    <tr>\n",
              "      <th>4755</th>\n",
              "      <td>Horror</td>\n",
              "      <td></td>\n",
              "      <td>The hot spot where Satan's waitin'.</td>\n",
              "      <td>Lisa Hart Carroll Michael Des Barres Paul Drak...</td>\n",
              "      <td>Pece Dingo</td>\n",
              "    </tr>\n",
              "    <tr>\n",
              "      <th>4756</th>\n",
              "      <td>Comedy Family Drama</td>\n",
              "      <td></td>\n",
              "      <td>It’s better to stand out than to fit in.</td>\n",
              "      <td>Roni Akurati Brighton Sharbino Jason Lee Anjul...</td>\n",
              "      <td>Frank Lotito</td>\n",
              "    </tr>\n",
              "    <tr>\n",
              "      <th>4757</th>\n",
              "      <td>Thriller Drama</td>\n",
              "      <td>christian film sex trafficking</td>\n",
              "      <td>She never knew it could happen to her...</td>\n",
              "      <td>Nicole Smolen Kim Baldwin Ariana Stephens Brys...</td>\n",
              "      <td>Jaco Booyens</td>\n",
              "    </tr>\n",
              "    <tr>\n",
              "      <th>4758</th>\n",
              "      <td>Family</td>\n",
              "      <td></td>\n",
              "      <td></td>\n",
              "      <td></td>\n",
              "      <td></td>\n",
              "    </tr>\n",
              "    <tr>\n",
              "      <th>4759</th>\n",
              "      <td>Documentary</td>\n",
              "      <td>music actors legendary perfomer classic hollyw...</td>\n",
              "      <td></td>\n",
              "      <td>Tony Oppedisano</td>\n",
              "      <td>Simon Napier-Bell</td>\n",
              "    </tr>\n",
              "  </tbody>\n",
              "</table>\n",
              "<p>4760 rows × 5 columns</p>\n",
              "</div>\n",
              "    <div class=\"colab-df-buttons\">\n",
              "\n",
              "  <div class=\"colab-df-container\">\n",
              "    <button class=\"colab-df-convert\" onclick=\"convertToInteractive('df-8ad12170-a13e-43dc-86bb-a6ab6797b1dd')\"\n",
              "            title=\"Convert this dataframe to an interactive table.\"\n",
              "            style=\"display:none;\">\n",
              "\n",
              "  <svg xmlns=\"http://www.w3.org/2000/svg\" height=\"24px\" viewBox=\"0 -960 960 960\">\n",
              "    <path d=\"M120-120v-720h720v720H120Zm60-500h600v-160H180v160Zm220 220h160v-160H400v160Zm0 220h160v-160H400v160ZM180-400h160v-160H180v160Zm440 0h160v-160H620v160ZM180-180h160v-160H180v160Zm440 0h160v-160H620v160Z\"/>\n",
              "  </svg>\n",
              "    </button>\n",
              "\n",
              "  <style>\n",
              "    .colab-df-container {\n",
              "      display:flex;\n",
              "      gap: 12px;\n",
              "    }\n",
              "\n",
              "    .colab-df-convert {\n",
              "      background-color: #E8F0FE;\n",
              "      border: none;\n",
              "      border-radius: 50%;\n",
              "      cursor: pointer;\n",
              "      display: none;\n",
              "      fill: #1967D2;\n",
              "      height: 32px;\n",
              "      padding: 0 0 0 0;\n",
              "      width: 32px;\n",
              "    }\n",
              "\n",
              "    .colab-df-convert:hover {\n",
              "      background-color: #E2EBFA;\n",
              "      box-shadow: 0px 1px 2px rgba(60, 64, 67, 0.3), 0px 1px 3px 1px rgba(60, 64, 67, 0.15);\n",
              "      fill: #174EA6;\n",
              "    }\n",
              "\n",
              "    .colab-df-buttons div {\n",
              "      margin-bottom: 4px;\n",
              "    }\n",
              "\n",
              "    [theme=dark] .colab-df-convert {\n",
              "      background-color: #3B4455;\n",
              "      fill: #D2E3FC;\n",
              "    }\n",
              "\n",
              "    [theme=dark] .colab-df-convert:hover {\n",
              "      background-color: #434B5C;\n",
              "      box-shadow: 0px 1px 3px 1px rgba(0, 0, 0, 0.15);\n",
              "      filter: drop-shadow(0px 1px 2px rgba(0, 0, 0, 0.3));\n",
              "      fill: #FFFFFF;\n",
              "    }\n",
              "  </style>\n",
              "\n",
              "    <script>\n",
              "      const buttonEl =\n",
              "        document.querySelector('#df-8ad12170-a13e-43dc-86bb-a6ab6797b1dd button.colab-df-convert');\n",
              "      buttonEl.style.display =\n",
              "        google.colab.kernel.accessAllowed ? 'block' : 'none';\n",
              "\n",
              "      async function convertToInteractive(key) {\n",
              "        const element = document.querySelector('#df-8ad12170-a13e-43dc-86bb-a6ab6797b1dd');\n",
              "        const dataTable =\n",
              "          await google.colab.kernel.invokeFunction('convertToInteractive',\n",
              "                                                    [key], {});\n",
              "        if (!dataTable) return;\n",
              "\n",
              "        const docLinkHtml = 'Like what you see? Visit the ' +\n",
              "          '<a target=\"_blank\" href=https://colab.research.google.com/notebooks/data_table.ipynb>data table notebook</a>'\n",
              "          + ' to learn more about interactive tables.';\n",
              "        element.innerHTML = '';\n",
              "        dataTable['output_type'] = 'display_data';\n",
              "        await google.colab.output.renderOutput(dataTable, element);\n",
              "        const docLink = document.createElement('div');\n",
              "        docLink.innerHTML = docLinkHtml;\n",
              "        element.appendChild(docLink);\n",
              "      }\n",
              "    </script>\n",
              "  </div>\n",
              "\n",
              "\n",
              "<div id=\"df-ce88fc1a-aa7a-4d89-981c-26a0c72f880c\">\n",
              "  <button class=\"colab-df-quickchart\" onclick=\"quickchart('df-ce88fc1a-aa7a-4d89-981c-26a0c72f880c')\"\n",
              "            title=\"Suggest charts\"\n",
              "            style=\"display:none;\">\n",
              "\n",
              "<svg xmlns=\"http://www.w3.org/2000/svg\" height=\"24px\"viewBox=\"0 0 24 24\"\n",
              "     width=\"24px\">\n",
              "    <g>\n",
              "        <path d=\"M19 3H5c-1.1 0-2 .9-2 2v14c0 1.1.9 2 2 2h14c1.1 0 2-.9 2-2V5c0-1.1-.9-2-2-2zM9 17H7v-7h2v7zm4 0h-2V7h2v10zm4 0h-2v-4h2v4z\"/>\n",
              "    </g>\n",
              "</svg>\n",
              "  </button>\n",
              "\n",
              "<style>\n",
              "  .colab-df-quickchart {\n",
              "      --bg-color: #E8F0FE;\n",
              "      --fill-color: #1967D2;\n",
              "      --hover-bg-color: #E2EBFA;\n",
              "      --hover-fill-color: #174EA6;\n",
              "      --disabled-fill-color: #AAA;\n",
              "      --disabled-bg-color: #DDD;\n",
              "  }\n",
              "\n",
              "  [theme=dark] .colab-df-quickchart {\n",
              "      --bg-color: #3B4455;\n",
              "      --fill-color: #D2E3FC;\n",
              "      --hover-bg-color: #434B5C;\n",
              "      --hover-fill-color: #FFFFFF;\n",
              "      --disabled-bg-color: #3B4455;\n",
              "      --disabled-fill-color: #666;\n",
              "  }\n",
              "\n",
              "  .colab-df-quickchart {\n",
              "    background-color: var(--bg-color);\n",
              "    border: none;\n",
              "    border-radius: 50%;\n",
              "    cursor: pointer;\n",
              "    display: none;\n",
              "    fill: var(--fill-color);\n",
              "    height: 32px;\n",
              "    padding: 0;\n",
              "    width: 32px;\n",
              "  }\n",
              "\n",
              "  .colab-df-quickchart:hover {\n",
              "    background-color: var(--hover-bg-color);\n",
              "    box-shadow: 0 1px 2px rgba(60, 64, 67, 0.3), 0 1px 3px 1px rgba(60, 64, 67, 0.15);\n",
              "    fill: var(--button-hover-fill-color);\n",
              "  }\n",
              "\n",
              "  .colab-df-quickchart-complete:disabled,\n",
              "  .colab-df-quickchart-complete:disabled:hover {\n",
              "    background-color: var(--disabled-bg-color);\n",
              "    fill: var(--disabled-fill-color);\n",
              "    box-shadow: none;\n",
              "  }\n",
              "\n",
              "  .colab-df-spinner {\n",
              "    border: 2px solid var(--fill-color);\n",
              "    border-color: transparent;\n",
              "    border-bottom-color: var(--fill-color);\n",
              "    animation:\n",
              "      spin 1s steps(1) infinite;\n",
              "  }\n",
              "\n",
              "  @keyframes spin {\n",
              "    0% {\n",
              "      border-color: transparent;\n",
              "      border-bottom-color: var(--fill-color);\n",
              "      border-left-color: var(--fill-color);\n",
              "    }\n",
              "    20% {\n",
              "      border-color: transparent;\n",
              "      border-left-color: var(--fill-color);\n",
              "      border-top-color: var(--fill-color);\n",
              "    }\n",
              "    30% {\n",
              "      border-color: transparent;\n",
              "      border-left-color: var(--fill-color);\n",
              "      border-top-color: var(--fill-color);\n",
              "      border-right-color: var(--fill-color);\n",
              "    }\n",
              "    40% {\n",
              "      border-color: transparent;\n",
              "      border-right-color: var(--fill-color);\n",
              "      border-top-color: var(--fill-color);\n",
              "    }\n",
              "    60% {\n",
              "      border-color: transparent;\n",
              "      border-right-color: var(--fill-color);\n",
              "    }\n",
              "    80% {\n",
              "      border-color: transparent;\n",
              "      border-right-color: var(--fill-color);\n",
              "      border-bottom-color: var(--fill-color);\n",
              "    }\n",
              "    90% {\n",
              "      border-color: transparent;\n",
              "      border-bottom-color: var(--fill-color);\n",
              "    }\n",
              "  }\n",
              "</style>\n",
              "\n",
              "  <script>\n",
              "    async function quickchart(key) {\n",
              "      const quickchartButtonEl =\n",
              "        document.querySelector('#' + key + ' button');\n",
              "      quickchartButtonEl.disabled = true;  // To prevent multiple clicks.\n",
              "      quickchartButtonEl.classList.add('colab-df-spinner');\n",
              "      try {\n",
              "        const charts = await google.colab.kernel.invokeFunction(\n",
              "            'suggestCharts', [key], {});\n",
              "      } catch (error) {\n",
              "        console.error('Error during call to suggestCharts:', error);\n",
              "      }\n",
              "      quickchartButtonEl.classList.remove('colab-df-spinner');\n",
              "      quickchartButtonEl.classList.add('colab-df-quickchart-complete');\n",
              "    }\n",
              "    (() => {\n",
              "      let quickchartButtonEl =\n",
              "        document.querySelector('#df-ce88fc1a-aa7a-4d89-981c-26a0c72f880c button');\n",
              "      quickchartButtonEl.style.display =\n",
              "        google.colab.kernel.accessAllowed ? 'block' : 'none';\n",
              "    })();\n",
              "  </script>\n",
              "</div>\n",
              "\n",
              "  <div id=\"id_9edc7b7a-6ca5-4c85-975d-e16a6bedd17d\">\n",
              "    <style>\n",
              "      .colab-df-generate {\n",
              "        background-color: #E8F0FE;\n",
              "        border: none;\n",
              "        border-radius: 50%;\n",
              "        cursor: pointer;\n",
              "        display: none;\n",
              "        fill: #1967D2;\n",
              "        height: 32px;\n",
              "        padding: 0 0 0 0;\n",
              "        width: 32px;\n",
              "      }\n",
              "\n",
              "      .colab-df-generate:hover {\n",
              "        background-color: #E2EBFA;\n",
              "        box-shadow: 0px 1px 2px rgba(60, 64, 67, 0.3), 0px 1px 3px 1px rgba(60, 64, 67, 0.15);\n",
              "        fill: #174EA6;\n",
              "      }\n",
              "\n",
              "      [theme=dark] .colab-df-generate {\n",
              "        background-color: #3B4455;\n",
              "        fill: #D2E3FC;\n",
              "      }\n",
              "\n",
              "      [theme=dark] .colab-df-generate:hover {\n",
              "        background-color: #434B5C;\n",
              "        box-shadow: 0px 1px 3px 1px rgba(0, 0, 0, 0.15);\n",
              "        filter: drop-shadow(0px 1px 2px rgba(0, 0, 0, 0.3));\n",
              "        fill: #FFFFFF;\n",
              "      }\n",
              "    </style>\n",
              "    <button class=\"colab-df-generate\" onclick=\"generateWithVariable('df_ft')\"\n",
              "            title=\"Generate code using this dataframe.\"\n",
              "            style=\"display:none;\">\n",
              "\n",
              "  <svg xmlns=\"http://www.w3.org/2000/svg\" height=\"24px\"viewBox=\"0 0 24 24\"\n",
              "       width=\"24px\">\n",
              "    <path d=\"M7,19H8.4L18.45,9,17,7.55,7,17.6ZM5,21V16.75L18.45,3.32a2,2,0,0,1,2.83,0l1.4,1.43a1.91,1.91,0,0,1,.58,1.4,1.91,1.91,0,0,1-.58,1.4L9.25,21ZM18.45,9,17,7.55Zm-12,3A5.31,5.31,0,0,0,4.9,8.1,5.31,5.31,0,0,0,1,6.5,5.31,5.31,0,0,0,4.9,4.9,5.31,5.31,0,0,0,6.5,1,5.31,5.31,0,0,0,8.1,4.9,5.31,5.31,0,0,0,12,6.5,5.46,5.46,0,0,0,6.5,12Z\"/>\n",
              "  </svg>\n",
              "    </button>\n",
              "    <script>\n",
              "      (() => {\n",
              "      const buttonEl =\n",
              "        document.querySelector('#id_9edc7b7a-6ca5-4c85-975d-e16a6bedd17d button.colab-df-generate');\n",
              "      buttonEl.style.display =\n",
              "        google.colab.kernel.accessAllowed ? 'block' : 'none';\n",
              "\n",
              "      buttonEl.onclick = () => {\n",
              "        google.colab.notebook.generateWithVariable('df_ft');\n",
              "      }\n",
              "      })();\n",
              "    </script>\n",
              "  </div>\n",
              "\n",
              "    </div>\n",
              "  </div>\n"
            ],
            "application/vnd.google.colaboratory.intrinsic+json": {
              "type": "dataframe",
              "variable_name": "df_ft",
              "summary": "{\n  \"name\": \"df_ft\",\n  \"rows\": 4760,\n  \"fields\": [\n    {\n      \"column\": \"Movie_Genre\",\n      \"properties\": {\n        \"dtype\": \"category\",\n        \"num_unique_values\": 1164,\n        \"samples\": [\n          \"Family Animation Adventure\",\n          \"Adventure Science Fiction Action\",\n          \"Action Crime Drama Romance Thriller\"\n        ],\n        \"semantic_type\": \"\",\n        \"description\": \"\"\n      }\n    },\n    {\n      \"column\": \"Movie_Keywords\",\n      \"properties\": {\n        \"dtype\": \"string\",\n        \"num_unique_values\": 4203,\n        \"samples\": [\n          \"canada nazis sequel spin off ancient evil\",\n          \"sex professor wedding woman director columbia university\",\n          \"prophecy sea beach gold small town\"\n        ],\n        \"semantic_type\": \"\",\n        \"description\": \"\"\n      }\n    },\n    {\n      \"column\": \"Movie_Tagline\",\n      \"properties\": {\n        \"dtype\": \"string\",\n        \"num_unique_values\": 3928,\n        \"samples\": [\n          \"The messenger must be silenced.\",\n          \"It's not the house that's haunted.\",\n          \"The final hunt begins.\"\n        ],\n        \"semantic_type\": \"\",\n        \"description\": \"\"\n      }\n    },\n    {\n      \"column\": \"Movie_Cast\",\n      \"properties\": {\n        \"dtype\": \"string\",\n        \"num_unique_values\": 4715,\n        \"samples\": [\n          \"Robin Tunney Fairuza Balk Neve Campbell Rachel True Skeet Ulrich\",\n          \"Peter Sellers Christopher Plummer Herbert Lom Catherine Schell Peter Arne\",\n          \"John Wayne Laraine Day Cedric Hardwicke Judith Anderson Anthony Quinn\"\n        ],\n        \"semantic_type\": \"\",\n        \"description\": \"\"\n      }\n    },\n    {\n      \"column\": \"Movie_Director\",\n      \"properties\": {\n        \"dtype\": \"category\",\n        \"num_unique_values\": 2332,\n        \"samples\": [\n          \"Rob McKittrick\",\n          \"Terron R. Parsons\",\n          \"Cyrus Nowrasteh\"\n        ],\n        \"semantic_type\": \"\",\n        \"description\": \"\"\n      }\n    }\n  ]\n}"
            }
          },
          "metadata": {},
          "execution_count": 52
        }
      ]
    },
    {
      "cell_type": "code",
      "source": [
        "X = df_ft['Movie_Genre'] + ' ' + df_ft['Movie_Keywords'] + ' ' + df_ft['Movie_Tagline'] + ' ' + df_ft['Movie_Cast'] + ' ' + df_ft['Movie_Director']"
      ],
      "metadata": {
        "id": "e9yaj5iJqRMO"
      },
      "execution_count": null,
      "outputs": []
    },
    {
      "cell_type": "code",
      "source": [
        "X"
      ],
      "metadata": {
        "colab": {
          "base_uri": "https://localhost:8080/",
          "height": 458
        },
        "id": "fpyTJSJyqf5q",
        "outputId": "ab033598-4b28-4787-8109-0a29bc7414b8"
      },
      "execution_count": null,
      "outputs": [
        {
          "output_type": "execute_result",
          "data": {
            "text/plain": [
              "0       Crime Comedy hotel new year's eve witch bet ho...\n",
              "1       Adventure Action Science Fiction android galax...\n",
              "2       Animation Family father son relationship harbo...\n",
              "3       Comedy Drama Romance vietnam veteran hippie me...\n",
              "4       Drama male nudity female nudity adultery midli...\n",
              "                              ...                        \n",
              "4755    Horror  The hot spot where Satan's waitin'. Li...\n",
              "4756    Comedy Family Drama  It’s better to stand out ...\n",
              "4757    Thriller Drama christian film sex trafficking ...\n",
              "4758                                           Family    \n",
              "4759    Documentary music actors legendary perfomer cl...\n",
              "Length: 4760, dtype: object"
            ],
            "text/html": [
              "<div>\n",
              "<style scoped>\n",
              "    .dataframe tbody tr th:only-of-type {\n",
              "        vertical-align: middle;\n",
              "    }\n",
              "\n",
              "    .dataframe tbody tr th {\n",
              "        vertical-align: top;\n",
              "    }\n",
              "\n",
              "    .dataframe thead th {\n",
              "        text-align: right;\n",
              "    }\n",
              "</style>\n",
              "<table border=\"1\" class=\"dataframe\">\n",
              "  <thead>\n",
              "    <tr style=\"text-align: right;\">\n",
              "      <th></th>\n",
              "      <th>0</th>\n",
              "    </tr>\n",
              "  </thead>\n",
              "  <tbody>\n",
              "    <tr>\n",
              "      <th>0</th>\n",
              "      <td>Crime Comedy hotel new year's eve witch bet ho...</td>\n",
              "    </tr>\n",
              "    <tr>\n",
              "      <th>1</th>\n",
              "      <td>Adventure Action Science Fiction android galax...</td>\n",
              "    </tr>\n",
              "    <tr>\n",
              "      <th>2</th>\n",
              "      <td>Animation Family father son relationship harbo...</td>\n",
              "    </tr>\n",
              "    <tr>\n",
              "      <th>3</th>\n",
              "      <td>Comedy Drama Romance vietnam veteran hippie me...</td>\n",
              "    </tr>\n",
              "    <tr>\n",
              "      <th>4</th>\n",
              "      <td>Drama male nudity female nudity adultery midli...</td>\n",
              "    </tr>\n",
              "    <tr>\n",
              "      <th>...</th>\n",
              "      <td>...</td>\n",
              "    </tr>\n",
              "    <tr>\n",
              "      <th>4755</th>\n",
              "      <td>Horror  The hot spot where Satan's waitin'. Li...</td>\n",
              "    </tr>\n",
              "    <tr>\n",
              "      <th>4756</th>\n",
              "      <td>Comedy Family Drama  It’s better to stand out ...</td>\n",
              "    </tr>\n",
              "    <tr>\n",
              "      <th>4757</th>\n",
              "      <td>Thriller Drama christian film sex trafficking ...</td>\n",
              "    </tr>\n",
              "    <tr>\n",
              "      <th>4758</th>\n",
              "      <td>Family</td>\n",
              "    </tr>\n",
              "    <tr>\n",
              "      <th>4759</th>\n",
              "      <td>Documentary music actors legendary perfomer cl...</td>\n",
              "    </tr>\n",
              "  </tbody>\n",
              "</table>\n",
              "<p>4760 rows × 1 columns</p>\n",
              "</div><br><label><b>dtype:</b> object</label>"
            ]
          },
          "metadata": {},
          "execution_count": 54
        }
      ]
    },
    {
      "cell_type": "code",
      "source": [
        "X.shape"
      ],
      "metadata": {
        "colab": {
          "base_uri": "https://localhost:8080/"
        },
        "id": "gturzM7Rqibh",
        "outputId": "bfb8a863-a365-4305-e0d5-3378ca1acb8a"
      },
      "execution_count": null,
      "outputs": [
        {
          "output_type": "execute_result",
          "data": {
            "text/plain": [
              "(4760,)"
            ]
          },
          "metadata": {},
          "execution_count": 55
        }
      ]
    },
    {
      "cell_type": "markdown",
      "source": [
        "# **Get Feature Text Conversion to Tokens**"
      ],
      "metadata": {
        "id": "smgvJsXXsVe-"
      }
    },
    {
      "cell_type": "code",
      "source": [
        "from sklearn.feature_extraction.text import TfidfVectorizer"
      ],
      "metadata": {
        "id": "S91FtU2Vqrdu"
      },
      "execution_count": null,
      "outputs": []
    },
    {
      "cell_type": "code",
      "source": [
        "tfidf = TfidfVectorizer()"
      ],
      "metadata": {
        "id": "7XC3zyAHqu7K"
      },
      "execution_count": null,
      "outputs": []
    },
    {
      "cell_type": "code",
      "source": [
        "X = tfidf.fit_transform(X)"
      ],
      "metadata": {
        "id": "P0M_r3wPq0aa"
      },
      "execution_count": null,
      "outputs": []
    },
    {
      "cell_type": "code",
      "source": [
        "X.shape"
      ],
      "metadata": {
        "colab": {
          "base_uri": "https://localhost:8080/"
        },
        "id": "IPs3S2BSq_oi",
        "outputId": "0f3dca16-8cb1-4478-dfd2-28b5b28ac080"
      },
      "execution_count": null,
      "outputs": [
        {
          "output_type": "execute_result",
          "data": {
            "text/plain": [
              "(4760, 17258)"
            ]
          },
          "metadata": {},
          "execution_count": 59
        }
      ]
    },
    {
      "cell_type": "code",
      "source": [
        "print(X)"
      ],
      "metadata": {
        "colab": {
          "base_uri": "https://localhost:8080/"
        },
        "id": "ioSNJOrZrCyh",
        "outputId": "ddafaa52-779c-4d28-d529-8ce2801af658"
      },
      "execution_count": null,
      "outputs": [
        {
          "output_type": "stream",
          "name": "stdout",
          "text": [
            "  (0, 617)\t0.1633382144407513\n",
            "  (0, 492)\t0.1432591540388685\n",
            "  (0, 15413)\t0.1465525095337543\n",
            "  (0, 9675)\t0.14226057295252661\n",
            "  (0, 9465)\t0.1659841367820977\n",
            "  (0, 1390)\t0.16898383612799558\n",
            "  (0, 7825)\t0.09799561597509843\n",
            "  (0, 1214)\t0.13865857545144072\n",
            "  (0, 729)\t0.13415063359531618\n",
            "  (0, 13093)\t0.1432591540388685\n",
            "  (0, 15355)\t0.10477815972666779\n",
            "  (0, 9048)\t0.0866842116160778\n",
            "  (0, 11161)\t0.06250380151644369\n",
            "  (0, 16773)\t0.17654247479915475\n",
            "  (0, 5612)\t0.08603537588547631\n",
            "  (0, 16735)\t0.10690083751525419\n",
            "  (0, 7904)\t0.13348000542112332\n",
            "  (0, 15219)\t0.09800472886453934\n",
            "  (0, 11242)\t0.07277788238484746\n",
            "  (0, 3878)\t0.11998399582562203\n",
            "  (0, 5499)\t0.11454057510303811\n",
            "  (0, 7071)\t0.19822417598406614\n",
            "  (0, 7454)\t0.14745635785412262\n",
            "  (0, 1495)\t0.19712637387361423\n",
            "  (0, 9206)\t0.15186283580984414\n",
            "  :\t:\n",
            "  (4757, 5455)\t0.12491480594769522\n",
            "  (4757, 2967)\t0.16273475835631626\n",
            "  (4757, 8464)\t0.23522565554066333\n",
            "  (4757, 6938)\t0.17088173678136628\n",
            "  (4757, 8379)\t0.17480603856721913\n",
            "  (4757, 15303)\t0.07654356007668191\n",
            "  (4757, 15384)\t0.09754322497537371\n",
            "  (4757, 7649)\t0.11479421494340192\n",
            "  (4757, 10896)\t0.14546473055066447\n",
            "  (4757, 4494)\t0.05675298448720501\n",
            "  (4758, 5238)\t1.0\n",
            "  (4759, 11264)\t0.33947721804318337\n",
            "  (4759, 11708)\t0.33947721804318337\n",
            "  (4759, 205)\t0.3237911628497312\n",
            "  (4759, 8902)\t0.3040290704566037\n",
            "  (4759, 14062)\t0.3237911628497312\n",
            "  (4759, 3058)\t0.2812896191863103\n",
            "  (4759, 7130)\t0.26419662449963793\n",
            "  (4759, 10761)\t0.3126617295732147\n",
            "  (4759, 4358)\t0.18306542312175342\n",
            "  (4759, 14051)\t0.20084315377640435\n",
            "  (4759, 5690)\t0.19534291014627303\n",
            "  (4759, 15431)\t0.19628653185946862\n",
            "  (4759, 1490)\t0.21197258705292082\n",
            "  (4759, 10666)\t0.15888268987343043\n"
          ]
        }
      ]
    },
    {
      "cell_type": "markdown",
      "source": [
        "# **Get Similarity Score using Cosine Similarity**"
      ],
      "metadata": {
        "id": "UU7G8CHysmTt"
      }
    },
    {
      "cell_type": "code",
      "source": [
        "from sklearn.metrics.pairwise import cosine_similarity"
      ],
      "metadata": {
        "id": "zPH1DGB2rLOM"
      },
      "execution_count": null,
      "outputs": []
    },
    {
      "cell_type": "code",
      "source": [
        "Similarity_Score = cosine_similarity(X)"
      ],
      "metadata": {
        "id": "E5Rcxl8PrU8T"
      },
      "execution_count": null,
      "outputs": []
    },
    {
      "cell_type": "code",
      "source": [
        "Similarity_Score"
      ],
      "metadata": {
        "colab": {
          "base_uri": "https://localhost:8080/"
        },
        "id": "KfGj_nl2rZZe",
        "outputId": "c12320e2-4c88-4c86-c86a-d98703bd18e0"
      },
      "execution_count": null,
      "outputs": [
        {
          "output_type": "execute_result",
          "data": {
            "text/plain": [
              "array([[1.        , 0.01351235, 0.03570468, ..., 0.        , 0.        ,\n",
              "        0.        ],\n",
              "       [0.01351235, 1.        , 0.00806674, ..., 0.        , 0.        ,\n",
              "        0.        ],\n",
              "       [0.03570468, 0.00806674, 1.        , ..., 0.        , 0.08014876,\n",
              "        0.        ],\n",
              "       ...,\n",
              "       [0.        , 0.        , 0.        , ..., 1.        , 0.        ,\n",
              "        0.        ],\n",
              "       [0.        , 0.        , 0.08014876, ..., 0.        , 1.        ,\n",
              "        0.        ],\n",
              "       [0.        , 0.        , 0.        , ..., 0.        , 0.        ,\n",
              "        1.        ]])"
            ]
          },
          "metadata": {},
          "execution_count": 63
        }
      ]
    },
    {
      "cell_type": "code",
      "source": [
        "Similarity_Score.shape"
      ],
      "metadata": {
        "colab": {
          "base_uri": "https://localhost:8080/"
        },
        "id": "L-3wyF96rb_N",
        "outputId": "373fa9d7-6a82-4cd0-8602-47c91b8c7853"
      },
      "execution_count": null,
      "outputs": [
        {
          "output_type": "execute_result",
          "data": {
            "text/plain": [
              "(4760, 4760)"
            ]
          },
          "metadata": {},
          "execution_count": 64
        }
      ]
    },
    {
      "cell_type": "markdown",
      "source": [
        "# **Take Input from the User**"
      ],
      "metadata": {
        "id": "UDNyWh6zs09k"
      }
    },
    {
      "cell_type": "code",
      "source": [
        "Fav_movie = input('Enter your favourite movie name: ')"
      ],
      "metadata": {
        "colab": {
          "base_uri": "https://localhost:8080/"
        },
        "id": "8JPayH1Brh8Z",
        "outputId": "e70f9515-ddab-458e-fb9a-c16a7dcaefb1"
      },
      "execution_count": null,
      "outputs": [
        {
          "name": "stdout",
          "output_type": "stream",
          "text": [
            "Enter your favourite movie name: darama\n"
          ]
        }
      ]
    },
    {
      "cell_type": "code",
      "source": [
        "Movie_title = df['Movie_Title'].tolist()"
      ],
      "metadata": {
        "id": "jCwNRrxXrusI"
      },
      "execution_count": null,
      "outputs": []
    },
    {
      "cell_type": "code",
      "source": [
        "import difflib"
      ],
      "metadata": {
        "id": "D856E6oir5eT"
      },
      "execution_count": null,
      "outputs": []
    },
    {
      "cell_type": "code",
      "source": [
        "MRecom = difflib.get_close_matches(Fav_movie, Movie_title)"
      ],
      "metadata": {
        "id": "5ZIaEUBXr9eA"
      },
      "execution_count": null,
      "outputs": []
    },
    {
      "cell_type": "code",
      "source": [
        "print(MRecom)"
      ],
      "metadata": {
        "colab": {
          "base_uri": "https://localhost:8080/"
        },
        "id": "tnRTPLNOsJhs",
        "outputId": "1c0f20a7-a92b-4a63-9575-08e651ff939d"
      },
      "execution_count": null,
      "outputs": [
        {
          "output_type": "stream",
          "name": "stdout",
          "text": [
            "['ParaNorman', 'Caramel', 'Mama']\n"
          ]
        }
      ]
    },
    {
      "cell_type": "code",
      "source": [
        "Index_of_close_match_movie = df[df.Movie_Title == MRecom[0]]['Movie_ID'].values[0]"
      ],
      "metadata": {
        "id": "a0lOvitqsRTV"
      },
      "execution_count": null,
      "outputs": []
    },
    {
      "cell_type": "code",
      "source": [
        "print(Index_of_close_match_movie)"
      ],
      "metadata": {
        "colab": {
          "base_uri": "https://localhost:8080/"
        },
        "id": "PSbUv4NKskCQ",
        "outputId": "825e2d25-bddb-4b76-dabf-7cc6739e9559"
      },
      "execution_count": null,
      "outputs": [
        {
          "output_type": "stream",
          "name": "stdout",
          "text": [
            "3806\n"
          ]
        }
      ]
    },
    {
      "cell_type": "code",
      "source": [
        "Recom_score = list(enumerate(Similarity_Score[Index_of_close_match_movie]))"
      ],
      "metadata": {
        "id": "L49bvh8Isn6n"
      },
      "execution_count": null,
      "outputs": []
    },
    {
      "cell_type": "code",
      "source": [
        "print(Recom_score)"
      ],
      "metadata": {
        "colab": {
          "base_uri": "https://localhost:8080/"
        },
        "id": "awGIzAiCtCre",
        "outputId": "06e064a9-be5e-4019-c7d8-c6a8ec63c727"
      },
      "execution_count": null,
      "outputs": [
        {
          "output_type": "stream",
          "name": "stdout",
          "text": [
            "[(0, 0.0), (1, 0.0), (2, 0.0), (3, 0.00776710431842658), (4, 0.0), (5, 0.008861494764198792), (6, 0.013336428079585846), (7, 0.0), (8, 0.0), (9, 0.0), (10, 0.0), (11, 0.0), (12, 0.008450524290911594), (13, 0.0), (14, 0.0), (15, 0.04106753853219877), (16, 0.003735648170188965), (17, 0.008406067316190119), (18, 0.004297686115461116), (19, 0.0), (20, 0.008277094204565256), (21, 0.004792931270822528), (22, 0.0), (23, 0.00824639197266124), (24, 0.020673703381356875), (25, 0.013091840312090652), (26, 0.0), (27, 0.004655731900428073), (28, 0.0), (29, 0.0), (30, 0.004516384265383975), (31, 0.004215142948213054), (32, 0.0), (33, 0.007808069311097977), (34, 0.01385741810669339), (35, 0.0), (36, 0.0), (37, 0.007223977623307545), (38, 0.009043442393710055), (39, 0.004500344853836826), (40, 0.0), (41, 0.0), (42, 0.0), (43, 0.0), (44, 0.011085575098322474), (45, 0.0), (46, 0.054211089096932105), (47, 0.003978213008507207), (48, 0.013657768670101244), (49, 0.0), (50, 0.0), (51, 0.004715535812960634), (52, 0.012733127732395563), (53, 0.0074986187697248345), (54, 0.0), (55, 0.008268616467333857), (56, 0.00805691458027924), (57, 0.0), (58, 0.0), (59, 0.0), (60, 0.051912707712859885), (61, 0.008722837685195143), (62, 0.008736781318103307), (63, 0.0), (64, 0.006627752612474859), (65, 0.03730062968587724), (66, 0.0), (67, 0.0040641962951211376), (68, 0.004753336349483213), (69, 0.004921191464610117), (70, 0.014565711604521681), (71, 0.0), (72, 0.012021347194108554), (73, 0.0), (74, 0.009396564244376428), (75, 0.024946276340421614), (76, 0.003657027587670744), (77, 0.00337791681595869), (78, 0.003767459062829377), (79, 0.0), (80, 0.004106673518822642), (81, 0.0), (82, 0.0), (83, 0.004541799141867742), (84, 0.02078724013566117), (85, 0.007612742115697974), (86, 0.0), (87, 0.00432663802075707), (88, 0.010983884397473949), (89, 0.013975939155548501), (90, 0.004382765596799395), (91, 0.0), (92, 0.0), (93, 0.01187209253280154), (94, 0.004115879680004344), (95, 0.00461040027294063), (96, 0.016354403783478483), (97, 0.0), (98, 0.0), (99, 0.011517309003807688), (100, 0.0), (101, 0.0), (102, 0.013542032485463651), (103, 0.0), (104, 0.0), (105, 0.0), (106, 0.0), (107, 0.014058306605747108), (108, 0.0), (109, 0.00880843768316252), (110, 0.0), (111, 0.0), (112, 0.0043149252393209344), (113, 0.0), (114, 0.0), (115, 0.009034189823807168), (116, 0.0042300805117038865), (117, 0.0), (118, 0.01271838435607335), (119, 0.0), (120, 0.0), (121, 0.0), (122, 0.008138818435735537), (123, 0.0), (124, 0.004092524860768501), (125, 0.005130985452723122), (126, 0.016672156063164165), (127, 0.0163079369629274), (128, 0.004972139425600995), (129, 0.0), (130, 0.0), (131, 0.0), (132, 0.0), (133, 0.0), (134, 0.0), (135, 0.004478093654550419), (136, 0.0), (137, 0.004614408824671868), (138, 0.011901646292643623), (139, 0.0), (140, 0.0), (141, 0.0), (142, 0.0), (143, 0.0), (144, 0.004259263067496162), (145, 0.03874520096854006), (146, 0.0), (147, 0.0038776113636976037), (148, 0.004067207683992782), (149, 0.010997123401112363), (150, 0.0), (151, 0.0), (152, 0.004352516274796743), (153, 0.0), (154, 0.0), (155, 0.0), (156, 0.0), (157, 0.0), (158, 0.0), (159, 0.0), (160, 0.012206440439632236), (161, 0.0), (162, 0.0), (163, 0.0), (164, 0.0), (165, 0.0), (166, 0.011761113332082119), (167, 0.015289534472998108), (168, 0.00621933153111373), (169, 0.00777482751468492), (170, 0.011230873146267913), (171, 0.0), (172, 0.0), (173, 0.0), (174, 0.0), (175, 0.0), (176, 0.0), (177, 0.0), (178, 0.0), (179, 0.0), (180, 0.0), (181, 0.0), (182, 0.008905658642729715), (183, 0.0), (184, 0.0), (185, 0.0), (186, 0.0), (187, 0.003931330709293476), (188, 0.0), (189, 0.013790462978639204), (190, 0.003824722059774586), (191, 0.01105938901800201), (192, 0.019111777495640435), (193, 0.008366718157176462), (194, 0.0), (195, 0.007426276533294937), (196, 0.0), (197, 0.0), (198, 0.017928727319991237), (199, 0.0040867091842198685), (200, 0.0039602775124738575), (201, 0.004676156758890897), (202, 0.0), (203, 0.026281100127773908), (204, 0.03824822907395363), (205, 0.0), (206, 0.0), (207, 0.005062432125563713), (208, 0.0047583186059590955), (209, 0.0), (210, 0.004830414667406356), (211, 0.0), (212, 0.0), (213, 0.008223122629069136), (214, 0.0), (215, 0.0), (216, 0.0), (217, 0.0), (218, 0.0), (219, 0.0080514857153272), (220, 0.036139032128772154), (221, 0.0), (222, 0.0039448330089159045), (223, 0.007620164250330609), (224, 0.0), (225, 0.009100922461771608), (226, 0.007912271199459978), (227, 0.0), (228, 0.0059932096058246094), (229, 0.0), (230, 0.0), (231, 0.0), (232, 0.0), (233, 0.004423526371856223), (234, 0.010668005975397634), (235, 0.0), (236, 0.004209964515125491), (237, 0.007167813167913436), (238, 0.0045712707911332836), (239, 0.004753990891394833), (240, 0.012326385076256982), (241, 0.004470937874716151), (242, 0.006851414083828715), (243, 0.003155428291518204), (244, 0.013027751499541756), (245, 0.0), (246, 0.0), (247, 0.0), (248, 0.008173550948316217), (249, 0.04743070658507084), (250, 0.00501526327668043), (251, 0.0322393575807231), (252, 0.0), (253, 0.00865184349751471), (254, 0.0), (255, 0.004693343528717412), (256, 0.026402640216959778), (257, 0.020727234795055945), (258, 0.0), (259, 0.0), (260, 0.004251087918030297), (261, 0.004324221761842301), (262, 0.0), (263, 0.0), (264, 0.0), (265, 0.0), (266, 0.04306998597369803), (267, 0.0), (268, 0.0), (269, 0.0), (270, 0.009240201937708803), (271, 0.0034348728829861766), (272, 0.007910990454930433), (273, 0.004349322867217095), (274, 0.0), (275, 0.031408630817636014), (276, 0.004225978843869793), (277, 0.0), (278, 0.0), (279, 0.0), (280, 0.0), (281, 0.0), (282, 0.0077958944730129815), (283, 0.023164046762199988), (284, 0.004274342635312166), (285, 0.0), (286, 0.0), (287, 0.0), (288, 0.003806246025122282), (289, 0.003597210922005424), (290, 0.0036573437269675057), (291, 0.04700980503256097), (292, 0.0), (293, 0.0), (294, 0.016904200417604605), (295, 0.010108535647809752), (296, 0.003359124615559725), (297, 0.0), (298, 0.008266366734671406), (299, 0.0), (300, 0.0), (301, 0.0), (302, 0.0), (303, 0.004863535172262738), (304, 0.020423292298848532), (305, 0.004477598599104467), (306, 0.01142049555478494), (307, 0.0), (308, 0.0), (309, 0.0), (310, 0.004306173691302684), (311, 0.0), (312, 0.0), (313, 0.004644867894994644), (314, 0.0037570944595339026), (315, 0.00449573294763973), (316, 0.004153848750246763), (317, 0.0), (318, 0.0), (319, 0.0), (320, 0.035835872044781364), (321, 0.004350213038853695), (322, 0.012205815270866444), (323, 0.004009126640551877), (324, 0.0), (325, 0.0), (326, 0.0), (327, 0.025316767268754127), (328, 0.0), (329, 0.012024408000237491), (330, 0.0), (331, 0.0), (332, 0.003355933681378188), (333, 0.003986606039965134), (334, 0.011153585345083627), (335, 0.008167996231731237), (336, 0.005675356882929223), (337, 0.0), (338, 0.0), (339, 0.0), (340, 0.0), (341, 0.004825866914701026), (342, 0.0), (343, 0.0), (344, 0.0), (345, 0.0), (346, 0.0), (347, 0.012437275444084177), (348, 0.0), (349, 0.028806237291297707), (350, 0.004879319721700853), (351, 0.02266004861515468), (352, 0.0), (353, 0.008037011722314294), (354, 0.011343311114862694), (355, 0.0), (356, 0.011823336452314172), (357, 0.0), (358, 0.0), (359, 0.0), (360, 0.0042528019983728875), (361, 0.0), (362, 0.0), (363, 0.0), (364, 0.0), (365, 0.0), (366, 0.0), (367, 0.0), (368, 0.0), (369, 0.0), (370, 0.004474688364252027), (371, 0.004931890168251412), (372, 0.0), (373, 0.0), (374, 0.0), (375, 0.013161066946948038), (376, 0.0), (377, 0.00910328496405282), (378, 0.0), (379, 0.0), (380, 0.005148882583871264), (381, 0.0), (382, 0.0), (383, 0.0), (384, 0.0), (385, 0.0), (386, 0.0), (387, 0.0074632274753035355), (388, 0.008340606811918325), (389, 0.020218427508140444), (390, 0.0), (391, 0.0), (392, 0.0), (393, 0.0), (394, 0.0), (395, 0.009479280357442103), (396, 0.0), (397, 0.020254420608278347), (398, 0.0), (399, 0.0), (400, 0.0), (401, 0.0), (402, 0.0), (403, 0.0), (404, 0.0), (405, 0.0), (406, 0.004572780900003197), (407, 0.0), (408, 0.008353276389330614), (409, 0.0), (410, 0.0), (411, 0.0), (412, 0.02165440226975409), (413, 0.0), (414, 0.0), (415, 0.0), (416, 0.0), (417, 0.011513631548698503), (418, 0.02343173546360277), (419, 0.0), (420, 0.00481945070050349), (421, 0.006120094922965427), (422, 0.016695646119151388), (423, 0.02756788644510441), (424, 0.00508895507902901), (425, 0.05069005844722481), (426, 0.0041921407504291654), (427, 0.0084745765419955), (428, 0.0), (429, 0.004697202534435268), (430, 0.0), (431, 0.0), (432, 0.0), (433, 0.0036662064655261953), (434, 0.0), (435, 0.0036342869242514952), (436, 0.013868218296059966), (437, 0.0), (438, 0.01088687849566788), (439, 0.007866785008359207), (440, 0.01923320266464647), (441, 0.0), (442, 0.003716310356635865), (443, 0.06581040740417227), (444, 0.0), (445, 0.007563551660561206), (446, 0.0), (447, 0.04266946413247739), (448, 0.0), (449, 0.05488537425057653), (450, 0.004917989755478745), (451, 0.012448846201935673), (452, 0.0), (453, 0.0), (454, 0.028161213186210395), (455, 0.016846000049341694), (456, 0.0), (457, 0.03782170466826215), (458, 0.0050009837621382515), (459, 0.0), (460, 0.004461115485891853), (461, 0.0), (462, 0.0), (463, 0.011487609189144422), (464, 0.0), (465, 0.0), (466, 0.0), (467, 0.004418108971692872), (468, 0.00419404424389173), (469, 0.0037039427604918605), (470, 0.014045390737955014), (471, 0.0), (472, 0.008146823722592005), (473, 0.0), (474, 0.0), (475, 0.0), (476, 0.03260301056380157), (477, 0.006312280005076394), (478, 0.03361396888296671), (479, 0.0), (480, 0.0352759472182475), (481, 0.01448250571202861), (482, 0.0046781268435597545), (483, 0.0), (484, 0.0), (485, 0.0), (486, 0.0), (487, 0.0), (488, 0.0), (489, 0.0), (490, 0.0), (491, 0.0), (492, 0.0), (493, 0.013160601685140765), (494, 0.0), (495, 0.0), (496, 0.0), (497, 0.0), (498, 0.0), (499, 0.0), (500, 0.021599865319549525), (501, 0.004024674444600163), (502, 0.004692101096312627), (503, 0.0), (504, 0.0), (505, 0.0), (506, 0.0), (507, 0.0), (508, 0.0), (509, 0.004596326670686288), (510, 0.0728298141657169), (511, 0.03839167765599009), (512, 0.014732507648911208), (513, 0.004872143083384288), (514, 0.004860481436507897), (515, 0.00796394368414665), (516, 0.0), (517, 0.009181583797848), (518, 0.0), (519, 0.003957323114861339), (520, 0.0), (521, 0.0), (522, 0.0), (523, 0.013029948361082885), (524, 0.016210389728884545), (525, 0.0), (526, 0.0), (527, 0.0), (528, 0.0), (529, 0.0), (530, 0.01220166441069072), (531, 0.0), (532, 0.0041618604342934795), (533, 0.005041065179237905), (534, 0.004426655991632254), (535, 0.0), (536, 0.0), (537, 0.005101744339724347), (538, 0.0), (539, 0.0), (540, 0.004136542521021764), (541, 0.03418348287800913), (542, 0.00314294923724224), (543, 0.048786541115534265), (544, 0.0), (545, 0.006951599156964555), (546, 0.0), (547, 0.0), (548, 0.007420704932263873), (549, 0.0), (550, 0.004950529434743775), (551, 0.0), (552, 0.0), (553, 0.005627605777543768), (554, 0.0), (555, 0.0), (556, 0.0), (557, 0.0), (558, 0.0), (559, 0.003992985025111626), (560, 0.004495502954726404), (561, 0.0), (562, 0.009403697332017708), (563, 0.0342715026811318), (564, 0.0), (565, 0.008252144587303882), (566, 0.0), (567, 0.0), (568, 0.0073394033842037075), (569, 0.007250756455308078), (570, 0.0), (571, 0.0034556518873643236), (572, 0.0), (573, 0.0), (574, 0.0), (575, 0.00741193403744549), (576, 0.0), (577, 0.0070873513864464395), (578, 0.0), (579, 0.0), (580, 0.0046834551702562965), (581, 0.0040389531257668905), (582, 0.0), (583, 0.027507726652287488), (584, 0.00463757071245175), (585, 0.0), (586, 0.0), (587, 0.0), (588, 0.008222980004443598), (589, 0.014667739965749873), (590, 0.00413084875766306), (591, 0.0), (592, 0.0), (593, 0.0), (594, 0.0), (595, 0.004929208191315667), (596, 0.0), (597, 0.0), (598, 0.028271391506861098), (599, 0.0), (600, 0.0), (601, 0.0), (602, 0.0), (603, 0.008416820183527702), (604, 0.004122007579575512), (605, 0.00777425740093099), (606, 0.013751606994472029), (607, 0.012195495372934012), (608, 0.004062760423326127), (609, 0.0), (610, 0.0), (611, 0.0), (612, 0.0), (613, 0.008708643443564588), (614, 0.03407759107389998), (615, 0.0), (616, 0.0), (617, 0.003784065439857296), (618, 0.007725407841421893), (619, 0.004461176049243206), (620, 0.0), (621, 0.0037921178750870625), (622, 0.03632231437301135), (623, 0.0), (624, 0.0), (625, 0.003856978471209133), (626, 0.0), (627, 0.0), (628, 0.004518800927640254), (629, 0.0038702263634228912), (630, 0.0), (631, 0.0), (632, 0.0), (633, 0.0043908000941034475), (634, 0.0044028941356604925), (635, 0.004893291935982949), (636, 0.004526411213630531), (637, 0.004641254090354449), (638, 0.04188579433410382), (639, 0.00378463799202343), (640, 0.0037520830184490325), (641, 0.0), (642, 0.0038713448162047658), (643, 0.004343128049265763), (644, 0.004257659123520774), (645, 0.0), (646, 0.0), (647, 0.007752019483121884), (648, 0.03515277752692107), (649, 0.0), (650, 0.0), (651, 0.0), (652, 0.004584345175158668), (653, 0.01078457712486068), (654, 0.04504495188558908), (655, 0.042438727414563865), (656, 0.0), (657, 0.0), (658, 0.0), (659, 0.041473837178918734), (660, 0.012947886436016048), (661, 0.004204472270524701), (662, 0.0), (663, 0.0), (664, 0.0), (665, 0.0), (666, 0.0050434546120366845), (667, 0.00471211954411027), (668, 0.003545841566646237), (669, 0.004123897071528736), (670, 0.0055234926660238945), (671, 0.0), (672, 0.0), (673, 0.004890978395678304), (674, 0.0), (675, 0.013517526216267495), (676, 0.027360586611983685), (677, 0.009682674607891987), (678, 0.013512959621622139), (679, 0.0), (680, 0.008415718806626208), (681, 0.0), (682, 0.005040720651508563), (683, 0.008933597714055243), (684, 0.0), (685, 0.020862224970469467), (686, 0.0), (687, 0.01375214180964502), (688, 0.01475234784098171), (689, 0.01678468510357502), (690, 0.004170033480420587), (691, 0.0), (692, 0.0038737250904713914), (693, 0.0), (694, 0.020831463881182198), (695, 0.0041281629779229695), (696, 0.004511331291291891), (697, 0.008872140545047877), (698, 0.0), (699, 0.0), (700, 0.0), (701, 0.005003094263479776), (702, 0.0), (703, 0.007848107559663805), (704, 0.0), (705, 0.015643628488252542), (706, 0.0), (707, 0.03466064900814919), (708, 0.01823113262483784), (709, 0.0), (710, 0.007351524561450083), (711, 0.0), (712, 0.0), (713, 0.0075339513545155685), (714, 0.0), (715, 0.0), (716, 0.004699936249611219), (717, 0.0), (718, 0.0), (719, 0.010698718187950026), (720, 0.0), (721, 0.0), (722, 0.0), (723, 0.0037941799137016694), (724, 0.0), (725, 0.0), (726, 0.007387601364341903), (727, 0.0939198250280608), (728, 0.004834075395208377), (729, 0.004997877626141428), (730, 0.0), (731, 0.0), (732, 0.011065286511165541), (733, 0.026013674682256953), (734, 0.0), (735, 0.0), (736, 0.0), (737, 0.0), (738, 0.03092625715762687), (739, 0.010081769963288108), (740, 0.0053086020053698555), (741, 0.02881191950157791), (742, 0.012518093036297332), (743, 0.004605611779372731), (744, 0.0041448417125444495), (745, 0.0), (746, 0.00862782112941483), (747, 0.0), (748, 0.008397047259653633), (749, 0.0), (750, 0.004566098654239664), (751, 0.010661549452213169), (752, 0.0), (753, 0.005195486192038947), (754, 0.0), (755, 0.0), (756, 0.011693983105388616), (757, 0.0), (758, 0.0), (759, 0.007204876199082823), (760, 0.005141602503807274), (761, 0.00448261398637717), (762, 0.0038848585798716678), (763, 0.0), (764, 0.0), (765, 0.004736798780146788), (766, 0.0), (767, 0.0), (768, 0.0), (769, 0.021862364708096625), (770, 0.007309072681914892), (771, 0.0), (772, 0.0), (773, 0.017093970613223326), (774, 0.008199396538032264), (775, 0.0034288462258002996), (776, 0.0), (777, 0.0), (778, 0.0), (779, 0.010595611749316019), (780, 0.015057924357302768), (781, 0.0), (782, 0.0), (783, 0.0), (784, 0.0), (785, 0.0), (786, 0.0), (787, 0.005404238814980136), (788, 0.0), (789, 0.0), (790, 0.004344048412395074), (791, 0.017992515523637946), (792, 0.0), (793, 0.004654663708033367), (794, 0.0), (795, 0.0), (796, 0.0), (797, 0.0), (798, 0.0), (799, 0.004369216212782374), (800, 0.004028521654930327), (801, 0.0041055596178824075), (802, 0.013562772489287939), (803, 0.004005839883421739), (804, 0.004031162818125432), (805, 0.015487831755173764), (806, 0.0), (807, 0.007014905692672154), (808, 0.003951205640238432), (809, 0.04124068179647364), (810, 0.0437639924197038), (811, 0.04072626042397634), (812, 0.0), (813, 0.0), (814, 0.0), (815, 0.0), (816, 0.03855611360500289), (817, 0.0), (818, 0.014951597670105933), (819, 0.0), (820, 0.006990173082577471), (821, 0.0), (822, 0.0), (823, 0.0), (824, 0.011663151192178773), (825, 0.0043468920378084116), (826, 0.0), (827, 0.004251899756180376), (828, 0.0), (829, 0.004117246595579219), (830, 0.009287514060935732), (831, 0.0031640649236066537), (832, 0.004557171262750657), (833, 0.025994459711055483), (834, 0.02754941020996429), (835, 0.026261751710632126), (836, 0.0), (837, 0.0), (838, 0.0), (839, 0.0), (840, 0.0), (841, 0.008689123611636566), (842, 0.005480302203665057), (843, 0.0), (844, 0.0), (845, 0.01394182989958349), (846, 0.008102930700342124), (847, 0.0), (848, 0.007980637065182346), (849, 0.004478992001600481), (850, 0.0), (851, 0.0), (852, 0.0), (853, 0.003465339461840465), (854, 0.0), (855, 0.005117566345074002), (856, 0.01577288521645926), (857, 0.04439278315004878), (858, 0.0), (859, 0.0074801870336706055), (860, 0.005192960899103697), (861, 0.0038595186241601642), (862, 0.006893955831796629), (863, 0.004096873540858472), (864, 0.0), (865, 0.0), (866, 0.004166609760627805), (867, 0.0), (868, 0.011508557829941835), (869, 0.0), (870, 0.0043825320192146505), (871, 0.017208836725829176), (872, 0.0), (873, 0.009461105009685595), (874, 0.0), (875, 0.014616203065433651), (876, 0.005115756529656296), (877, 0.0035842288358494956), (878, 0.011707524684788573), (879, 0.004675945458240131), (880, 0.004417588582803901), (881, 0.0), (882, 0.0), (883, 0.00755923938801016), (884, 0.04311254860775971), (885, 0.0), (886, 0.008283061482342953), (887, 0.0), (888, 0.01373773676350985), (889, 0.0), (890, 0.0), (891, 0.013056834737893864), (892, 0.015308237373114394), (893, 0.03622308517792329), (894, 0.0), (895, 0.0), (896, 0.004896201198227826), (897, 0.09977906665340178), (898, 0.01116618471298108), (899, 0.0), (900, 0.03842105368622435), (901, 0.021953958296720345), (902, 0.00459759622622371), (903, 0.0), (904, 0.014591142768454239), (905, 0.005184650141345589), (906, 0.0), (907, 0.027313393213189024), (908, 0.0), (909, 0.0), (910, 0.004102763896589871), (911, 0.004246124530491657), (912, 0.0), (913, 0.0), (914, 0.0), (915, 0.004312779477815074), (916, 0.004152960512300042), (917, 0.0), (918, 0.004638243698826492), (919, 0.004554699368194708), (920, 0.0), (921, 0.0), (922, 0.0), (923, 0.011936954418140659), (924, 0.0076958785034700735), (925, 0.0), (926, 0.0), (927, 0.013062719977041434), (928, 0.0046771467662256785), (929, 0.006373406097943217), (930, 0.058602100182912786), (931, 0.004478854075542945), (932, 0.004006532414653535), (933, 0.0), (934, 0.0), (935, 0.0), (936, 0.004032717452347689), (937, 0.0052363752885047545), (938, 0.00793211565745609), (939, 0.0), (940, 0.018550134151398834), (941, 0.0), (942, 0.0036436739543401295), (943, 0.0), (944, 0.0), (945, 0.0), (946, 0.0), (947, 0.006045836828586375), (948, 0.0), (949, 0.0), (950, 0.0), (951, 0.014917150930399489), (952, 0.004844933871291907), (953, 0.0036086666387566066), (954, 0.0), (955, 0.0), (956, 0.0), (957, 0.00722583294093742), (958, 0.008075539938608807), (959, 0.017163342175550933), (960, 0.0), (961, 0.0), (962, 0.0), (963, 0.011586587957069077), (964, 0.0), (965, 0.0), (966, 0.0), (967, 0.014702883563384644), (968, 0.03818569929190028), (969, 0.009017940780518728), (970, 0.0037867460964122884), (971, 0.0), (972, 0.0), (973, 0.0), (974, 0.012466554048325851), (975, 0.008271107874931809), (976, 0.014036273136950331), (977, 0.008631750868617132), (978, 0.0), (979, 0.011775807767402394), (980, 0.012810868217543975), (981, 0.011159207294344924), (982, 0.00971909239326271), (983, 0.0), (984, 0.0075272306266593895), (985, 0.0), (986, 0.004478527099499526), (987, 0.0), (988, 0.012311728662050384), (989, 0.004408333322958049), (990, 0.0), (991, 0.004811042390087201), (992, 0.004794882870113033), (993, 0.0), (994, 0.016083759805409006), (995, 0.0), (996, 0.006324452073569293), (997, 0.011147917290498865), (998, 0.0), (999, 0.0), (1000, 0.004031241928016538), (1001, 0.004271641238476284), (1002, 0.0), (1003, 0.004581203202705179), (1004, 0.0), (1005, 0.0), (1006, 0.0), (1007, 0.0), (1008, 0.0), (1009, 0.003976054055469718), (1010, 0.0), (1011, 0.0), (1012, 0.004439970602437605), (1013, 0.0), (1014, 0.0), (1015, 0.04830059604388511), (1016, 0.0), (1017, 0.012047990541538552), (1018, 0.003908378455708853), (1019, 0.0), (1020, 0.0), (1021, 0.0), (1022, 0.007877162729208218), (1023, 0.0), (1024, 0.004668093193262685), (1025, 0.0), (1026, 0.017339521852773872), (1027, 0.0), (1028, 0.0), (1029, 0.031283964442981954), (1030, 0.020550943276506306), (1031, 0.008413657932587155), (1032, 0.0), (1033, 0.0), (1034, 0.02844335614592317), (1035, 0.04669197506365037), (1036, 0.0), (1037, 0.0), (1038, 0.0), (1039, 0.0), (1040, 0.0), (1041, 0.01163515982895708), (1042, 0.0066091077555892), (1043, 0.0), (1044, 0.012007594509290606), (1045, 0.0), (1046, 0.0), (1047, 0.01291448143362147), (1048, 0.03483779960133854), (1049, 0.039200481372183855), (1050, 0.006741584280397406), (1051, 0.0), (1052, 0.016358884606495205), (1053, 0.0), (1054, 0.05230659819603918), (1055, 0.0), (1056, 0.008609828663850879), (1057, 0.0), (1058, 0.005493491668858905), (1059, 0.008745749143598023), (1060, 0.0), (1061, 0.030773829499327002), (1062, 0.0), (1063, 0.004330461167857446), (1064, 0.005430032910092453), (1065, 0.004096480443683984), (1066, 0.0), (1067, 0.015974151104352224), (1068, 0.02048649560312111), (1069, 0.008853782380848154), (1070, 0.0), (1071, 0.004782929087723056), (1072, 0.0), (1073, 0.0), (1074, 0.013358060416993608), (1075, 0.0), (1076, 0.0), (1077, 0.0), (1078, 0.0), (1079, 0.0), (1080, 0.015907482136536116), (1081, 0.12266629952008576), (1082, 0.004401830784991188), (1083, 0.004663280770521433), (1084, 0.01550811448091242), (1085, 0.009007095740886643), (1086, 0.0), (1087, 0.0), (1088, 0.0), (1089, 0.0), (1090, 0.0), (1091, 0.008663350803229662), (1092, 0.0037357186195712258), (1093, 0.0), (1094, 0.0), (1095, 0.0), (1096, 0.0), (1097, 0.0), (1098, 0.0), (1099, 0.004752544916401723), (1100, 0.0), (1101, 0.026941292050937687), (1102, 0.0), (1103, 0.01904129463000064), (1104, 0.00471746011179736), (1105, 0.008030855118484084), (1106, 0.0), (1107, 0.012390384039883101), (1108, 0.0), (1109, 0.0), (1110, 0.0), (1111, 0.0), (1112, 0.0), (1113, 0.0), (1114, 0.0072886990198406665), (1115, 0.003601334700826784), (1116, 0.0), (1117, 0.0), (1118, 0.0), (1119, 0.0047852259397471696), (1120, 0.0038211597841459432), (1121, 0.0), (1122, 0.0), (1123, 0.004259601265543584), (1124, 0.008204150211574899), (1125, 0.0), (1126, 0.0), (1127, 0.004411341118454642), (1128, 0.0), (1129, 0.004483640478800551), (1130, 0.017315111678619176), (1131, 0.0), (1132, 0.0042594861903448985), (1133, 0.008816207616421316), (1134, 0.011173038042765565), (1135, 0.0), (1136, 0.0), (1137, 0.010176938761849165), (1138, 0.004533803910325809), (1139, 0.0), (1140, 0.014259003683155361), (1141, 0.03447269023104877), (1142, 0.0), (1143, 0.010178288413890745), (1144, 0.0), (1145, 0.0), (1146, 0.004333601837588811), (1147, 0.0), (1148, 0.005060416207554548), (1149, 0.0), (1150, 0.00483417526277688), (1151, 0.0), (1152, 0.0), (1153, 0.021726596290869406), (1154, 0.003994894604503954), (1155, 0.0), (1156, 0.021758912594081727), (1157, 0.0), (1158, 0.005007423569809703), (1159, 0.033177769841581446), (1160, 0.0), (1161, 0.0), (1162, 0.00488974935776397), (1163, 0.007899408751690394), (1164, 0.0036443834172841375), (1165, 0.0), (1166, 0.0), (1167, 0.014589747726428612), (1168, 0.009502587837970311), (1169, 0.0), (1170, 0.0), (1171, 0.0), (1172, 0.0), (1173, 0.012051545884233572), (1174, 0.004581897643587948), (1175, 0.017832977988212508), (1176, 0.0), (1177, 0.012544798539163134), (1178, 0.0), (1179, 0.012393585423347344), (1180, 0.0), (1181, 0.00421969862693464), (1182, 0.0), (1183, 0.004160141200164145), (1184, 0.01414093146661829), (1185, 0.045026995699012876), (1186, 0.006948407586398045), (1187, 0.0), (1188, 0.0047042615444673995), (1189, 0.0), (1190, 0.0), (1191, 0.004499624512817135), (1192, 0.00469585465517116), (1193, 0.0), (1194, 0.0), (1195, 0.0), (1196, 0.0), (1197, 0.04421061895260286), (1198, 0.0), (1199, 0.00698072674993316), (1200, 0.0), (1201, 0.0), (1202, 0.01129591187600918), (1203, 0.0), (1204, 0.0), (1205, 0.0), (1206, 0.0), (1207, 0.004281807719920641), (1208, 0.0), (1209, 0.0), (1210, 0.0032590887186714295), (1211, 0.004246889632593441), (1212, 0.0), (1213, 0.0), (1214, 0.0), (1215, 0.003836383695713115), (1216, 0.0), (1217, 0.0), (1218, 0.03649593641327475), (1219, 0.0), (1220, 0.0040452535887788715), (1221, 0.0), (1222, 0.0), (1223, 0.004499283853370594), (1224, 0.021199576576075158), (1225, 0.004728199036468576), (1226, 0.021929330611647726), (1227, 0.03302553822888797), (1228, 0.0), (1229, 0.0046791310038363666), (1230, 0.004301936707948868), (1231, 0.0), (1232, 0.00451652222983881), (1233, 0.0), (1234, 0.008379707518730836), (1235, 0.0), (1236, 0.011272657055634502), (1237, 0.004068527322099034), (1238, 0.0), (1239, 0.008754946844911796), (1240, 0.0), (1241, 0.006505391995793331), (1242, 0.0), (1243, 0.046203094762146124), (1244, 0.008162479902942246), (1245, 0.0), (1246, 0.008548812439070585), (1247, 0.0076432207741280855), (1248, 0.021283721353208416), (1249, 0.007659792209870013), (1250, 0.0), (1251, 0.0), (1252, 0.004440548930419177), (1253, 0.008711906923500344), (1254, 0.0), (1255, 0.04743914930445301), (1256, 0.007471662968162578), (1257, 0.05458567573503621), (1258, 0.0), (1259, 0.011329328769302541), (1260, 0.0), (1261, 0.008554241927910588), (1262, 0.004470001843035389), (1263, 0.0), (1264, 0.0), (1265, 0.008600633628419544), (1266, 0.00457256408020551), (1267, 0.0), (1268, 0.0), (1269, 0.0), (1270, 0.004108882654335558), (1271, 0.008302701672683512), (1272, 0.05439975471158779), (1273, 0.0), (1274, 0.0), (1275, 0.005171509660297902), (1276, 0.0033429949557801397), (1277, 0.0), (1278, 0.0), (1279, 0.0037735220155710224), (1280, 0.004772584350887138), (1281, 0.02828313637440391), (1282, 0.0), (1283, 0.0), (1284, 0.007703267576904896), (1285, 0.0), (1286, 0.0), (1287, 0.0), (1288, 0.0072000651245085374), (1289, 0.0), (1290, 0.0), (1291, 0.0), (1292, 0.004407430280458493), (1293, 0.0), (1294, 0.0), (1295, 0.01749719794328481), (1296, 0.0), (1297, 0.0), (1298, 0.0), (1299, 0.0), (1300, 0.010481142130963926), (1301, 0.03342276190729047), (1302, 0.004545769915452232), (1303, 0.0036136075216296067), (1304, 0.0), (1305, 0.0), (1306, 0.005768719636043011), (1307, 0.0), (1308, 0.0), (1309, 0.00383588558865746), (1310, 0.0), (1311, 0.0), (1312, 0.006678062934838203), (1313, 0.0), (1314, 0.013100316237799838), (1315, 0.0), (1316, 0.0), (1317, 0.0), (1318, 0.0), (1319, 0.0), (1320, 0.0), (1321, 0.0), (1322, 0.0), (1323, 0.0), (1324, 0.009424562505383871), (1325, 0.004857900349172044), (1326, 0.0), (1327, 0.0), (1328, 0.0), (1329, 0.03612801365442523), (1330, 0.0), (1331, 0.0), (1332, 0.01381048005013917), (1333, 0.0), (1334, 0.0), (1335, 0.02051087675356796), (1336, 0.0), (1337, 0.004573855476938101), (1338, 0.015566296391653951), (1339, 0.009391106064365794), (1340, 0.007503240629768636), (1341, 0.006494845036620417), (1342, 0.007377845277287291), (1343, 0.005327980513208423), (1344, 0.013543239478866553), (1345, 0.0), (1346, 0.0), (1347, 0.012863032868392004), (1348, 0.0039039946978260973), (1349, 0.0), (1350, 0.0), (1351, 0.014977069561770235), (1352, 0.0), (1353, 0.016429937882542916), (1354, 0.0), (1355, 0.0), (1356, 0.028932063564749498), (1357, 0.0), (1358, 0.0), (1359, 0.0), (1360, 0.004079109488730365), (1361, 0.008974760294082996), (1362, 0.019696933791052765), (1363, 0.03181646417326416), (1364, 0.008216891346184129), (1365, 0.0), (1366, 0.026791627430246868), (1367, 0.014756409027244843), (1368, 0.0), (1369, 0.0036683415310677647), (1370, 0.0), (1371, 0.008790374347674164), (1372, 0.007423209238516376), (1373, 0.0), (1374, 0.007919076203352051), (1375, 0.01178105858023066), (1376, 0.0), (1377, 0.0036154505595090754), (1378, 0.0), (1379, 0.0), (1380, 0.013072496979777177), (1381, 0.005143297135206865), (1382, 0.0), (1383, 0.05183594638547689), (1384, 0.003988983815386975), (1385, 0.00448758512622331), (1386, 0.0), (1387, 0.0), (1388, 0.0), (1389, 0.0), (1390, 0.0), (1391, 0.005000249880968635), (1392, 0.00785537660347019), (1393, 0.0), (1394, 0.01565560670542158), (1395, 0.003607717001322405), (1396, 0.004687125906118883), (1397, 0.0), (1398, 0.0), (1399, 0.0), (1400, 0.0047244700023758345), (1401, 0.0), (1402, 0.009264691891737262), (1403, 0.0), (1404, 0.0), (1405, 0.026676149859104045), (1406, 0.037145470796370296), (1407, 0.014152193750231086), (1408, 0.00770705036694656), (1409, 0.008465887476889061), (1410, 0.0), (1411, 0.0), (1412, 0.004265992778049208), (1413, 0.00454863709737328), (1414, 0.01105813957008474), (1415, 0.0), (1416, 0.0), (1417, 0.0034985858305947265), (1418, 0.0), (1419, 0.004487288906145082), (1420, 0.004463704485613257), (1421, 0.01194949679158063), (1422, 0.0), (1423, 0.0), (1424, 0.0), (1425, 0.0), (1426, 0.004748468134309295), (1427, 0.0), (1428, 0.012623839841571623), (1429, 0.005388090744598131), (1430, 0.019740987328052472), (1431, 0.0045894438146723915), (1432, 0.004668626027948952), (1433, 0.004169738356789929), (1434, 0.0), (1435, 0.046947136787666544), (1436, 0.004742212068852923), (1437, 0.0), (1438, 0.0), (1439, 0.0), (1440, 0.0), (1441, 0.0), (1442, 0.004437189875419371), (1443, 0.004624137659905006), (1444, 0.0), (1445, 0.0), (1446, 0.0), (1447, 0.0), (1448, 0.012305145950676114), (1449, 0.0047184056630026824), (1450, 0.0), (1451, 0.004209953978562571), (1452, 0.004737364637440599), (1453, 0.0), (1454, 0.014627157751398542), (1455, 0.004476502127975905), (1456, 0.0), (1457, 0.0), (1458, 0.028931564317126002), (1459, 0.0), (1460, 0.0), (1461, 0.0), (1462, 0.004110936128794073), (1463, 0.01614826890570114), (1464, 0.0), (1465, 0.006860719778506127), (1466, 0.009225119814756606), (1467, 0.0), (1468, 0.0), (1469, 0.022933063131697247), (1470, 0.0), (1471, 0.009191872632210989), (1472, 0.004534056295018012), (1473, 0.0), (1474, 0.008825067350418965), (1475, 0.0), (1476, 0.0), (1477, 0.0), (1478, 0.004291897706131614), (1479, 0.01938068795096097), (1480, 0.07222379218529935), (1481, 0.03678534326351055), (1482, 0.0), (1483, 0.012299162284372618), (1484, 0.023432758925316752), (1485, 0.007971221320679855), (1486, 0.0), (1487, 0.007502773056107774), (1488, 0.0044932171126944535), (1489, 0.005036206046172201), (1490, 0.0), (1491, 0.0), (1492, 0.00764590341441114), (1493, 0.01283894170172568), (1494, 0.0), (1495, 0.008050894252017224), (1496, 0.0), (1497, 0.0), (1498, 0.013780480201704366), (1499, 0.0), (1500, 0.0), (1501, 0.015806677148743037), (1502, 0.013089612714907637), (1503, 0.007174783626340021), (1504, 0.017501174786218692), (1505, 0.017721562623489444), (1506, 0.0030692966483563586), (1507, 0.0), (1508, 0.0), (1509, 0.0030618382796688383), (1510, 0.0045246900672078726), (1511, 0.0), (1512, 0.0), (1513, 0.0), (1514, 0.0), (1515, 0.0), (1516, 0.0), (1517, 0.0), (1518, 0.044628973926038214), (1519, 0.011462311771649953), (1520, 0.0), (1521, 0.0), (1522, 0.0), (1523, 0.0), (1524, 0.0), (1525, 0.0), (1526, 0.0), (1527, 0.0), (1528, 0.0), (1529, 0.0), (1530, 0.0036704623223537307), (1531, 0.004735601433324157), (1532, 0.016773222306227763), (1533, 0.017924555580482927), (1534, 0.03714231616242243), (1535, 0.006654193115443684), (1536, 0.0), (1537, 0.004798512414023086), (1538, 0.0), (1539, 0.0), (1540, 0.0), (1541, 0.0), (1542, 0.004640384466744318), (1543, 0.0), (1544, 0.03218193661683735), (1545, 0.008472391380879444), (1546, 0.0038557199265503114), (1547, 0.0), (1548, 0.0), (1549, 0.0), (1550, 0.03610063794287606), (1551, 0.01308862724151081), (1552, 0.0), (1553, 0.023392784780896802), (1554, 0.013647261904337377), (1555, 0.03241961624711404), (1556, 0.03859684721665265), (1557, 0.0), (1558, 0.0), (1559, 0.01917197789237753), (1560, 0.0), (1561, 0.008492301883957882), (1562, 0.020518707406426345), (1563, 0.0), (1564, 0.0), (1565, 0.0), (1566, 0.004485547057690462), (1567, 0.0), (1568, 0.004090042165063191), (1569, 0.0), (1570, 0.0), (1571, 0.006542471368992206), (1572, 0.0), (1573, 0.004415419847584926), (1574, 0.0), (1575, 0.014258873431027604), (1576, 0.003589923564977903), (1577, 0.007982436866499689), (1578, 0.0), (1579, 0.0), (1580, 0.032773950917002276), (1581, 0.0), (1582, 0.008482166313997681), (1583, 0.03621850412113995), (1584, 0.0), (1585, 0.009041102581592266), (1586, 0.0), (1587, 0.004562240411118368), (1588, 0.0046830328286633135), (1589, 0.008654639662689301), (1590, 0.003907697782165459), (1591, 0.005190761443431375), (1592, 0.008568837810620681), (1593, 0.0), (1594, 0.009892104695439467), (1595, 0.012051627739036893), (1596, 0.0), (1597, 0.00762285453486263), (1598, 0.0), (1599, 0.0), (1600, 0.0), (1601, 0.0), (1602, 0.0), (1603, 0.0), (1604, 0.0), (1605, 0.0), (1606, 0.0), (1607, 0.0), (1608, 0.01094112674266538), (1609, 0.0), (1610, 0.0), (1611, 0.03001565651682575), (1612, 0.03291994495768522), (1613, 0.00918999394498061), (1614, 0.023698179396859666), (1615, 0.0), (1616, 0.0), (1617, 0.007725503434361391), (1618, 0.0), (1619, 0.0), (1620, 0.0), (1621, 0.004418403557458356), (1622, 0.00440575858046349), (1623, 0.0041502918326370404), (1624, 0.0), (1625, 0.0), (1626, 0.0), (1627, 0.0038312047646630013), (1628, 0.0), (1629, 0.012795016832441549), (1630, 0.004252695070502953), (1631, 0.03811228332124167), (1632, 0.004297233668104213), (1633, 0.004282582989283428), (1634, 0.0), (1635, 0.004395507145569807), (1636, 0.0), (1637, 0.008488351242517681), (1638, 0.0), (1639, 0.0), (1640, 0.0), (1641, 0.0), (1642, 0.0), (1643, 0.004705404058225148), (1644, 0.0), (1645, 0.008535333956155244), (1646, 0.0), (1647, 0.01670347986074696), (1648, 0.0), (1649, 0.0), (1650, 0.0), (1651, 0.0), (1652, 0.0), (1653, 0.012087519474220657), (1654, 0.008433519740298595), (1655, 0.0), (1656, 0.0), (1657, 0.0), (1658, 0.0), (1659, 0.01321195526393226), (1660, 0.0), (1661, 0.004826441507620546), (1662, 0.004177252723300258), (1663, 0.0), (1664, 0.0), (1665, 0.035149996688431925), (1666, 0.0), (1667, 0.004130596803884709), (1668, 0.0), (1669, 0.009736749518337815), (1670, 0.0), (1671, 0.004339287664254565), (1672, 0.0), (1673, 0.0), (1674, 0.0), (1675, 0.011292085315069107), (1676, 0.0), (1677, 0.0), (1678, 0.004456341556829467), (1679, 0.0), (1680, 0.011257371473655662), (1681, 0.04990317248032297), (1682, 0.0), (1683, 0.0), (1684, 0.0), (1685, 0.0), (1686, 0.0), (1687, 0.004752064002434194), (1688, 0.0), (1689, 0.0), (1690, 0.0), (1691, 0.0), (1692, 0.0), (1693, 0.0), (1694, 0.003979355751371019), (1695, 0.0), (1696, 0.00439499268004887), (1697, 0.0), (1698, 0.006835314993103969), (1699, 0.01152191460158777), (1700, 0.0), (1701, 0.003539150867819291), (1702, 0.0), (1703, 0.0), (1704, 0.0), (1705, 0.0), (1706, 0.0), (1707, 0.020283120221213792), (1708, 0.0), (1709, 0.0), (1710, 0.0), (1711, 0.0), (1712, 0.0), (1713, 0.005089377706033329), (1714, 0.0), (1715, 0.0), (1716, 0.013901234468563652), (1717, 0.0), (1718, 0.0), (1719, 0.02142528824056908), (1720, 0.008799903917970394), (1721, 0.0), (1722, 0.0), (1723, 0.0042074610022734635), (1724, 0.013346360878321575), (1725, 0.0), (1726, 0.0), (1727, 0.0), (1728, 0.0), (1729, 0.0), (1730, 0.0), (1731, 0.03184293771525532), (1732, 0.0047902656398209975), (1733, 0.0), (1734, 0.0), (1735, 0.0), (1736, 0.0), (1737, 0.0), (1738, 0.0), (1739, 0.004029940719141472), (1740, 0.004572041985214066), (1741, 0.0), (1742, 0.007482319284565333), (1743, 0.0), (1744, 0.0), (1745, 0.0), (1746, 0.0), (1747, 0.028491453295176924), (1748, 0.0), (1749, 0.03564708708483544), (1750, 0.007895951664845016), (1751, 0.0), (1752, 0.007304811683710379), (1753, 0.11845816236472409), (1754, 0.0), (1755, 0.0), (1756, 0.0), (1757, 0.0), (1758, 0.0), (1759, 0.0), (1760, 0.004143850609945443), (1761, 0.004580181642272893), (1762, 0.0), (1763, 0.0), (1764, 0.0), (1765, 0.0), (1766, 0.0), (1767, 0.0), (1768, 0.0), (1769, 0.0), (1770, 0.0), (1771, 0.0), (1772, 0.003889272822394032), (1773, 0.00439123661563648), (1774, 0.0034221588046745312), (1775, 0.00921910071054887), (1776, 0.0), (1777, 0.0), (1778, 0.0), (1779, 0.014178313838161056), (1780, 0.0), (1781, 0.003813529529672062), (1782, 0.015318422609757139), (1783, 0.0), (1784, 0.012092601997962558), (1785, 0.0), (1786, 0.00870335837910387), (1787, 0.0), (1788, 0.004214571962353221), (1789, 0.004138691864061609), (1790, 0.0), (1791, 0.004771461028463874), (1792, 0.0), (1793, 0.0), (1794, 0.0), (1795, 0.007988861117512914), (1796, 0.011309564357696188), (1797, 0.0), (1798, 0.008495273297909889), (1799, 0.004908824487700197), (1800, 0.0), (1801, 0.0), (1802, 0.021790546942013204), (1803, 0.0), (1804, 0.007937374455565787), (1805, 0.008621747051108387), (1806, 0.0), (1807, 0.0), (1808, 0.0), (1809, 0.004050553183756586), (1810, 0.007565591133205717), (1811, 0.0044459056817285104), (1812, 0.004787800890420959), (1813, 0.0), (1814, 0.0), (1815, 0.014348659356727439), (1816, 0.0), (1817, 0.004022204390310088), (1818, 0.0), (1819, 0.004175560363964499), (1820, 0.0), (1821, 0.008304017331204519), (1822, 0.0), (1823, 0.0), (1824, 0.0), (1825, 0.0), (1826, 0.0), (1827, 0.023134936564171135), (1828, 0.0), (1829, 0.023109491164596263), (1830, 0.0), (1831, 0.01656014316433712), (1832, 0.004577461365972055), (1833, 0.0), (1834, 0.0), (1835, 0.008303025441814646), (1836, 0.0), (1837, 0.0), (1838, 0.011476522294937149), (1839, 0.0), (1840, 0.018477918039430864), (1841, 0.0), (1842, 0.0), (1843, 0.0), (1844, 0.0), (1845, 0.0037901420170928036), (1846, 0.03142376410629722), (1847, 0.0), (1848, 0.0), (1849, 0.0), (1850, 0.0), (1851, 0.0), (1852, 0.004419786436710125), (1853, 0.004744081788942542), (1854, 0.0), (1855, 0.0), (1856, 0.0), (1857, 0.004412304006116217), (1858, 0.009886172582352352), (1859, 0.004726012740459427), (1860, 0.008138210158044692), (1861, 0.0), (1862, 0.0), (1863, 0.22252269595345833), (1864, 0.011922041697966743), (1865, 0.004065991240866387), (1866, 0.004893942373133392), (1867, 0.0), (1868, 0.0), (1869, 0.0), (1870, 0.0), (1871, 0.01259672900696364), (1872, 0.030040221831068963), (1873, 0.013330335553384191), (1874, 0.0), (1875, 0.0), (1876, 0.004507695725080259), (1877, 0.0), (1878, 0.0), (1879, 0.030697521909916318), (1880, 0.0), (1881, 0.0046878426737141324), (1882, 0.0), (1883, 0.0), (1884, 0.0), (1885, 0.0), (1886, 0.0), (1887, 0.0), (1888, 0.03596388607761426), (1889, 0.0), (1890, 0.0), (1891, 0.0), (1892, 0.0040698142291233416), (1893, 0.0), (1894, 0.0), (1895, 0.0), (1896, 0.0), (1897, 0.004859525516759811), (1898, 0.0), (1899, 0.0), (1900, 0.0086301271540014), (1901, 0.004593375300267073), (1902, 0.013028750818380317), (1903, 0.0), (1904, 0.004739860928410806), (1905, 0.0), (1906, 0.0), (1907, 0.0), (1908, 0.00795541161191638), (1909, 0.0), (1910, 0.0037863500443966235), (1911, 0.0), (1912, 0.0), (1913, 0.008718964966998914), (1914, 0.004212239516417193), (1915, 0.00840236575213024), (1916, 0.0), (1917, 0.0), (1918, 0.01309290535043842), (1919, 0.03355857480456383), (1920, 0.0), (1921, 0.0), (1922, 0.0), (1923, 0.0), (1924, 0.045892892577011575), (1925, 0.003912569219584061), (1926, 0.0), (1927, 0.004415372415806518), (1928, 0.008946350387365453), (1929, 0.0), (1930, 0.004530798755699499), (1931, 0.004579284159900492), (1932, 0.0), (1933, 0.004368822544792555), (1934, 0.0040019317687143815), (1935, 0.0), (1936, 0.009029960468936032), (1937, 0.0044024295600095615), (1938, 0.0), (1939, 0.005948058260388037), (1940, 0.005238316435725381), (1941, 0.0053643499324014365), (1942, 0.004559910265102354), (1943, 0.0), (1944, 0.014676161218548346), (1945, 0.00797342649608262), (1946, 0.0), (1947, 0.0), (1948, 0.021689524998342525), (1949, 0.012850466085159117), (1950, 0.0), (1951, 0.0), (1952, 0.00482629104809143), (1953, 0.004354819229867577), (1954, 0.0), (1955, 0.0), (1956, 0.0), (1957, 0.0), (1958, 0.00457481968132853), (1959, 0.0), (1960, 0.0049623749300172), (1961, 0.0), (1962, 0.004992981443927069), (1963, 0.0), (1964, 0.04990877170612952), (1965, 0.0), (1966, 0.0), (1967, 0.01972927907275515), (1968, 0.005263455578687814), (1969, 0.0), (1970, 0.022570302102270446), (1971, 0.0), (1972, 0.0), (1973, 0.0), (1974, 0.02338045796740193), (1975, 0.004720824463805752), (1976, 0.0050067993982373885), (1977, 0.0), (1978, 0.007874660842460393), (1979, 0.0), (1980, 0.0), (1981, 0.0253398843697066), (1982, 0.0), (1983, 0.02307130206566814), (1984, 0.0), (1985, 0.01252510062045656), (1986, 0.007826104260283722), (1987, 0.0), (1988, 0.0), (1989, 0.0035998417122131256), (1990, 0.004083310326459655), (1991, 0.004546698149829887), (1992, 0.004187188830516686), (1993, 0.012714898818737119), (1994, 0.007040979996709682), (1995, 0.0), (1996, 0.011910073285523622), (1997, 0.022064664153566955), (1998, 0.00453602818774655), (1999, 0.031375275337357456), (2000, 0.01334673356823406), (2001, 0.0), (2002, 0.0), (2003, 0.00853565703912392), (2004, 0.0), (2005, 0.0), (2006, 0.0), (2007, 0.0), (2008, 0.004358669434281427), (2009, 0.0), (2010, 0.0), (2011, 0.0), (2012, 0.0051543372669601035), (2013, 0.00987590732699601), (2014, 0.01665806947053297), (2015, 0.004680023878638042), (2016, 0.0), (2017, 0.0), (2018, 0.0), (2019, 0.0), (2020, 0.0), (2021, 0.0), (2022, 0.0), (2023, 0.007451967301346934), (2024, 0.004291892325778405), (2025, 0.0), (2026, 0.0), (2027, 0.0), (2028, 0.0), (2029, 0.008625763962025256), (2030, 0.0), (2031, 0.0040444282123723), (2032, 0.0), (2033, 0.0), (2034, 0.0), (2035, 0.0), (2036, 0.0), (2037, 0.048694895307846535), (2038, 0.0), (2039, 0.013312903989562117), (2040, 0.004951496339640907), (2041, 0.0), (2042, 0.0), (2043, 0.0), (2044, 0.03630933850527086), (2045, 0.004554909875960715), (2046, 0.007903491289193232), (2047, 0.006992754193166215), (2048, 0.0), (2049, 0.0), (2050, 0.03929351644181614), (2051, 0.0), (2052, 0.0), (2053, 0.00462725299947356), (2054, 0.0), (2055, 0.0), (2056, 0.0), (2057, 0.01291484649609928), (2058, 0.0), (2059, 0.0), (2060, 0.0), (2061, 0.004539541926446389), (2062, 0.004339814452525761), (2063, 0.0), (2064, 0.0), (2065, 0.0), (2066, 0.0050419723140490945), (2067, 0.007960933362055389), (2068, 0.0), (2069, 0.01308432869534482), (2070, 0.0038336170387273058), (2071, 0.0), (2072, 0.008199895932408125), (2073, 0.0), (2074, 0.010942750467320989), (2075, 0.0058726969517736765), (2076, 0.0), (2077, 0.0), (2078, 0.0035645245086181714), (2079, 0.0), (2080, 0.0), (2081, 0.0), (2082, 0.0), (2083, 0.0), (2084, 0.004836977126193791), (2085, 0.009205185017655187), (2086, 0.0), (2087, 0.0), (2088, 0.004695766717161303), (2089, 0.005266487782041403), (2090, 0.0), (2091, 0.00454433063480001), (2092, 0.0), (2093, 0.011463843794818697), (2094, 0.004241259454941282), (2095, 0.007642502589366937), (2096, 0.013211784440008232), (2097, 0.0172226124136564), (2098, 0.0), (2099, 0.0), (2100, 0.008495791407064674), (2101, 0.0), (2102, 0.015472353407970462), (2103, 0.0), (2104, 0.023658026344197346), (2105, 0.0), (2106, 0.008180546524943325), (2107, 0.0), (2108, 0.0), (2109, 0.0), (2110, 0.011372851433911119), (2111, 0.0), (2112, 0.004946820121227938), (2113, 0.0), (2114, 0.0), (2115, 0.0), (2116, 0.0), (2117, 0.0), (2118, 0.029287925524221346), (2119, 0.011498683825358484), (2120, 0.0), (2121, 0.004266883991939019), (2122, 0.0), (2123, 0.0), (2124, 0.0), (2125, 0.0), (2126, 0.0), (2127, 0.0), (2128, 0.027313349313187057), (2129, 0.008186757477106411), (2130, 0.004530561134173375), (2131, 0.008487451040677137), (2132, 0.0), (2133, 0.0), (2134, 0.0), (2135, 0.007216355270720971), (2136, 0.004857476594370369), (2137, 0.0), (2138, 0.0), (2139, 0.004206467010064341), (2140, 0.0), (2141, 0.0), (2142, 0.0), (2143, 0.0), (2144, 0.0), (2145, 0.0), (2146, 0.0), (2147, 0.0), (2148, 0.0), (2149, 0.0), (2150, 0.0), (2151, 0.0), (2152, 0.007513216150001047), (2153, 0.0), (2154, 0.00574090804511301), (2155, 0.0), (2156, 0.0), (2157, 0.0066540402981466965), (2158, 0.010301433030826156), (2159, 0.0), (2160, 0.0), (2161, 0.0), (2162, 0.00948793901319731), (2163, 0.0), (2164, 0.0), (2165, 0.0), (2166, 0.0), (2167, 0.007604148832677159), (2168, 0.006771684390729435), (2169, 0.0), (2170, 0.0), (2171, 0.0), (2172, 0.0), (2173, 0.0), (2174, 0.0044425777287505075), (2175, 0.0), (2176, 0.0), (2177, 0.0), (2178, 0.00435949502640077), (2179, 0.03105640954074844), (2180, 0.010099483249678558), (2181, 0.005087342040119175), (2182, 0.0), (2183, 0.0), (2184, 0.0), (2185, 0.0), (2186, 0.0), (2187, 0.0), (2188, 0.005469856205594211), (2189, 0.0), (2190, 0.0), (2191, 0.004019509019481513), (2192, 0.0), (2193, 0.0), (2194, 0.0), (2195, 0.007892490529274794), (2196, 0.014082844668089229), (2197, 0.00379075171099319), (2198, 0.0), (2199, 0.0), (2200, 0.0), (2201, 0.0), (2202, 0.0), (2203, 0.0), (2204, 0.0), (2205, 0.007407245275113822), (2206, 0.004284031206254997), (2207, 0.007244752112871756), (2208, 0.004750320180351426), (2209, 0.0), (2210, 0.004556926241912506), (2211, 0.01326143153732244), (2212, 0.0), (2213, 0.007878894510712747), (2214, 0.0048731210376297), (2215, 0.0), (2216, 0.004392550001216596), (2217, 0.0), (2218, 0.0), (2219, 0.0), (2220, 0.0), (2221, 0.0), (2222, 0.0), (2223, 0.0), (2224, 0.0042529537865850136), (2225, 0.0), (2226, 0.0), (2227, 0.007341601758627225), (2228, 0.0), (2229, 0.013545994534542239), (2230, 0.00812690053947287), (2231, 0.0049528469277498825), (2232, 0.004378719700761082), (2233, 0.0), (2234, 0.0), (2235, 0.004605489164065191), (2236, 0.0), (2237, 0.0), (2238, 0.0), (2239, 0.007719086377605404), (2240, 0.0069443648586540434), (2241, 0.016457778864089438), (2242, 0.00752162122382808), (2243, 0.0), (2244, 0.0), (2245, 0.004328968351001512), (2246, 0.012372013106727045), (2247, 0.0), (2248, 0.0), (2249, 0.0), (2250, 0.02552854502513856), (2251, 0.0), (2252, 0.00482905270027351), (2253, 0.0), (2254, 0.004809559519419572), (2255, 0.005782466827236832), (2256, 0.007938459863593204), (2257, 0.0), (2258, 0.009580583336104181), (2259, 0.008226510708577231), (2260, 0.0), (2261, 0.0), (2262, 0.0), (2263, 0.0), (2264, 0.0), (2265, 0.0), (2266, 0.0), (2267, 0.0), (2268, 0.0), (2269, 0.020508531262032968), (2270, 0.0), (2271, 0.0), (2272, 0.0), (2273, 0.005290026709647507), (2274, 0.0), (2275, 0.006069518737099262), (2276, 0.004603798173924997), (2277, 0.008021670518277148), (2278, 0.004546933263646328), (2279, 0.0), (2280, 0.021030953147916046), (2281, 0.0), (2282, 0.0), (2283, 0.013209366623092113), (2284, 0.004506130564947365), (2285, 0.0), (2286, 0.0), (2287, 0.0), (2288, 0.0), (2289, 0.0), (2290, 0.008075270783598367), (2291, 0.0), (2292, 0.0), (2293, 0.0), (2294, 0.006836349669346243), (2295, 0.004553206687775105), (2296, 0.0), (2297, 0.008660198723755718), (2298, 0.0), (2299, 0.0), (2300, 0.0), (2301, 0.007238711104851606), (2302, 0.0), (2303, 0.0), (2304, 0.0), (2305, 0.0), (2306, 0.0), (2307, 0.0), (2308, 0.0), (2309, 0.0), (2310, 0.0), (2311, 0.0), (2312, 0.0), (2313, 0.0), (2314, 0.004930448869741631), (2315, 0.0), (2316, 0.0), (2317, 0.0), (2318, 0.0037006169862823903), (2319, 0.0), (2320, 0.0), (2321, 0.008130224487192188), (2322, 0.0), (2323, 0.015946199279262448), (2324, 0.0), (2325, 0.0), (2326, 0.03310094525884811), (2327, 0.007377972812979357), (2328, 0.005500996486134329), (2329, 0.0), (2330, 0.004738753594527798), (2331, 0.0), (2332, 0.0), (2333, 0.0), (2334, 0.004613146005866771), (2335, 0.0), (2336, 0.004456791772910046), (2337, 0.0), (2338, 0.007149576258901327), (2339, 0.0), (2340, 0.026571281743345453), (2341, 0.0), (2342, 0.0), (2343, 0.0), (2344, 0.004491264425455045), (2345, 0.0), (2346, 0.0), (2347, 0.008121929733202998), (2348, 0.004221628890352324), (2349, 0.0), (2350, 0.0), (2351, 0.0), (2352, 0.007550807338706869), (2353, 0.009096587902574014), (2354, 0.0), (2355, 0.003736580119713062), (2356, 0.0), (2357, 0.0), (2358, 0.0), (2359, 0.013209847486892152), (2360, 0.0), (2361, 0.0), (2362, 0.0), (2363, 0.0), (2364, 0.0), (2365, 0.0), (2366, 0.0), (2367, 0.007574879749313438), (2368, 0.010530419243796815), (2369, 0.0), (2370, 0.0), (2371, 0.0), (2372, 0.0), (2373, 0.0), (2374, 0.012562180711815835), (2375, 0.008693593820282923), (2376, 0.0), (2377, 0.006281765309642143), (2378, 0.0), (2379, 0.0), (2380, 0.0), (2381, 0.0), (2382, 0.0), (2383, 0.004983450072710142), (2384, 0.008813398290117415), (2385, 0.0), (2386, 0.0), (2387, 0.0), (2388, 0.0), (2389, 0.0), (2390, 0.0), (2391, 0.0), (2392, 0.0), (2393, 0.0), (2394, 0.0), (2395, 0.0), (2396, 0.007985277731669896), (2397, 0.0), (2398, 0.0), (2399, 0.0), (2400, 0.0089504252676033), (2401, 0.0), (2402, 0.0071665109637555425), (2403, 0.0), (2404, 0.0), (2405, 0.0), (2406, 0.005264593290951472), (2407, 0.0), (2408, 0.00874880886509988), (2409, 0.04992236995819064), (2410, 0.009692486429582968), (2411, 0.0), (2412, 0.0038916933111588464), (2413, 0.00470131237900608), (2414, 0.0), (2415, 0.0), (2416, 0.0), (2417, 0.0), (2418, 0.0), (2419, 0.0), (2420, 0.0), (2421, 0.004566572948408842), (2422, 0.0), (2423, 0.0), (2424, 0.0), (2425, 0.0), (2426, 0.0), (2427, 0.005206096170764584), (2428, 0.013679279635376296), (2429, 0.004154646594717097), (2430, 0.0), (2431, 0.0), (2432, 0.011947793723155478), (2433, 0.0), (2434, 0.0), (2435, 0.0), (2436, 0.0), (2437, 0.0), (2438, 0.0), (2439, 0.0), (2440, 0.008972737634893526), (2441, 0.01356257028812542), (2442, 0.004168309424599836), (2443, 0.008745957299641238), (2444, 0.0), (2445, 0.0), (2446, 0.0), (2447, 0.010631130741605268), (2448, 0.0), (2449, 0.0), (2450, 0.0), (2451, 0.0), (2452, 0.0), (2453, 0.0), (2454, 0.0), (2455, 0.0), (2456, 0.008167492981889074), (2457, 0.0), (2458, 0.05548244342442406), (2459, 0.0054552630933873145), (2460, 0.0), (2461, 0.007672671389394909), (2462, 0.0), (2463, 0.0), (2464, 0.0), (2465, 0.017030436903126975), (2466, 0.0), (2467, 0.0), (2468, 0.0052367406326508355), (2469, 0.0), (2470, 0.0), (2471, 0.0), (2472, 0.0), (2473, 0.0), (2474, 0.006778520607488914), (2475, 0.0), (2476, 0.0050963102833076765), (2477, 0.01438816624235326), (2478, 0.0), (2479, 0.0), (2480, 0.021961965819461585), (2481, 0.0), (2482, 0.0), (2483, 0.0), (2484, 0.0), (2485, 0.0), (2486, 0.04339367529415779), (2487, 0.0), (2488, 0.0), (2489, 0.0), (2490, 0.0), (2491, 0.0), (2492, 0.0), (2493, 0.0), (2494, 0.0), (2495, 0.0), (2496, 0.004191405704656545), (2497, 0.008159956432647823), (2498, 0.0), (2499, 0.0), (2500, 0.0), (2501, 0.004503504929407522), (2502, 0.0), (2503, 0.007847069082614736), (2504, 0.0), (2505, 0.0), (2506, 0.004496501395250349), (2507, 0.0), (2508, 0.0), (2509, 0.007260567646360112), (2510, 0.0), (2511, 0.0), (2512, 0.0), (2513, 0.0), (2514, 0.0), (2515, 0.0), (2516, 0.009361454715822988), (2517, 0.0), (2518, 0.0), (2519, 0.0), (2520, 0.0), (2521, 0.0), (2522, 0.004776737397127436), (2523, 0.0), (2524, 0.009988078664779038), (2525, 0.007451562226994939), (2526, 0.027048677097797), (2527, 0.0), (2528, 0.0), (2529, 0.0), (2530, 0.0), (2531, 0.0), (2532, 0.0), (2533, 0.0), (2534, 0.0), (2535, 0.0), (2536, 0.0), (2537, 0.0), (2538, 0.0), (2539, 0.006869540218311825), (2540, 0.004271643387859264), (2541, 0.0038033932903290364), (2542, 0.0), (2543, 0.0), (2544, 0.0028669000691129913), (2545, 0.0), (2546, 0.0), (2547, 0.0), (2548, 0.008163779066507155), (2549, 0.0), (2550, 0.0), (2551, 0.008040513723701717), (2552, 0.007398485064492249), (2553, 0.016328320681014388), (2554, 0.0), (2555, 0.005096706750751434), (2556, 0.0), (2557, 0.0), (2558, 0.013318908623184406), (2559, 0.0), (2560, 0.0), (2561, 0.0), (2562, 0.0), (2563, 0.0), (2564, 0.0), (2565, 0.0), (2566, 0.0), (2567, 0.005318588284104463), (2568, 0.0), (2569, 0.0), (2570, 0.0), (2571, 0.008536099190670806), (2572, 0.02248831756958919), (2573, 0.003673896983459845), (2574, 0.008612480739250871), (2575, 0.0), (2576, 0.005070429540370726), (2577, 0.0), (2578, 0.008258447172362833), (2579, 0.0), (2580, 0.004002533842754169), (2581, 0.0), (2582, 0.0), (2583, 0.0), (2584, 0.0), (2585, 0.009835498028888393), (2586, 0.0), (2587, 0.0), (2588, 0.008476164387689838), (2589, 0.0), (2590, 0.0), (2591, 0.015853077417298172), (2592, 0.0), (2593, 0.0), (2594, 0.0), (2595, 0.0), (2596, 0.0), (2597, 0.0), (2598, 0.020958551975865165), (2599, 0.059870496159421006), (2600, 0.0), (2601, 0.0), (2602, 0.0037188945248005285), (2603, 0.0), (2604, 0.0), (2605, 0.0), (2606, 0.0045129022966201695), (2607, 0.043081012442810276), (2608, 0.0), (2609, 0.0), (2610, 0.0), (2611, 0.0), (2612, 0.0), (2613, 0.0), (2614, 0.0), (2615, 0.0), (2616, 0.007737305013906472), (2617, 0.0685077829824687), (2618, 0.01268322532924656), (2619, 0.0), (2620, 0.0), (2621, 0.03266127038281556), (2622, 0.018794352347438273), (2623, 0.0), (2624, 0.09741474624419871), (2625, 0.0), (2626, 0.004918953649832074), (2627, 0.007435311547641991), (2628, 0.0), (2629, 0.0), (2630, 0.004773552596474535), (2631, 0.0), (2632, 0.012103946158486938), (2633, 0.04326233932245207), (2634, 0.0), (2635, 0.0), (2636, 0.0), (2637, 0.008496132465786056), (2638, 0.014083582523314639), (2639, 0.0), (2640, 0.0), (2641, 0.0), (2642, 0.007624177654187189), (2643, 0.0), (2644, 0.0), (2645, 0.005768054374583445), (2646, 0.0), (2647, 0.012554315913843933), (2648, 0.0), (2649, 0.0), (2650, 0.009179537871998794), (2651, 0.0), (2652, 0.0), (2653, 0.0), (2654, 0.0), (2655, 0.005939584129236412), (2656, 0.0), (2657, 0.0), (2658, 0.0), (2659, 0.0), (2660, 0.0), (2661, 0.0), (2662, 0.0), (2663, 0.0), (2664, 0.0), (2665, 0.006516006034529799), (2666, 0.0), (2667, 0.0), (2668, 0.0046115927665834385), (2669, 0.0), (2670, 0.0), (2671, 0.005812225304633002), (2672, 0.0), (2673, 0.0), (2674, 0.0), (2675, 0.0), (2676, 0.0), (2677, 0.007710170559530199), (2678, 0.0), (2679, 0.0), (2680, 0.004296204887437235), (2681, 0.0), (2682, 0.011564686908719885), (2683, 0.005020274335409197), (2684, 0.0), (2685, 0.008030985126781054), (2686, 0.0), (2687, 0.0), (2688, 0.0), (2689, 0.03187130741334436), (2690, 0.0), (2691, 0.0), (2692, 0.003891967785171729), (2693, 0.0), (2694, 0.0), (2695, 0.004487477179064516), (2696, 0.0), (2697, 0.003669190073198395), (2698, 0.007710009447016907), (2699, 0.007382652434874583), (2700, 0.005035009471466091), (2701, 0.0), (2702, 0.0), (2703, 0.0), (2704, 0.0), (2705, 0.0), (2706, 0.0), (2707, 0.0), (2708, 0.0), (2709, 0.0), (2710, 0.0), (2711, 0.004264655818969874), (2712, 0.0), (2713, 0.0), (2714, 0.004743405702709045), (2715, 0.0), (2716, 0.0043171037233650286), (2717, 0.0), (2718, 0.0), (2719, 0.0), (2720, 0.0), (2721, 0.0), (2722, 0.0), (2723, 0.0), (2724, 0.033358871545263284), (2725, 0.0), (2726, 0.0), (2727, 0.005390740478194187), (2728, 0.0), (2729, 0.0), (2730, 0.009722889805883294), (2731, 0.0), (2732, 0.008070478668971044), (2733, 0.004978696599991609), (2734, 0.0), (2735, 0.0), (2736, 0.051918469548620484), (2737, 0.0), (2738, 0.0), (2739, 0.009695860137654826), (2740, 0.0), (2741, 0.0), (2742, 0.004161284180323142), (2743, 0.0), (2744, 0.0), (2745, 0.0), (2746, 0.017029397210139834), (2747, 0.0), (2748, 0.0), (2749, 0.0072019364130660795), (2750, 0.0), (2751, 0.004250216971997083), (2752, 0.0), (2753, 0.0), (2754, 0.0), (2755, 0.0), (2756, 0.04605424619299502), (2757, 0.0), (2758, 0.0), (2759, 0.012976440231705964), (2760, 0.0), (2761, 0.0), (2762, 0.014953692997868018), (2763, 0.0), (2764, 0.0), (2765, 0.0), (2766, 0.01402110156421571), (2767, 0.0), (2768, 0.006371053418676034), (2769, 0.0), (2770, 0.0), (2771, 0.003803064849401558), (2772, 0.0), (2773, 0.0), (2774, 0.0), (2775, 0.0), (2776, 0.0), (2777, 0.0), (2778, 0.005419457566939771), (2779, 0.0), (2780, 0.0046407019724776), (2781, 0.0), (2782, 0.0), (2783, 0.0), (2784, 0.0045810654443898535), (2785, 0.0), (2786, 0.0), (2787, 0.004261808335163724), (2788, 0.00456290245408506), (2789, 0.01030317723400693), (2790, 0.022322150254527433), (2791, 0.004110416075756579), (2792, 0.0), (2793, 0.0), (2794, 0.0), (2795, 0.005660117409699016), (2796, 0.0), (2797, 0.0), (2798, 0.0), (2799, 0.008856967093485489), (2800, 0.0), (2801, 0.011423790289573221), (2802, 0.0), (2803, 0.011280236605555716), (2804, 0.0), (2805, 0.007725991784583279), (2806, 0.0), (2807, 0.0), (2808, 0.004342925150240746), (2809, 0.0), (2810, 0.017737681504868954), (2811, 0.0), (2812, 0.0), (2813, 0.0), (2814, 0.016984234042685703), (2815, 0.0), (2816, 0.0), (2817, 0.008438065999778794), (2818, 0.0), (2819, 0.014107405376747532), (2820, 0.003920210022124676), (2821, 0.009379524313166772), (2822, 0.0), (2823, 0.0), (2824, 0.0), (2825, 0.03721594082594159), (2826, 0.007955610954834455), (2827, 0.008218823724748164), (2828, 0.0), (2829, 0.0), (2830, 0.0), (2831, 0.0), (2832, 0.0), (2833, 0.0), (2834, 0.0), (2835, 0.0), (2836, 0.0), (2837, 0.0), (2838, 0.0), (2839, 0.007850533782512792), (2840, 0.0049987928211702405), (2841, 0.004420058637201465), (2842, 0.0076387996824328185), (2843, 0.0), (2844, 0.0), (2845, 0.024396081079138064), (2846, 0.0), (2847, 0.004425094500888111), (2848, 0.0), (2849, 0.0), (2850, 0.0), (2851, 0.0), (2852, 0.0), (2853, 0.008790939703478079), (2854, 0.004977634959378797), (2855, 0.0), (2856, 0.0), (2857, 0.0), (2858, 0.0), (2859, 0.0), (2860, 0.0), (2861, 0.0), (2862, 0.0), (2863, 0.0), (2864, 0.0), (2865, 0.0), (2866, 0.05010413487582982), (2867, 0.0), (2868, 0.0), (2869, 0.0), (2870, 0.0), (2871, 0.003985199690041494), (2872, 0.0), (2873, 0.0), (2874, 0.0), (2875, 0.0), (2876, 0.0), (2877, 0.006643607324480129), (2878, 0.0), (2879, 0.0054583169514256635), (2880, 0.0), (2881, 0.005076096530786718), (2882, 0.0), (2883, 0.0), (2884, 0.0), (2885, 0.0), (2886, 0.03594169163496829), (2887, 0.0), (2888, 0.0), (2889, 0.0), (2890, 0.0), (2891, 0.0), (2892, 0.0075116906713333), (2893, 0.0), (2894, 0.009066683553981249), (2895, 0.0), (2896, 0.0), (2897, 0.0), (2898, 0.0), (2899, 0.020824115215341853), (2900, 0.0), (2901, 0.0), (2902, 0.02910029606001752), (2903, 0.0050262003225426954), (2904, 0.008230753475339421), (2905, 0.0), (2906, 0.0), (2907, 0.0), (2908, 0.010701733898072899), (2909, 0.0), (2910, 0.012127789440228774), (2911, 0.0), (2912, 0.0), (2913, 0.0), (2914, 0.0), (2915, 0.0), (2916, 0.0), (2917, 0.029569468669166876), (2918, 0.004318008630325578), (2919, 0.02097991178578034), (2920, 0.0), (2921, 0.0), (2922, 0.0), (2923, 0.0), (2924, 0.010246553156103046), (2925, 0.0035985386926604477), (2926, 0.0), (2927, 0.0), (2928, 0.0), (2929, 0.003997346790824206), (2930, 0.0), (2931, 0.007992165253796887), (2932, 0.005925857073256465), (2933, 0.0), (2934, 0.0), (2935, 0.0), (2936, 0.0), (2937, 0.0), (2938, 0.0), (2939, 0.005582149537409338), (2940, 0.0), (2941, 0.0), (2942, 0.0), (2943, 0.0), (2944, 0.012829963403417587), (2945, 0.02970208884311652), (2946, 0.0), (2947, 0.004593768642720479), (2948, 0.0), (2949, 0.01422907817797681), (2950, 0.0), (2951, 0.0), (2952, 0.0), (2953, 0.0), (2954, 0.007225565861265667), (2955, 0.0), (2956, 0.0), (2957, 0.0), (2958, 0.0), (2959, 0.013048834077115662), (2960, 0.004571269649403339), (2961, 0.004411665876940711), (2962, 0.0075303773707783355), (2963, 0.034442136045395), (2964, 0.008456189321778182), (2965, 0.0), (2966, 0.0), (2967, 0.0), (2968, 0.009643820975600705), (2969, 0.0), (2970, 0.0), (2971, 0.0), (2972, 0.0), (2973, 0.0), (2974, 0.0), (2975, 0.0), (2976, 0.0070888257707155), (2977, 0.0), (2978, 0.02408730680433721), (2979, 0.0), (2980, 0.0), (2981, 0.026470986326256836), (2982, 0.0), (2983, 0.0), (2984, 0.004114845138909048), (2985, 0.0), (2986, 0.0), (2987, 0.0), (2988, 0.013735120922489592), (2989, 0.0), (2990, 0.0), (2991, 0.0045416336782088855), (2992, 0.004179003000474363), (2993, 0.0), (2994, 0.0), (2995, 0.0), (2996, 0.0049323643248524625), (2997, 0.0), (2998, 0.0), (2999, 0.0), (3000, 0.009046089328409562), (3001, 0.0), (3002, 0.0), (3003, 0.0), (3004, 0.0), (3005, 0.0223898225838103), (3006, 0.0), (3007, 0.0), (3008, 0.0), (3009, 0.0), (3010, 0.008519791419726938), (3011, 0.012859634793594518), (3012, 0.0050249409234984855), (3013, 0.0), (3014, 0.0), (3015, 0.0), (3016, 0.0), (3017, 0.0), (3018, 0.0), (3019, 0.005217549272311225), (3020, 0.0), (3021, 0.0), (3022, 0.005214147116271141), (3023, 0.0), (3024, 0.0), (3025, 0.0), (3026, 0.0), (3027, 0.027304580693269683), (3028, 0.0), (3029, 0.0), (3030, 0.0), (3031, 0.0), (3032, 0.005016759301663936), (3033, 0.0), (3034, 0.0), (3035, 0.004266779556127804), (3036, 0.0), (3037, 0.0), (3038, 0.0), (3039, 0.0), (3040, 0.0), (3041, 0.0), (3042, 0.0), (3043, 0.014031990697066402), (3044, 0.0), (3045, 0.0037012278569187244), (3046, 0.0), (3047, 0.0), (3048, 0.0), (3049, 0.005564941083143588), (3050, 0.0), (3051, 0.0), (3052, 0.0), (3053, 0.0), (3054, 0.0), (3055, 0.0), (3056, 0.00655562045761846), (3057, 0.0), (3058, 0.0), (3059, 0.0), (3060, 0.0), (3061, 0.0), (3062, 0.0), (3063, 0.0), (3064, 0.0), (3065, 0.0038069447712366367), (3066, 0.0), (3067, 0.0), (3068, 0.0), (3069, 0.0), (3070, 0.00400361694110506), (3071, 0.008275533421432786), (3072, 0.0), (3073, 0.0), (3074, 0.0), (3075, 0.0), (3076, 0.0), (3077, 0.008343653939452541), (3078, 0.0), (3079, 0.004130582268459352), (3080, 0.0), (3081, 0.0), (3082, 0.0), (3083, 0.024639636501110323), (3084, 0.0), (3085, 0.021162441096896578), (3086, 0.004841701908314772), (3087, 0.0), (3088, 0.0), (3089, 0.0), (3090, 0.0), (3091, 0.0), (3092, 0.009544863837541374), (3093, 0.0), (3094, 0.0), (3095, 0.004811804246424436), (3096, 0.0), (3097, 0.0), (3098, 0.0), (3099, 0.003986582125392281), (3100, 0.011578533764980636), (3101, 0.018503826394276352), (3102, 0.009004749086683647), (3103, 0.0), (3104, 0.0), (3105, 0.0), (3106, 0.0), (3107, 0.0), (3108, 0.011125068159157791), (3109, 0.008427883379589201), (3110, 0.005041929274009019), (3111, 0.007907675672529781), (3112, 0.00481948766230896), (3113, 0.0), (3114, 0.0), (3115, 0.0), (3116, 0.0), (3117, 0.015266670021176036), (3118, 0.0041592051183603805), (3119, 0.0), (3120, 0.0), (3121, 0.0), (3122, 0.01937384814302709), (3123, 0.005466876626957143), (3124, 0.0046532576018562), (3125, 0.004504086463056459), (3126, 0.004292216319711873), (3127, 0.007665214387381239), (3128, 0.0), (3129, 0.052778917603987396), (3130, 0.0), (3131, 0.004795093799921812), (3132, 0.0), (3133, 0.004212745568809954), (3134, 0.004677868192301519), (3135, 0.004197858469095338), (3136, 0.011560778442027436), (3137, 0.0), (3138, 0.0), (3139, 0.0), (3140, 0.0), (3141, 0.00851211751233865), (3142, 0.01221550646226194), (3143, 0.004162586570962241), (3144, 0.0), (3145, 0.0), (3146, 0.0), (3147, 0.008225106406566703), (3148, 0.0), (3149, 0.017044276345313802), (3150, 0.0), (3151, 0.0), (3152, 0.0), (3153, 0.004615235172253518), (3154, 0.005485657045773745), (3155, 0.0), (3156, 0.011938546275294021), (3157, 0.0), (3158, 0.005023393161905334), (3159, 0.0), (3160, 0.010887933113739394), (3161, 0.004421517470319192), (3162, 0.0), (3163, 0.004878309220631014), (3164, 0.0), (3165, 0.0), (3166, 0.0), (3167, 0.007912391535657202), (3168, 0.00504682381054439), (3169, 0.0), (3170, 0.0), (3171, 0.0), (3172, 0.0), (3173, 0.007793189139354416), (3174, 0.0), (3175, 0.00946753238532384), (3176, 0.0), (3177, 0.0), (3178, 0.0), (3179, 0.02274679865037354), (3180, 0.0049863391669703085), (3181, 0.00862316246732218), (3182, 0.03025584936086082), (3183, 0.0), (3184, 0.008499503834499992), (3185, 0.00680072611394461), (3186, 0.0), (3187, 0.0), (3188, 0.01672947322561122), (3189, 0.0), (3190, 0.0), (3191, 0.004614164620197078), (3192, 0.0), (3193, 0.0), (3194, 0.0), (3195, 0.054512902442054374), (3196, 0.005025837364044132), (3197, 0.0), (3198, 0.0), (3199, 0.0), (3200, 0.02173771774085776), (3201, 0.0), (3202, 0.0), (3203, 0.0), (3204, 0.0), (3205, 0.0), (3206, 0.00957435579198924), (3207, 0.008696118977288036), (3208, 0.0), (3209, 0.0), (3210, 0.01250300454384107), (3211, 0.01370307020989644), (3212, 0.0), (3213, 0.003756994194594228), (3214, 0.0), (3215, 0.003748318607876876), (3216, 0.0), (3217, 0.0), (3218, 0.0), (3219, 0.0), (3220, 0.0), (3221, 0.0), (3222, 0.048146455719795825), (3223, 0.006009975891660599), (3224, 0.0), (3225, 0.009053855673928397), (3226, 0.0), (3227, 0.004519090822736807), (3228, 0.0054391743659196095), (3229, 0.0), (3230, 0.0), (3231, 0.026597004157689765), (3232, 0.003918654993125619), (3233, 0.004610845584555897), (3234, 0.00965737617953068), (3235, 0.00843593666904608), (3236, 0.0), (3237, 0.0), (3238, 0.0), (3239, 0.0), (3240, 0.0), (3241, 0.0), (3242, 0.0), (3243, 0.016550034557205422), (3244, 0.0), (3245, 0.0), (3246, 0.007586250842664715), (3247, 0.004053569252171725), (3248, 0.0), (3249, 0.0), (3250, 0.0), (3251, 0.0), (3252, 0.0), (3253, 0.0), (3254, 0.006470313495939212), (3255, 0.0), (3256, 0.0), (3257, 0.0), (3258, 0.0), (3259, 0.0), (3260, 0.0), (3261, 0.0), (3262, 0.0), (3263, 0.004882693590058951), (3264, 0.008355755515641255), (3265, 0.0), (3266, 0.0), (3267, 0.014360757039136479), (3268, 0.0), (3269, 0.0), (3270, 0.0), (3271, 0.0), (3272, 0.0), (3273, 0.0), (3274, 0.0), (3275, 0.014487593039460608), (3276, 0.0), (3277, 0.01666468940905154), (3278, 0.0), (3279, 0.018982077020231778), (3280, 0.0), (3281, 0.0), (3282, 0.010262481674912104), (3283, 0.0), (3284, 0.004104863443040328), (3285, 0.01992625710272628), (3286, 0.0), (3287, 0.0), (3288, 0.0), (3289, 0.018109112646223884), (3290, 0.0), (3291, 0.0), (3292, 0.0), (3293, 0.0), (3294, 0.0), (3295, 0.0), (3296, 0.0), (3297, 0.018776097539913494), (3298, 0.0), (3299, 0.0), (3300, 0.0), (3301, 0.0), (3302, 0.0), (3303, 0.00456099992417215), (3304, 0.007165442211194154), (3305, 0.0), (3306, 0.0), (3307, 0.0), (3308, 0.010459862429283925), (3309, 0.0), (3310, 0.009216991974573182), (3311, 0.0), (3312, 0.005205689484615169), (3313, 0.0), (3314, 0.0), (3315, 0.0), (3316, 0.0), (3317, 0.0036709564791899637), (3318, 0.019965183982749816), (3319, 0.0), (3320, 0.0), (3321, 0.0), (3322, 0.0), (3323, 0.0), (3324, 0.0), (3325, 0.008007688486878915), (3326, 0.0), (3327, 0.0), (3328, 0.011614519050046568), (3329, 0.008077199790315088), (3330, 0.004466684797365994), (3331, 0.0037361105287626413), (3332, 0.0), (3333, 0.015369837774474194), (3334, 0.004715632458642367), (3335, 0.00892688822194847), (3336, 0.015904759500020696), (3337, 0.0), (3338, 0.0041756183024187245), (3339, 0.0038570844969008492), (3340, 0.0), (3341, 0.0), (3342, 0.01151006909975115), (3343, 0.0), (3344, 0.049122420258393), (3345, 0.0), (3346, 0.0), (3347, 0.006641789594737278), (3348, 0.0), (3349, 0.004649936259991427), (3350, 0.0), (3351, 0.0), (3352, 0.008496435662874781), (3353, 0.0), (3354, 0.0), (3355, 0.0), (3356, 0.0), (3357, 0.0), (3358, 0.0), (3359, 0.0), (3360, 0.007848075884584737), (3361, 0.004242708985582628), (3362, 0.013992396601423936), (3363, 0.0), (3364, 0.009135258431266419), (3365, 0.005580528441357487), (3366, 0.0), (3367, 0.00448899807463909), (3368, 0.0), (3369, 0.0), (3370, 0.004350486380709601), (3371, 0.0), (3372, 0.0), (3373, 0.0), (3374, 0.004447980943477477), (3375, 0.0), (3376, 0.0), (3377, 0.02592206214294646), (3378, 0.008257544730753807), (3379, 0.0), (3380, 0.01568597846310721), (3381, 0.0), (3382, 0.008257308190240575), (3383, 0.0), (3384, 0.014531870300281573), (3385, 0.0050232672327198994), (3386, 0.008952222270842159), (3387, 0.014705929689839276), (3388, 0.008337592142016998), (3389, 0.00812580845794058), (3390, 0.007539754989537655), (3391, 0.0), (3392, 0.01112858570626831), (3393, 0.0), (3394, 0.015410357378559447), (3395, 0.007269565347849055), (3396, 0.0), (3397, 0.0), (3398, 0.012783823666554575), (3399, 0.0), (3400, 0.015477716185744466), (3401, 0.0), (3402, 0.0), (3403, 0.003926689379356951), (3404, 0.004560041886888611), (3405, 0.010535220372839995), (3406, 0.009324274100398232), (3407, 0.0), (3408, 0.0102172493713295), (3409, 0.0), (3410, 0.0), (3411, 0.0), (3412, 0.0), (3413, 0.0), (3414, 0.0), (3415, 0.0), (3416, 0.004477753931593117), (3417, 0.0), (3418, 0.0), (3419, 0.0), (3420, 0.0), (3421, 0.011587220967304898), (3422, 0.0), (3423, 0.0), (3424, 0.0), (3425, 0.0), (3426, 0.03736855329993104), (3427, 0.0), (3428, 0.0), (3429, 0.0030472876295403145), (3430, 0.006586825248268382), (3431, 0.0), (3432, 0.04535588808528688), (3433, 0.020858502902810407), (3434, 0.0), (3435, 0.013187717943533671), (3436, 0.004510764810818992), (3437, 0.004692009711143002), (3438, 0.013232742985820337), (3439, 0.0), (3440, 0.005207471736041782), (3441, 0.0), (3442, 0.0), (3443, 0.004420747361181253), (3444, 0.0), (3445, 0.0), (3446, 0.004602928010272037), (3447, 0.0), (3448, 0.00543702307055101), (3449, 0.0), (3450, 0.005205326032298579), (3451, 0.004803911944863673), (3452, 0.00417932532145314), (3453, 0.008703958806248501), (3454, 0.0), (3455, 0.0), (3456, 0.019274767582501233), (3457, 0.0), (3458, 0.006053042993316095), (3459, 0.0), (3460, 0.019522562463790576), (3461, 0.0), (3462, 0.0), (3463, 0.009114054936603957), (3464, 0.0), (3465, 0.004257133492105837), (3466, 0.012536874683248614), (3467, 0.0), (3468, 0.013358995972146917), (3469, 0.0), (3470, 0.005030755191444059), (3471, 0.010588519142579465), (3472, 0.0), (3473, 0.0), (3474, 0.012100863339777182), (3475, 0.0), (3476, 0.0), (3477, 0.0), (3478, 0.0), (3479, 0.0), (3480, 0.0), (3481, 0.0), (3482, 0.0), (3483, 0.01312399605461696), (3484, 0.0037273131907659806), (3485, 0.0), (3486, 0.004576195979907183), (3487, 0.00430924585370389), (3488, 0.004672551125479333), (3489, 0.0), (3490, 0.03979332672479111), (3491, 0.007944422957124808), (3492, 0.0), (3493, 0.008282577583908315), (3494, 0.0), (3495, 0.037484358163469095), (3496, 0.0), (3497, 0.0), (3498, 0.021165665943339174), (3499, 0.004403010358622578), (3500, 0.0), (3501, 0.004555865139629548), (3502, 0.005424891736851313), (3503, 0.0), (3504, 0.004292910651309089), (3505, 0.0), (3506, 0.009126825801840422), (3507, 0.004646192064951279), (3508, 0.0), (3509, 0.0), (3510, 0.00952489058960469), (3511, 0.0), (3512, 0.0), (3513, 0.004695854236764352), (3514, 0.004679002084551935), (3515, 0.008603567699323428), (3516, 0.013480758454951454), (3517, 0.008193549631316934), (3518, 0.007876636889031617), (3519, 0.0), (3520, 0.004537189575652746), (3521, 0.00552154817631613), (3522, 0.0), (3523, 0.0), (3524, 0.010395107706756132), (3525, 0.0), (3526, 0.0), (3527, 0.0), (3528, 0.008138778385270039), (3529, 0.0), (3530, 0.0), (3531, 0.0), (3532, 0.0), (3533, 0.008393081824513288), (3534, 0.12124324126685854), (3535, 0.005307217836738086), (3536, 0.0), (3537, 0.0), (3538, 0.006309847458653308), (3539, 0.0), (3540, 0.0), (3541, 0.007960160469399232), (3542, 0.0), (3543, 0.0), (3544, 0.0), (3545, 0.0), (3546, 0.0), (3547, 0.0), (3548, 0.0), (3549, 0.0), (3550, 0.007350678020405273), (3551, 0.007986818572960096), (3552, 0.0), (3553, 0.004442020077592126), (3554, 0.0), (3555, 0.004343887496025198), (3556, 0.004007448880673387), (3557, 0.0), (3558, 0.0), (3559, 0.0), (3560, 0.0), (3561, 0.0), (3562, 0.0), (3563, 0.03486733940068563), (3564, 0.00794405803078718), (3565, 0.0), (3566, 0.0), (3567, 0.0), (3568, 0.0), (3569, 0.0), (3570, 0.0), (3571, 0.004583054725989107), (3572, 0.0), (3573, 0.0), (3574, 0.006077656593963182), (3575, 0.0), (3576, 0.004552058940324028), (3577, 0.0), (3578, 0.0), (3579, 0.0), (3580, 0.008656223179796864), (3581, 0.0), (3582, 0.004317684829958151), (3583, 0.004351925014264056), (3584, 0.00481344532467088), (3585, 0.0), (3586, 0.008516329852063706), (3587, 0.04309480913103537), (3588, 0.005506717134210813), (3589, 0.0), (3590, 0.0), (3591, 0.0), (3592, 0.0), (3593, 0.0), (3594, 0.0), (3595, 0.0), (3596, 0.0), (3597, 0.009042236029397936), (3598, 0.024587589907049748), (3599, 0.0), (3600, 0.0), (3601, 0.0), (3602, 0.012187814937773832), (3603, 0.0), (3604, 0.004922769426586719), (3605, 0.004284631851428419), (3606, 0.0), (3607, 0.0), (3608, 0.0), (3609, 0.0), (3610, 0.0), (3611, 0.010038778273140751), (3612, 0.0), (3613, 0.0), (3614, 0.031988356885875736), (3615, 0.0), (3616, 0.0), (3617, 0.0), (3618, 0.013138859251697055), (3619, 0.003932266334033722), (3620, 0.0), (3621, 0.0), (3622, 0.0), (3623, 0.004623507232059179), (3624, 0.004440416620855351), (3625, 0.0), (3626, 0.006071187757941769), (3627, 0.0), (3628, 0.0), (3629, 0.0), (3630, 0.0), (3631, 0.0), (3632, 0.0), (3633, 0.0070872528799818734), (3634, 0.0), (3635, 0.006059630717729155), (3636, 0.0), (3637, 0.011646091190128629), (3638, 0.01545413039536861), (3639, 0.0), (3640, 0.004998410587268763), (3641, 0.0), (3642, 0.013441337971953297), (3643, 0.0), (3644, 0.007774863129818495), (3645, 0.0), (3646, 0.0), (3647, 0.0), (3648, 0.0), (3649, 0.0), (3650, 0.008952374983432689), (3651, 0.0), (3652, 0.00495230220084472), (3653, 0.00456874773133279), (3654, 0.008322463318104496), (3655, 0.006886780072663734), (3656, 0.007292918375203999), (3657, 0.0), (3658, 0.0), (3659, 0.014514171737797604), (3660, 0.004322098460476968), (3661, 0.005111642189883607), (3662, 0.0), (3663, 0.0), (3664, 0.004308106815259561), (3665, 0.0), (3666, 0.004653662329992113), (3667, 0.0), (3668, 0.0), (3669, 0.03192571295089671), (3670, 0.004520265035753608), (3671, 0.0), (3672, 0.0), (3673, 0.0), (3674, 0.0037833278872523557), (3675, 0.005342675691904534), (3676, 0.0), (3677, 0.0), (3678, 0.0), (3679, 0.009419397049548715), (3680, 0.005068208131318897), (3681, 0.0), (3682, 0.0), (3683, 0.0), (3684, 0.032984516169374374), (3685, 0.0), (3686, 0.0), (3687, 0.0), (3688, 0.0), (3689, 0.0), (3690, 0.0), (3691, 0.0), (3692, 0.004825739398173517), (3693, 0.0), (3694, 0.004850498524817536), (3695, 0.008655606869191241), (3696, 0.004322286553896569), (3697, 0.0), (3698, 0.0), (3699, 0.004577841691486333), (3700, 0.0), (3701, 0.0), (3702, 0.0), (3703, 0.0), (3704, 0.004843431752529234), (3705, 0.004055643121195851), (3706, 0.05740937743984353), (3707, 0.0), (3708, 0.005174875643732758), (3709, 0.0), (3710, 0.004764827952076987), (3711, 0.0423085805880141), (3712, 0.007495901304812007), (3713, 0.010334551793539381), (3714, 0.0), (3715, 0.005783442765188978), (3716, 0.0), (3717, 0.0), (3718, 0.0), (3719, 0.0), (3720, 0.004325191788520535), (3721, 0.0059456822735506456), (3722, 0.0), (3723, 0.004229782881927219), (3724, 0.0), (3725, 0.0), (3726, 0.0), (3727, 0.004443811696886667), (3728, 0.0), (3729, 0.0), (3730, 0.008650540435000874), (3731, 0.035142892086002735), (3732, 0.0073725651580037665), (3733, 0.0), (3734, 0.004227257447363305), (3735, 0.0), (3736, 0.02789268337475107), (3737, 0.0), (3738, 0.00808129014418323), (3739, 0.0), (3740, 0.0), (3741, 0.014398321809749044), (3742, 0.0), (3743, 0.034206322765884895), (3744, 0.005454601464045215), (3745, 0.0), (3746, 0.0), (3747, 0.0140653884338497), (3748, 0.006846804146008099), (3749, 0.0), (3750, 0.005351268965880297), (3751, 0.0), (3752, 0.0), (3753, 0.0), (3754, 0.009177206035740857), (3755, 0.0), (3756, 0.0036661472658863653), (3757, 0.0), (3758, 0.0), (3759, 0.009060027742100189), (3760, 0.0), (3761, 0.0), (3762, 0.0), (3763, 0.0), (3764, 0.0), (3765, 0.0), (3766, 0.0053448648449266655), (3767, 0.0), (3768, 0.00481609166352038), (3769, 0.004686221799542469), (3770, 0.0), (3771, 0.004854510170981079), (3772, 0.0), (3773, 0.00773967172332082), (3774, 0.01426025232792302), (3775, 0.011502830786913791), (3776, 0.003838518097293162), (3777, 0.004735479454751581), (3778, 0.0), (3779, 0.0), (3780, 0.004785479207657847), (3781, 0.0), (3782, 0.004800832586314704), (3783, 0.0), (3784, 0.0), (3785, 0.0), (3786, 0.0), (3787, 0.004906782964994275), (3788, 0.011586651086886657), (3789, 0.0), (3790, 0.0), (3791, 0.0), (3792, 0.0), (3793, 0.004406148837477875), (3794, 0.004245113972990261), (3795, 0.0), (3796, 0.0), (3797, 0.01473669768629738), (3798, 0.0), (3799, 0.0), (3800, 0.0), (3801, 0.004015514413431546), (3802, 0.01458202718258482), (3803, 0.024301587116701624), (3804, 0.0), (3805, 0.0), (3806, 0.9999999999999999), (3807, 0.01324732968908272), (3808, 0.0), (3809, 0.0), (3810, 0.004567033201921037), (3811, 0.0), (3812, 0.0), (3813, 0.0), (3814, 0.013098718439881737), (3815, 0.0045694785898818735), (3816, 0.03620351845846078), (3817, 0.0), (3818, 0.0), (3819, 0.0042318034651979974), (3820, 0.0), (3821, 0.0), (3822, 0.0), (3823, 0.01165439556296111), (3824, 0.011830572395452092), (3825, 0.0), (3826, 0.0), (3827, 0.040404108104097516), (3828, 0.005668312136200853), (3829, 0.028205762885761564), (3830, 0.007783925903227122), (3831, 0.0), (3832, 0.0), (3833, 0.022496659024152408), (3834, 0.00846699990807876), (3835, 0.0), (3836, 0.0), (3837, 0.0), (3838, 0.0), (3839, 0.00814931303754564), (3840, 0.008112224362211424), (3841, 0.04490003072061002), (3842, 0.008041633904846983), (3843, 0.0), (3844, 0.015532797507732567), (3845, 0.0), (3846, 0.0), (3847, 0.009150679244730764), (3848, 0.0), (3849, 0.0046551504784364045), (3850, 0.004789785940758495), (3851, 0.0), (3852, 0.003905231867751044), (3853, 0.02091692736655275), (3854, 0.004144670305175242), (3855, 0.006714581485341956), (3856, 0.015292677679547286), (3857, 0.009813221880457502), (3858, 0.0), (3859, 0.0), (3860, 0.031574938003602636), (3861, 0.0), (3862, 0.004680925614472184), (3863, 0.0), (3864, 0.0), (3865, 0.0), (3866, 0.0), (3867, 0.0), (3868, 0.008453792863459967), (3869, 0.01734938560836329), (3870, 0.039994929323855365), (3871, 0.0), (3872, 0.008513812342184561), (3873, 0.008461610788737915), (3874, 0.0), (3875, 0.0), (3876, 0.0041141350054298325), (3877, 0.008810674936138869), (3878, 0.010400592210078309), (3879, 0.0), (3880, 0.0), (3881, 0.011820617008686298), (3882, 0.0), (3883, 0.00510890117901358), (3884, 0.00920704680657836), (3885, 0.0), (3886, 0.004304322809326722), (3887, 0.0), (3888, 0.0), (3889, 0.009581920997471979), (3890, 0.0), (3891, 0.0), (3892, 0.0), (3893, 0.0), (3894, 0.0), (3895, 0.0), (3896, 0.0), (3897, 0.004751971453925061), (3898, 0.0), (3899, 0.0), (3900, 0.0), (3901, 0.0054052315921719945), (3902, 0.0), (3903, 0.00906409586529744), (3904, 0.0), (3905, 0.0), (3906, 0.0), (3907, 0.004649998037454578), (3908, 0.012558401275674638), (3909, 0.0), (3910, 0.011691609339544044), (3911, 0.0), (3912, 0.0), (3913, 0.0), (3914, 0.0), (3915, 0.009596543346676577), (3916, 0.0), (3917, 0.0), (3918, 0.0), (3919, 0.009235984970553448), (3920, 0.0), (3921, 0.0), (3922, 0.0), (3923, 0.0), (3924, 0.0), (3925, 0.0), (3926, 0.0), (3927, 0.0), (3928, 0.0), (3929, 0.0), (3930, 0.008192530355510194), (3931, 0.0), (3932, 0.0), (3933, 0.0), (3934, 0.0), (3935, 0.0), (3936, 0.0), (3937, 0.007809909583441158), (3938, 0.014439149012531656), (3939, 0.0), (3940, 0.0), (3941, 0.0), (3942, 0.015120205538671315), (3943, 0.0), (3944, 0.0036128563686981833), (3945, 0.0), (3946, 0.0034757045969534242), (3947, 0.005179363157877061), (3948, 0.0), (3949, 0.0), (3950, 0.0), (3951, 0.0), (3952, 0.0), (3953, 0.0), (3954, 0.0), (3955, 0.0), (3956, 0.01574959946050345), (3957, 0.0036942407629509226), (3958, 0.0075766981774797754), (3959, 0.009284232264828801), (3960, 0.005081136747835891), (3961, 0.0049469714048479664), (3962, 0.0), (3963, 0.0), (3964, 0.0), (3965, 0.008437998235434379), (3966, 0.004180032755204155), (3967, 0.0), (3968, 0.0), (3969, 0.0), (3970, 0.004286644728231801), (3971, 0.0), (3972, 0.0), (3973, 0.0), (3974, 0.004034016533555638), (3975, 0.005841947383223145), (3976, 0.009580715338545051), (3977, 0.0), (3978, 0.004274975477343891), (3979, 0.0), (3980, 0.0), (3981, 0.0), (3982, 0.0), (3983, 0.0), (3984, 0.0), (3985, 0.008446112556236287), (3986, 0.007120106612591046), (3987, 0.0), (3988, 0.0), (3989, 0.003610676548900196), (3990, 0.0), (3991, 0.0), (3992, 0.0), (3993, 0.004141003647257712), (3994, 0.0), (3995, 0.004646737956585172), (3996, 0.0), (3997, 0.004771449709382043), (3998, 0.0), (3999, 0.0), (4000, 0.012294839843946009), (4001, 0.0), (4002, 0.05980236783617686), (4003, 0.0), (4004, 0.004545311770256017), (4005, 0.013244759032517196), (4006, 0.008830002282097123), (4007, 0.0), (4008, 0.0), (4009, 0.0), (4010, 0.0), (4011, 0.0), (4012, 0.0), (4013, 0.004879640071425089), (4014, 0.0), (4015, 0.0), (4016, 0.0), (4017, 0.0), (4018, 0.007530461746063377), (4019, 0.0), (4020, 0.008667738807323718), (4021, 0.0), (4022, 0.016749130032190165), (4023, 0.0), (4024, 0.0), (4025, 0.0), (4026, 0.0), (4027, 0.0), (4028, 0.01073861848244929), (4029, 0.008658439593945176), (4030, 0.0), (4031, 0.0), (4032, 0.0), (4033, 0.0), (4034, 0.0), (4035, 0.0), (4036, 0.0), (4037, 0.0), (4038, 0.004791579642593195), (4039, 0.004369050181533467), (4040, 0.0), (4041, 0.0), (4042, 0.0), (4043, 0.004995648833925107), (4044, 0.004066655320244155), (4045, 0.009334050302552056), (4046, 0.00491342716693329), (4047, 0.005664918323718088), (4048, 0.04124156024939352), (4049, 0.0), (4050, 0.0147109320373586), (4051, 0.0), (4052, 0.0), (4053, 0.0), (4054, 0.0), (4055, 0.0), (4056, 0.008787464552736097), (4057, 0.0), (4058, 0.0), (4059, 0.008262390196436417), (4060, 0.0), (4061, 0.0), (4062, 0.03675182032493194), (4063, 0.008153739423873162), (4064, 0.0), (4065, 0.0), (4066, 0.0), (4067, 0.012975456751263277), (4068, 0.004553332293645668), (4069, 0.007643454198446572), (4070, 0.0), (4071, 0.004240713571015451), (4072, 0.0), (4073, 0.0), (4074, 0.007951065564651862), (4075, 0.0), (4076, 0.004828439630339826), (4077, 0.0), (4078, 0.008780856401815121), (4079, 0.0), (4080, 0.0), (4081, 0.0), (4082, 0.0), (4083, 0.0), (4084, 0.0), (4085, 0.0), (4086, 0.0), (4087, 0.008602397876265166), (4088, 0.012702683460792853), (4089, 0.013866120219211582), (4090, 0.004829587273993385), (4091, 0.013619707654448676), (4092, 0.005072048683179811), (4093, 0.0), (4094, 0.0), (4095, 0.0038036374371402545), (4096, 0.0038829090872457266), (4097, 0.0), (4098, 0.004594195951801374), (4099, 0.0), (4100, 0.0), (4101, 0.017274042463570543), (4102, 0.0), (4103, 0.004506201700883493), (4104, 0.0), (4105, 0.0), (4106, 0.004012631643701752), (4107, 0.0), (4108, 0.0), (4109, 0.0), (4110, 0.0), (4111, 0.0), (4112, 0.0), (4113, 0.0), (4114, 0.0), (4115, 0.0), (4116, 0.00488634186937542), (4117, 0.03170639126595413), (4118, 0.0), (4119, 0.013776709317700654), (4120, 0.0049958803273066925), (4121, 0.005097621672759009), (4122, 0.0), (4123, 0.004732359939691857), (4124, 0.004240920443236042), (4125, 0.009176440854387242), (4126, 0.0), (4127, 0.0), (4128, 0.0), (4129, 0.0), (4130, 0.0), (4131, 0.0), (4132, 0.0), (4133, 0.004887066224175086), (4134, 0.006150792560011141), (4135, 0.0), (4136, 0.00824361035509926), (4137, 0.0), (4138, 0.0), (4139, 0.0), (4140, 0.0), (4141, 0.0), (4142, 0.0), (4143, 0.0), (4144, 0.06335143800025891), (4145, 0.0), (4146, 0.0), (4147, 0.0), (4148, 0.022065679541553435), (4149, 0.0), (4150, 0.019012021135304823), (4151, 0.0), (4152, 0.0), (4153, 0.016102710319341768), (4154, 0.004049946161553061), (4155, 0.008440651250767397), (4156, 0.0), (4157, 0.0), (4158, 0.003848332635630935), (4159, 0.01656061441414288), (4160, 0.0), (4161, 0.0), (4162, 0.005158672045558908), (4163, 0.005196295156005734), (4164, 0.004093131437204161), (4165, 0.01143074230216966), (4166, 0.0), (4167, 0.0), (4168, 0.008093283056843537), (4169, 0.009411382064134785), (4170, 0.0), (4171, 0.0), (4172, 0.0), (4173, 0.0), (4174, 0.027337386418133595), (4175, 0.008426257195738253), (4176, 0.012245302985661115), (4177, 0.008120764935698927), (4178, 0.013983273863378285), (4179, 0.0), (4180, 0.0), (4181, 0.008722687630957408), (4182, 0.006003731176480787), (4183, 0.0), (4184, 0.007945648505049729), (4185, 0.0), (4186, 0.0), (4187, 0.0), (4188, 0.0), (4189, 0.004584532109844685), (4190, 0.0), (4191, 0.0), (4192, 0.0), (4193, 0.01211083902398159), (4194, 0.009692378588102095), (4195, 0.0), (4196, 0.0), (4197, 0.0), (4198, 0.0), (4199, 0.0), (4200, 0.026170700613590586), (4201, 0.014172963667754163), (4202, 0.0), (4203, 0.0), (4204, 0.0), (4205, 0.0), (4206, 0.0), (4207, 0.0), (4208, 0.005608160910235654), (4209, 0.009696875221714097), (4210, 0.0), (4211, 0.004399596008978428), (4212, 0.0), (4213, 0.0), (4214, 0.0), (4215, 0.0), (4216, 0.01286972854286038), (4217, 0.0), (4218, 0.0), (4219, 0.00576178030891518), (4220, 0.0), (4221, 0.0), (4222, 0.0), (4223, 0.0), (4224, 0.0), (4225, 0.0), (4226, 0.009658994653833401), (4227, 0.004947720894694607), (4228, 0.0), (4229, 0.0), (4230, 0.0), (4231, 0.004781042786255911), (4232, 0.03275099879898507), (4233, 0.0), (4234, 0.0), (4235, 0.004106603935720037), (4236, 0.0), (4237, 0.0), (4238, 0.0), (4239, 0.0), (4240, 0.013531424889335616), (4241, 0.0), (4242, 0.005568044361965795), (4243, 0.0), (4244, 0.005134608446255814), (4245, 0.0), (4246, 0.0), (4247, 0.006955235620594391), (4248, 0.0044554067594771846), (4249, 0.004624435755695483), (4250, 0.0), (4251, 0.0045950656930771995), (4252, 0.0), (4253, 0.0), (4254, 0.0), (4255, 0.0045434500630117305), (4256, 0.0), (4257, 0.0), (4258, 0.0), (4259, 0.0), (4260, 0.0), (4261, 0.0), (4262, 0.009172656603306137), (4263, 0.009731181917982695), (4264, 0.0044167182739918475), (4265, 0.004743301657883207), (4266, 0.007985123940444101), (4267, 0.0), (4268, 0.0), (4269, 0.0), (4270, 0.0), (4271, 0.0), (4272, 0.0), (4273, 0.0), (4274, 0.012211100529360062), (4275, 0.013807839026389622), (4276, 0.0), (4277, 0.0), (4278, 0.0), (4279, 0.0), (4280, 0.0), (4281, 0.015391549125313698), (4282, 0.004125668144303532), (4283, 0.0045686475351747885), (4284, 0.004397625586022268), (4285, 0.005259653680772397), (4286, 0.02802362396338656), (4287, 0.0), (4288, 0.060731782653515455), (4289, 0.0), (4290, 0.031431472038708975), (4291, 0.0), (4292, 0.020002949971230588), (4293, 0.0), (4294, 0.0), (4295, 0.0), (4296, 0.0), (4297, 0.0), (4298, 0.0), (4299, 0.021625383577769157), (4300, 0.0), (4301, 0.0), (4302, 0.0), (4303, 0.0), (4304, 0.00792966895838205), (4305, 0.007351445799675678), (4306, 0.0), (4307, 0.005031992787834262), (4308, 0.0), (4309, 0.012997937914901529), (4310, 0.00448648900292346), (4311, 0.0), (4312, 0.004815340478116307), (4313, 0.0), (4314, 0.0), (4315, 0.0), (4316, 0.0), (4317, 0.0), (4318, 0.0), (4319, 0.0), (4320, 0.0), (4321, 0.01682300846654404), (4322, 0.004103710040589158), (4323, 0.0), (4324, 0.009794553180463739), (4325, 0.004157157978942131), (4326, 0.0), (4327, 0.008610422146324227), (4328, 0.042683649371701125), (4329, 0.009071884447866073), (4330, 0.0), (4331, 0.005162724338338024), (4332, 0.0), (4333, 0.0), (4334, 0.0), (4335, 0.0), (4336, 0.0), (4337, 0.01478666625681033), (4338, 0.0), (4339, 0.011322682083992125), (4340, 0.0), (4341, 0.0), (4342, 0.0), (4343, 0.0), (4344, 0.003831236660102802), (4345, 0.0), (4346, 0.0), (4347, 0.0), (4348, 0.0), (4349, 0.0), (4350, 0.0), (4351, 0.0), (4352, 0.0), (4353, 0.0), (4354, 0.0), (4355, 0.008430390258259762), (4356, 0.007359491018999162), (4357, 0.0), (4358, 0.0), (4359, 0.016132559151404408), (4360, 0.0045058588790918225), (4361, 0.0), (4362, 0.004388517701438916), (4363, 0.0), (4364, 0.0), (4365, 0.0039477215366139065), (4366, 0.011145211734247432), (4367, 0.0), (4368, 0.0), (4369, 0.010164720283246722), (4370, 0.0), (4371, 0.0), (4372, 0.0), (4373, 0.0), (4374, 0.020152819372112524), (4375, 0.004550794432494469), (4376, 0.012708275322110083), (4377, 0.004599604920854147), (4378, 0.0), (4379, 0.04733979432177581), (4380, 0.01261442582515805), (4381, 0.0), (4382, 0.0), (4383, 0.0044976023952471005), (4384, 0.004747141265591447), (4385, 0.0), (4386, 0.0), (4387, 0.0043702323129593355), (4388, 0.0), (4389, 0.005078120171634207), (4390, 0.0), (4391, 0.0), (4392, 0.004719482993564066), (4393, 0.0), (4394, 0.0), (4395, 0.007698464816669596), (4396, 0.008853525038614597), (4397, 0.0), (4398, 0.0), (4399, 0.008349907522238414), (4400, 0.0), (4401, 0.0), (4402, 0.004144318028453738), (4403, 0.01697373305701838), (4404, 0.009026603018509672), (4405, 0.0), (4406, 0.0), (4407, 0.0), (4408, 0.0), (4409, 0.0), (4410, 0.0), (4411, 0.0), (4412, 0.0052502281830208095), (4413, 0.0), (4414, 0.0), (4415, 0.0), (4416, 0.0), (4417, 0.0), (4418, 0.0), (4419, 0.0), (4420, 0.0), (4421, 0.0), (4422, 0.0), (4423, 0.0), (4424, 0.0), (4425, 0.0), (4426, 0.003867217463028456), (4427, 0.008825290355292944), (4428, 0.0), (4429, 0.03270951237676948), (4430, 0.004692564300907491), (4431, 0.004793172733857889), (4432, 0.010849279039870655), (4433, 0.0), (4434, 0.0), (4435, 0.0), (4436, 0.013366049273142451), (4437, 0.0), (4438, 0.004296935185444783), (4439, 0.0), (4440, 0.0), (4441, 0.01177470309661402), (4442, 0.0), (4443, 0.0054904856743132335), (4444, 0.005871105662773214), (4445, 0.0), (4446, 0.0), (4447, 0.0), (4448, 0.0), (4449, 0.0), (4450, 0.010987869727650207), (4451, 0.0), (4452, 0.0), (4453, 0.0), (4454, 0.0), (4455, 0.0), (4456, 0.0), (4457, 0.0), (4458, 0.0), (4459, 0.0), (4460, 0.0), (4461, 0.0), (4462, 0.005064934914055915), (4463, 0.008783765548346935), (4464, 0.005698789167143929), (4465, 0.0), (4466, 0.013867025911173787), (4467, 0.0), (4468, 0.01773186125380575), (4469, 0.0), (4470, 0.004620841964672428), (4471, 0.0), (4472, 0.007649463992591981), (4473, 0.0), (4474, 0.004719130727754372), (4475, 0.0040303853616742305), (4476, 0.0), (4477, 0.0), (4478, 0.0), (4479, 0.0), (4480, 0.0), (4481, 0.004282261268312703), (4482, 0.016611570476569186), (4483, 0.0), (4484, 0.0), (4485, 0.0), (4486, 0.0), (4487, 0.0), (4488, 0.0038856842144973265), (4489, 0.0), (4490, 0.005315248983701437), (4491, 0.0), (4492, 0.0), (4493, 0.0), (4494, 0.005063292413291928), (4495, 0.0), (4496, 0.0), (4497, 0.0), (4498, 0.021721992672111515), (4499, 0.0), (4500, 0.0), (4501, 0.0), (4502, 0.0), (4503, 0.012501023536670635), (4504, 0.0), (4505, 0.0), (4506, 0.0), (4507, 0.0), (4508, 0.0), (4509, 0.0), (4510, 0.0047571408407485185), (4511, 0.0), (4512, 0.00502193044505944), (4513, 0.0037075289465352767), (4514, 0.00542123104459689), (4515, 0.0049873639809065624), (4516, 0.0), (4517, 0.02135893073644657), (4518, 0.005440823579568021), (4519, 0.0), (4520, 0.0), (4521, 0.0), (4522, 0.004884314761786294), (4523, 0.004287465538342051), (4524, 0.0053484545270280895), (4525, 0.0), (4526, 0.0), (4527, 0.005153456767712889), (4528, 0.0), (4529, 0.0), (4530, 0.0), (4531, 0.01373692647459088), (4532, 0.0), (4533, 0.004587028676253213), (4534, 0.012952161073512948), (4535, 0.0), (4536, 0.0), (4537, 0.005834200113398609), (4538, 0.0), (4539, 0.0), (4540, 0.0), (4541, 0.0), (4542, 0.008735176139160073), (4543, 0.004317023041746861), (4544, 0.0), (4545, 0.0), (4546, 0.0057933846889599615), (4547, 0.0), (4548, 0.004201397776916515), (4549, 0.0), (4550, 0.0), (4551, 0.0), (4552, 0.004645671020328167), (4553, 0.010838445759140725), (4554, 0.005327686867585731), (4555, 0.0), (4556, 0.0), (4557, 0.009371999682349617), (4558, 0.0069336140565410586), (4559, 0.03431587648488423), (4560, 0.0), (4561, 0.0), (4562, 0.0), (4563, 0.0), (4564, 0.0), (4565, 0.0), (4566, 0.039651779021609455), (4567, 0.0), (4568, 0.0), (4569, 0.0), (4570, 0.0), (4571, 0.0), (4572, 0.0), (4573, 0.0), (4574, 0.0), (4575, 0.0), (4576, 0.004353230633046922), (4577, 0.0), (4578, 0.0), (4579, 0.0048309806751515765), (4580, 0.0), (4581, 0.0), (4582, 0.011878744568946683), (4583, 0.008926747189794094), (4584, 0.0), (4585, 0.00419383282161103), (4586, 0.004667005278654323), (4587, 0.012692272107601349), (4588, 0.0), (4589, 0.0), (4590, 0.0040133260622775765), (4591, 0.00416845528381801), (4592, 0.0), (4593, 0.01378318954566055), (4594, 0.009320883906869007), (4595, 0.013412459361887372), (4596, 0.0), (4597, 0.0), (4598, 0.013862955272881516), (4599, 0.0), (4600, 0.0), (4601, 0.013567212404840209), (4602, 0.008682245700832869), (4603, 0.0), (4604, 0.0), (4605, 0.0), (4606, 0.0), (4607, 0.011491080867250264), (4608, 0.0), (4609, 0.0), (4610, 0.0), (4611, 0.0), (4612, 0.005579602355986648), (4613, 0.008377167436866645), (4614, 0.004281057368701989), (4615, 0.0), (4616, 0.0), (4617, 0.0), (4618, 0.0), (4619, 0.0), (4620, 0.007230318345594892), (4621, 0.004683494700051116), (4622, 0.0), (4623, 0.004465764226352109), (4624, 0.004699839966169499), (4625, 0.0), (4626, 0.0), (4627, 0.0), (4628, 0.018238602593657307), (4629, 0.004675526661313087), (4630, 0.005026192139453088), (4631, 0.0), (4632, 0.0), (4633, 0.00929993504413854), (4634, 0.0), (4635, 0.0), (4636, 0.0), (4637, 0.005318281471179258), (4638, 0.0), (4639, 0.004689854452189453), (4640, 0.0), (4641, 0.0), (4642, 0.005289267755367011), (4643, 0.0), (4644, 0.0), (4645, 0.0), (4646, 0.015804014284798003), (4647, 0.0), (4648, 0.0), (4649, 0.0), (4650, 0.0), (4651, 0.0), (4652, 0.006048597090093314), (4653, 0.016281996492763136), (4654, 0.0), (4655, 0.0), (4656, 0.008533179330890235), (4657, 0.0), (4658, 0.00430886648421104), (4659, 0.00853944360359187), (4660, 0.01528492092097123), (4661, 0.003972865718149182), (4662, 0.008372918197529349), (4663, 0.009040692438637442), (4664, 0.01557730333621844), (4665, 0.004445239851770618), (4666, 0.006067800146561833), (4667, 0.0), (4668, 0.0), (4669, 0.004881441879499781), (4670, 0.004293270739238284), (4671, 0.0), (4672, 0.0), (4673, 0.004340976374933912), (4674, 0.043053018840336264), (4675, 0.0), (4676, 0.0), (4677, 0.004530042797010867), (4678, 0.01266878588257171), (4679, 0.003940342942238479), (4680, 0.0), (4681, 0.0), (4682, 0.0), (4683, 0.008864961323292137), (4684, 0.013589978681898022), (4685, 0.0), (4686, 0.0), (4687, 0.0), (4688, 0.0), (4689, 0.0040896981304507), (4690, 0.0), (4691, 0.006070847755073164), (4692, 0.0), (4693, 0.0), (4694, 0.0), (4695, 0.004723460115249883), (4696, 0.0), (4697, 0.004166139877836345), (4698, 0.005407470369294827), (4699, 0.015025506239264203), (4700, 0.0), (4701, 0.014773163872547167), (4702, 0.0), (4703, 0.004803702554549533), (4704, 0.0), (4705, 0.0), (4706, 0.041853781094382106), (4707, 0.0), (4708, 0.004447714814031139), (4709, 0.006092098700633116), (4710, 0.005665287262742368), (4711, 0.0), (4712, 0.007959094142174336), (4713, 0.0), (4714, 0.0), (4715, 0.004493511157362488), (4716, 0.0), (4717, 0.0), (4718, 0.0), (4719, 0.0), (4720, 0.0), (4721, 0.01657444994678984), (4722, 0.0), (4723, 0.0), (4724, 0.005524925259700472), (4725, 0.0), (4726, 0.007205895733285055), (4727, 0.0), (4728, 0.0), (4729, 0.0), (4730, 0.0), (4731, 0.00507451003917799), (4732, 0.0), (4733, 0.0037396811409445454), (4734, 0.0), (4735, 0.005303631762962655), (4736, 0.007908533840958614), (4737, 0.0), (4738, 0.0), (4739, 0.0), (4740, 0.0), (4741, 0.0), (4742, 0.0), (4743, 0.0), (4744, 0.0), (4745, 0.0), (4746, 0.0050835024777133924), (4747, 0.014265386136929827), (4748, 0.0), (4749, 0.0), (4750, 0.0), (4751, 0.0), (4752, 0.0), (4753, 0.0), (4754, 0.0), (4755, 0.0), (4756, 0.0), (4757, 0.004706700897242908), (4758, 0.0), (4759, 0.0)]\n"
          ]
        }
      ]
    },
    {
      "cell_type": "code",
      "source": [
        "len(Recom_score)"
      ],
      "metadata": {
        "colab": {
          "base_uri": "https://localhost:8080/"
        },
        "id": "-la2b8LytI2Q",
        "outputId": "4c31a518-0a74-40c5-edfb-8e449b732275"
      },
      "execution_count": null,
      "outputs": [
        {
          "output_type": "execute_result",
          "data": {
            "text/plain": [
              "4760"
            ]
          },
          "metadata": {},
          "execution_count": 74
        }
      ]
    },
    {
      "cell_type": "markdown",
      "source": [
        "# **Get Movies based on Recommendation Score**"
      ],
      "metadata": {
        "id": "auwj9UV-oXGH"
      }
    },
    {
      "cell_type": "code",
      "source": [
        "Sorted_similar_movies = sorted(Recom_score, key = lambda x:x[1], reverse = True)"
      ],
      "metadata": {
        "id": "mnl0FNZZoSxb"
      },
      "execution_count": null,
      "outputs": []
    },
    {
      "cell_type": "code",
      "source": [
        "print(Sorted_similar_movies)"
      ],
      "metadata": {
        "colab": {
          "base_uri": "https://localhost:8080/"
        },
        "id": "LeW_FTERpOX9",
        "outputId": "96c7ae7a-2a78-4540-f5fb-24787d5c07ee"
      },
      "execution_count": null,
      "outputs": [
        {
          "output_type": "stream",
          "name": "stdout",
          "text": [
            "[(3806, 0.9999999999999999), (1863, 0.22252269595345833), (1081, 0.12266629952008576), (3534, 0.12124324126685854), (1753, 0.11845816236472409), (897, 0.09977906665340178), (2624, 0.09741474624419871), (727, 0.0939198250280608), (510, 0.0728298141657169), (1480, 0.07222379218529935), (2617, 0.0685077829824687), (443, 0.06581040740417227), (4144, 0.06335143800025891), (4288, 0.060731782653515455), (2599, 0.059870496159421006), (4002, 0.05980236783617686), (930, 0.058602100182912786), (3706, 0.05740937743984353), (2458, 0.05548244342442406), (449, 0.05488537425057653), (1257, 0.05458567573503621), (3195, 0.054512902442054374), (1272, 0.05439975471158779), (46, 0.054211089096932105), (3129, 0.052778917603987396), (1054, 0.05230659819603918), (2736, 0.051918469548620484), (60, 0.051912707712859885), (1383, 0.05183594638547689), (425, 0.05069005844722481), (2866, 0.05010413487582982), (2409, 0.04992236995819064), (1964, 0.04990877170612952), (1681, 0.04990317248032297), (3344, 0.049122420258393), (543, 0.048786541115534265), (2037, 0.048694895307846535), (1015, 0.04830059604388511), (3222, 0.048146455719795825), (1255, 0.04743914930445301), (249, 0.04743070658507084), (4379, 0.04733979432177581), (291, 0.04700980503256097), (1435, 0.046947136787666544), (1035, 0.04669197506365037), (1243, 0.046203094762146124), (2756, 0.04605424619299502), (1924, 0.045892892577011575), (3432, 0.04535588808528688), (654, 0.04504495188558908), (1185, 0.045026995699012876), (3841, 0.04490003072061002), (1518, 0.044628973926038214), (857, 0.04439278315004878), (1197, 0.04421061895260286), (810, 0.0437639924197038), (2486, 0.04339367529415779), (2633, 0.04326233932245207), (884, 0.04311254860775971), (3587, 0.04309480913103537), (2607, 0.043081012442810276), (266, 0.04306998597369803), (4674, 0.043053018840336264), (4328, 0.042683649371701125), (447, 0.04266946413247739), (655, 0.042438727414563865), (3711, 0.0423085805880141), (638, 0.04188579433410382), (4706, 0.041853781094382106), (659, 0.041473837178918734), (4048, 0.04124156024939352), (809, 0.04124068179647364), (15, 0.04106753853219877), (811, 0.04072626042397634), (3827, 0.040404108104097516), (3870, 0.039994929323855365), (3490, 0.03979332672479111), (4566, 0.039651779021609455), (2050, 0.03929351644181614), (1049, 0.039200481372183855), (145, 0.03874520096854006), (1556, 0.03859684721665265), (816, 0.03855611360500289), (900, 0.03842105368622435), (511, 0.03839167765599009), (204, 0.03824822907395363), (968, 0.03818569929190028), (1631, 0.03811228332124167), (457, 0.03782170466826215), (3495, 0.037484358163469095), (3426, 0.03736855329993104), (65, 0.03730062968587724), (2825, 0.03721594082594159), (1406, 0.037145470796370296), (1534, 0.03714231616242243), (1481, 0.03678534326351055), (4062, 0.03675182032493194), (1218, 0.03649593641327475), (622, 0.03632231437301135), (2044, 0.03630933850527086), (893, 0.03622308517792329), (1583, 0.03621850412113995), (3816, 0.03620351845846078), (220, 0.036139032128772154), (1329, 0.03612801365442523), (1550, 0.03610063794287606), (1888, 0.03596388607761426), (2886, 0.03594169163496829), (320, 0.035835872044781364), (1749, 0.03564708708483544), (480, 0.0352759472182475), (648, 0.03515277752692107), (1665, 0.035149996688431925), (3731, 0.035142892086002735), (3563, 0.03486733940068563), (1048, 0.03483779960133854), (707, 0.03466064900814919), (1141, 0.03447269023104877), (2963, 0.034442136045395), (4559, 0.03431587648488423), (563, 0.0342715026811318), (3743, 0.034206322765884895), (541, 0.03418348287800913), (614, 0.03407759107389998), (478, 0.03361396888296671), (1919, 0.03355857480456383), (1301, 0.03342276190729047), (2724, 0.033358871545263284), (1159, 0.033177769841581446), (2326, 0.03310094525884811), (1227, 0.03302553822888797), (3684, 0.032984516169374374), (1612, 0.03291994495768522), (1580, 0.032773950917002276), (4232, 0.03275099879898507), (4429, 0.03270951237676948), (2621, 0.03266127038281556), (476, 0.03260301056380157), (1555, 0.03241961624711404), (251, 0.0322393575807231), (1544, 0.03218193661683735), (3614, 0.031988356885875736), (3669, 0.03192571295089671), (2689, 0.03187130741334436), (1731, 0.03184293771525532), (1363, 0.03181646417326416), (4117, 0.03170639126595413), (3860, 0.031574938003602636), (4290, 0.031431472038708975), (1846, 0.03142376410629722), (275, 0.031408630817636014), (1999, 0.031375275337357456), (1029, 0.031283964442981954), (2179, 0.03105640954074844), (738, 0.03092625715762687), (1061, 0.030773829499327002), (1879, 0.030697521909916318), (3182, 0.03025584936086082), (1872, 0.030040221831068963), (1611, 0.03001565651682575), (2945, 0.02970208884311652), (2917, 0.029569468669166876), (2118, 0.029287925524221346), (2902, 0.02910029606001752), (1356, 0.028932063564749498), (1458, 0.028931564317126002), (741, 0.02881191950157791), (349, 0.028806237291297707), (1747, 0.028491453295176924), (1034, 0.02844335614592317), (1281, 0.02828313637440391), (598, 0.028271391506861098), (3829, 0.028205762885761564), (454, 0.028161213186210395), (4286, 0.02802362396338656), (3736, 0.02789268337475107), (423, 0.02756788644510441), (834, 0.02754941020996429), (583, 0.027507726652287488), (676, 0.027360586611983685), (4174, 0.027337386418133595), (907, 0.027313393213189024), (2128, 0.027313349313187057), (3027, 0.027304580693269683), (2526, 0.027048677097797), (1101, 0.026941292050937687), (1366, 0.026791627430246868), (1405, 0.026676149859104045), (3231, 0.026597004157689765), (2340, 0.026571281743345453), (2981, 0.026470986326256836), (256, 0.026402640216959778), (203, 0.026281100127773908), (835, 0.026261751710632126), (4200, 0.026170700613590586), (733, 0.026013674682256953), (833, 0.025994459711055483), (3377, 0.02592206214294646), (2250, 0.02552854502513856), (1981, 0.0253398843697066), (327, 0.025316767268754127), (75, 0.024946276340421614), (3083, 0.024639636501110323), (3598, 0.024587589907049748), (2845, 0.024396081079138064), (3803, 0.024301587116701624), (2978, 0.02408730680433721), (1614, 0.023698179396859666), (2104, 0.023658026344197346), (1484, 0.023432758925316752), (418, 0.02343173546360277), (1553, 0.023392784780896802), (1974, 0.02338045796740193), (283, 0.023164046762199988), (1827, 0.023134936564171135), (1829, 0.023109491164596263), (1983, 0.02307130206566814), (1469, 0.022933063131697247), (3179, 0.02274679865037354), (351, 0.02266004861515468), (1970, 0.022570302102270446), (3833, 0.022496659024152408), (2572, 0.02248831756958919), (3005, 0.0223898225838103), (2790, 0.022322150254527433), (4148, 0.022065679541553435), (1997, 0.022064664153566955), (2480, 0.021961965819461585), (901, 0.021953958296720345), (1226, 0.021929330611647726), (769, 0.021862364708096625), (1802, 0.021790546942013204), (1156, 0.021758912594081727), (3200, 0.02173771774085776), (1153, 0.021726596290869406), (4498, 0.021721992672111515), (1948, 0.021689524998342525), (412, 0.02165440226975409), (4299, 0.021625383577769157), (500, 0.021599865319549525), (1719, 0.02142528824056908), (4517, 0.02135893073644657), (1248, 0.021283721353208416), (1224, 0.021199576576075158), (3498, 0.021165665943339174), (3085, 0.021162441096896578), (2280, 0.021030953147916046), (2919, 0.02097991178578034), (2598, 0.020958551975865165), (3853, 0.02091692736655275), (685, 0.020862224970469467), (3433, 0.020858502902810407), (694, 0.020831463881182198), (2899, 0.020824115215341853), (84, 0.02078724013566117), (257, 0.020727234795055945), (24, 0.020673703381356875), (1030, 0.020550943276506306), (1562, 0.020518707406426345), (1335, 0.02051087675356796), (2269, 0.020508531262032968), (1068, 0.02048649560312111), (304, 0.020423292298848532), (1707, 0.020283120221213792), (397, 0.020254420608278347), (389, 0.020218427508140444), (4374, 0.020152819372112524), (4292, 0.020002949971230588), (3318, 0.019965183982749816), (3285, 0.01992625710272628), (1430, 0.019740987328052472), (1967, 0.01972927907275515), (1362, 0.019696933791052765), (3460, 0.019522562463790576), (1479, 0.01938068795096097), (3122, 0.01937384814302709), (3456, 0.019274767582501233), (440, 0.01923320266464647), (1559, 0.01917197789237753), (192, 0.019111777495640435), (1103, 0.01904129463000064), (4150, 0.019012021135304823), (3279, 0.018982077020231778), (2622, 0.018794352347438273), (3297, 0.018776097539913494), (940, 0.018550134151398834), (3101, 0.018503826394276352), (1840, 0.018477918039430864), (4628, 0.018238602593657307), (708, 0.01823113262483784), (3289, 0.018109112646223884), (791, 0.017992515523637946), (198, 0.017928727319991237), (1533, 0.017924555580482927), (1175, 0.017832977988212508), (2810, 0.017737681504868954), (4468, 0.01773186125380575), (1505, 0.017721562623489444), (1504, 0.017501174786218692), (1295, 0.01749719794328481), (3869, 0.01734938560836329), (1026, 0.017339521852773872), (1130, 0.017315111678619176), (4101, 0.017274042463570543), (2097, 0.0172226124136564), (871, 0.017208836725829176), (959, 0.017163342175550933), (773, 0.017093970613223326), (3149, 0.017044276345313802), (2465, 0.017030436903126975), (2746, 0.017029397210139834), (2814, 0.016984234042685703), (4403, 0.01697373305701838), (294, 0.016904200417604605), (455, 0.016846000049341694), (4321, 0.01682300846654404), (689, 0.01678468510357502), (1532, 0.016773222306227763), (4022, 0.016749130032190165), (3188, 0.01672947322561122), (1647, 0.01670347986074696), (422, 0.016695646119151388), (126, 0.016672156063164165), (3277, 0.01666468940905154), (2014, 0.01665806947053297), (4482, 0.016611570476569186), (4721, 0.01657444994678984), (4159, 0.01656061441414288), (1831, 0.01656014316433712), (3243, 0.016550034557205422), (2241, 0.016457778864089438), (1353, 0.016429937882542916), (1052, 0.016358884606495205), (96, 0.016354403783478483), (2553, 0.016328320681014388), (127, 0.0163079369629274), (4653, 0.016281996492763136), (524, 0.016210389728884545), (1463, 0.01614826890570114), (4359, 0.016132559151404408), (4153, 0.016102710319341768), (994, 0.016083759805409006), (1067, 0.015974151104352224), (2323, 0.015946199279262448), (1080, 0.015907482136536116), (3336, 0.015904759500020696), (2591, 0.015853077417298172), (1501, 0.015806677148743037), (4646, 0.015804014284798003), (856, 0.01577288521645926), (3956, 0.01574959946050345), (3380, 0.01568597846310721), (1394, 0.01565560670542158), (705, 0.015643628488252542), (4664, 0.01557730333621844), (1338, 0.015566296391653951), (3844, 0.015532797507732567), (1084, 0.01550811448091242), (805, 0.015487831755173764), (3400, 0.015477716185744466), (2102, 0.015472353407970462), (3638, 0.01545413039536861), (3394, 0.015410357378559447), (4281, 0.015391549125313698), (3333, 0.015369837774474194), (1782, 0.015318422609757139), (892, 0.015308237373114394), (3856, 0.015292677679547286), (167, 0.015289534472998108), (4660, 0.01528492092097123), (3117, 0.015266670021176036), (3942, 0.015120205538671315), (780, 0.015057924357302768), (4699, 0.015025506239264203), (1351, 0.014977069561770235), (2762, 0.014953692997868018), (818, 0.014951597670105933), (951, 0.014917150930399489), (4337, 0.01478666625681033), (4701, 0.014773163872547167), (1367, 0.014756409027244843), (688, 0.01475234784098171), (3797, 0.01473669768629738), (512, 0.014732507648911208), (4050, 0.0147109320373586), (3387, 0.014705929689839276), (967, 0.014702883563384644), (1944, 0.014676161218548346), (589, 0.014667739965749873), (1454, 0.014627157751398542), (875, 0.014616203065433651), (904, 0.014591142768454239), (1167, 0.014589747726428612), (3802, 0.01458202718258482), (70, 0.014565711604521681), (3384, 0.014531870300281573), (3659, 0.014514171737797604), (3275, 0.014487593039460608), (481, 0.01448250571202861), (3938, 0.014439149012531656), (3741, 0.014398321809749044), (2477, 0.01438816624235326), (3267, 0.014360757039136479), (1815, 0.014348659356727439), (4747, 0.014265386136929827), (3774, 0.01426025232792302), (1140, 0.014259003683155361), (1575, 0.014258873431027604), (2949, 0.01422907817797681), (1779, 0.014178313838161056), (4201, 0.014172963667754163), (1407, 0.014152193750231086), (1184, 0.01414093146661829), (2819, 0.014107405376747532), (2638, 0.014083582523314639), (2196, 0.014082844668089229), (3747, 0.0140653884338497), (107, 0.014058306605747108), (470, 0.014045390737955014), (976, 0.014036273136950331), (3043, 0.014031990697066402), (2766, 0.01402110156421571), (3362, 0.013992396601423936), (4178, 0.013983273863378285), (89, 0.013975939155548501), (845, 0.01394182989958349), (1716, 0.013901234468563652), (436, 0.013868218296059966), (4466, 0.013867025911173787), (4089, 0.013866120219211582), (4598, 0.013862955272881516), (34, 0.01385741810669339), (1332, 0.01381048005013917), (4275, 0.013807839026389622), (189, 0.013790462978639204), (4593, 0.01378318954566055), (1498, 0.013780480201704366), (4119, 0.013776709317700654), (687, 0.01375214180964502), (606, 0.013751606994472029), (888, 0.01373773676350985), (4531, 0.01373692647459088), (2988, 0.013735120922489592), (3211, 0.01370307020989644), (2428, 0.013679279635376296), (48, 0.013657768670101244), (1554, 0.013647261904337377), (4091, 0.013619707654448676), (4684, 0.013589978681898022), (4601, 0.013567212404840209), (802, 0.013562772489287939), (2441, 0.01356257028812542), (2229, 0.013545994534542239), (1344, 0.013543239478866553), (102, 0.013542032485463651), (4240, 0.013531424889335616), (675, 0.013517526216267495), (678, 0.013512959621622139), (3516, 0.013480758454951454), (3642, 0.013441337971953297), (4595, 0.013412459361887372), (4436, 0.013366049273142451), (3468, 0.013358995972146917), (1074, 0.013358060416993608), (2000, 0.01334673356823406), (1724, 0.013346360878321575), (6, 0.013336428079585846), (1873, 0.013330335553384191), (2558, 0.013318908623184406), (2039, 0.013312903989562117), (2211, 0.01326143153732244), (3807, 0.01324732968908272), (4005, 0.013244759032517196), (3438, 0.013232742985820337), (1659, 0.01321195526393226), (2096, 0.013211784440008232), (2359, 0.013209847486892152), (2283, 0.013209366623092113), (3435, 0.013187717943533671), (375, 0.013161066946948038), (493, 0.013160601685140765), (3618, 0.013138859251697055), (3483, 0.01312399605461696), (1314, 0.013100316237799838), (3814, 0.013098718439881737), (1918, 0.01309290535043842), (25, 0.013091840312090652), (1502, 0.013089612714907637), (1551, 0.01308862724151081), (2069, 0.01308432869534482), (1380, 0.013072496979777177), (927, 0.013062719977041434), (891, 0.013056834737893864), (2959, 0.013048834077115662), (523, 0.013029948361082885), (1902, 0.013028750818380317), (244, 0.013027751499541756), (4309, 0.012997937914901529), (2759, 0.012976440231705964), (4067, 0.012975456751263277), (4534, 0.012952161073512948), (660, 0.012947886436016048), (2057, 0.01291484649609928), (1047, 0.01291448143362147), (4216, 0.01286972854286038), (1347, 0.012863032868392004), (3011, 0.012859634793594518), (1949, 0.012850466085159117), (1493, 0.01283894170172568), (2944, 0.012829963403417587), (980, 0.012810868217543975), (1629, 0.012795016832441549), (3398, 0.012783823666554575), (52, 0.012733127732395563), (118, 0.01271838435607335), (1993, 0.012714898818737119), (4376, 0.012708275322110083), (4088, 0.012702683460792853), (4587, 0.012692272107601349), (2618, 0.01268322532924656), (4678, 0.01266878588257171), (1428, 0.012623839841571623), (4380, 0.01261442582515805), (1871, 0.01259672900696364), (2374, 0.012562180711815835), (3908, 0.012558401275674638), (2647, 0.012554315913843933), (1177, 0.012544798539163134), (3466, 0.012536874683248614), (1985, 0.01252510062045656), (742, 0.012518093036297332), (3210, 0.01250300454384107), (4503, 0.012501023536670635), (974, 0.012466554048325851), (451, 0.012448846201935673), (347, 0.012437275444084177), (1179, 0.012393585423347344), (1107, 0.012390384039883101), (2246, 0.012372013106727045), (240, 0.012326385076256982), (988, 0.012311728662050384), (1448, 0.012305145950676114), (1483, 0.012299162284372618), (4000, 0.012294839843946009), (4176, 0.012245302985661115), (3142, 0.01221550646226194), (4274, 0.012211100529360062), (160, 0.012206440439632236), (322, 0.012205815270866444), (530, 0.01220166441069072), (607, 0.012195495372934012), (3602, 0.012187814937773832), (2910, 0.012127789440228774), (4193, 0.01211083902398159), (2632, 0.012103946158486938), (3474, 0.012100863339777182), (1784, 0.012092601997962558), (1653, 0.012087519474220657), (1595, 0.012051627739036893), (1173, 0.012051545884233572), (1017, 0.012047990541538552), (329, 0.012024408000237491), (72, 0.012021347194108554), (1044, 0.012007594509290606), (1421, 0.01194949679158063), (2432, 0.011947793723155478), (3156, 0.011938546275294021), (923, 0.011936954418140659), (1864, 0.011922041697966743), (1996, 0.011910073285523622), (138, 0.011901646292643623), (4582, 0.011878744568946683), (93, 0.01187209253280154), (3824, 0.011830572395452092), (356, 0.011823336452314172), (3881, 0.011820617008686298), (1375, 0.01178105858023066), (979, 0.011775807767402394), (4441, 0.01177470309661402), (166, 0.011761113332082119), (878, 0.011707524684788573), (756, 0.011693983105388616), (3910, 0.011691609339544044), (824, 0.011663151192178773), (3823, 0.01165439556296111), (3637, 0.011646091190128629), (1041, 0.01163515982895708), (3328, 0.011614519050046568), (3421, 0.011587220967304898), (3788, 0.011586651086886657), (963, 0.011586587957069077), (3100, 0.011578533764980636), (2682, 0.011564686908719885), (3136, 0.011560778442027436), (1699, 0.01152191460158777), (99, 0.011517309003807688), (417, 0.011513631548698503), (3342, 0.01151006909975115), (868, 0.011508557829941835), (3775, 0.011502830786913791), (2119, 0.011498683825358484), (4607, 0.011491080867250264), (463, 0.011487609189144422), (1838, 0.011476522294937149), (2093, 0.011463843794818697), (1519, 0.011462311771649953), (4165, 0.01143074230216966), (2801, 0.011423790289573221), (306, 0.01142049555478494), (2110, 0.011372851433911119), (354, 0.011343311114862694), (1259, 0.011329328769302541), (4339, 0.011322682083992125), (1796, 0.011309564357696188), (1202, 0.01129591187600918), (1675, 0.011292085315069107), (2803, 0.011280236605555716), (1236, 0.011272657055634502), (1680, 0.011257371473655662), (170, 0.011230873146267913), (1134, 0.011173038042765565), (898, 0.01116618471298108), (981, 0.011159207294344924), (334, 0.011153585345083627), (997, 0.011147917290498865), (4366, 0.011145211734247432), (3392, 0.01112858570626831), (3108, 0.011125068159157791), (44, 0.011085575098322474), (732, 0.011065286511165541), (191, 0.01105938901800201), (1414, 0.01105813957008474), (149, 0.010997123401112363), (4450, 0.010987869727650207), (88, 0.010983884397473949), (2074, 0.010942750467320989), (1608, 0.01094112674266538), (3160, 0.010887933113739394), (438, 0.01088687849566788), (4432, 0.010849279039870655), (4553, 0.010838445759140725), (653, 0.01078457712486068), (4028, 0.01073861848244929), (2908, 0.010701733898072899), (719, 0.010698718187950026), (234, 0.010668005975397634), (751, 0.010661549452213169), (2447, 0.010631130741605268), (779, 0.010595611749316019), (3471, 0.010588519142579465), (3405, 0.010535220372839995), (2368, 0.010530419243796815), (1300, 0.010481142130963926), (3308, 0.010459862429283925), (3878, 0.010400592210078309), (3524, 0.010395107706756132), (3713, 0.010334551793539381), (2789, 0.01030317723400693), (2158, 0.010301433030826156), (3282, 0.010262481674912104), (2924, 0.010246553156103046), (3408, 0.0102172493713295), (1143, 0.010178288413890745), (1137, 0.010176938761849165), (4369, 0.010164720283246722), (295, 0.010108535647809752), (2180, 0.010099483249678558), (739, 0.010081769963288108), (3611, 0.010038778273140751), (2524, 0.009988078664779038), (1594, 0.009892104695439467), (1858, 0.009886172582352352), (2013, 0.00987590732699601), (2585, 0.009835498028888393), (3857, 0.009813221880457502), (4324, 0.009794553180463739), (1669, 0.009736749518337815), (4263, 0.009731181917982695), (2730, 0.009722889805883294), (982, 0.00971909239326271), (4209, 0.009696875221714097), (2739, 0.009695860137654826), (2410, 0.009692486429582968), (4194, 0.009692378588102095), (677, 0.009682674607891987), (4226, 0.009658994653833401), (3234, 0.00965737617953068), (2968, 0.009643820975600705), (3915, 0.009596543346676577), (3889, 0.009581920997471979), (3976, 0.009580715338545051), (2258, 0.009580583336104181), (3206, 0.00957435579198924), (3092, 0.009544863837541374), (3510, 0.00952489058960469), (1168, 0.009502587837970311), (2162, 0.00948793901319731), (395, 0.009479280357442103), (3175, 0.00946753238532384), (873, 0.009461105009685595), (1324, 0.009424562505383871), (3679, 0.009419397049548715), (4169, 0.009411382064134785), (562, 0.009403697332017708), (74, 0.009396564244376428), (1339, 0.009391106064365794), (2821, 0.009379524313166772), (4557, 0.009371999682349617), (2516, 0.009361454715822988), (4045, 0.009334050302552056), (3406, 0.009324274100398232), (4594, 0.009320883906869007), (4633, 0.00929993504413854), (830, 0.009287514060935732), (3959, 0.009284232264828801), (1402, 0.009264691891737262), (270, 0.009240201937708803), (3919, 0.009235984970553448), (1466, 0.009225119814756606), (1775, 0.00921910071054887), (3310, 0.009216991974573182), (3884, 0.00920704680657836), (2085, 0.009205185017655187), (1471, 0.009191872632210989), (1613, 0.00918999394498061), (517, 0.009181583797848), (2650, 0.009179537871998794), (3754, 0.009177206035740857), (4125, 0.009176440854387242), (4262, 0.009172656603306137), (3847, 0.009150679244730764), (3364, 0.009135258431266419), (3506, 0.009126825801840422), (3463, 0.009114054936603957), (377, 0.00910328496405282), (225, 0.009100922461771608), (2353, 0.009096587902574014), (4329, 0.009071884447866073), (2894, 0.009066683553981249), (3903, 0.00906409586529744), (3759, 0.009060027742100189), (3225, 0.009053855673928397), (3000, 0.009046089328409562), (38, 0.009043442393710055), (3597, 0.009042236029397936), (1585, 0.009041102581592266), (4663, 0.009040692438637442), (115, 0.009034189823807168), (1936, 0.009029960468936032), (4404, 0.009026603018509672), (969, 0.009017940780518728), (1085, 0.009007095740886643), (3102, 0.009004749086683647), (1361, 0.008974760294082996), (2440, 0.008972737634893526), (3650, 0.008952374983432689), (3386, 0.008952222270842159), (2400, 0.0089504252676033), (1928, 0.008946350387365453), (683, 0.008933597714055243), (3335, 0.00892688822194847), (4583, 0.008926747189794094), (182, 0.008905658642729715), (697, 0.008872140545047877), (4683, 0.008864961323292137), (5, 0.008861494764198792), (2799, 0.008856967093485489), (1069, 0.008853782380848154), (4396, 0.008853525038614597), (4006, 0.008830002282097123), (4427, 0.008825290355292944), (1474, 0.008825067350418965), (1133, 0.008816207616421316), (2384, 0.008813398290117415), (3877, 0.008810674936138869), (109, 0.00880843768316252), (1720, 0.008799903917970394), (2853, 0.008790939703478079), (1371, 0.008790374347674164), (4056, 0.008787464552736097), (4463, 0.008783765548346935), (4078, 0.008780856401815121), (1239, 0.008754946844911796), (2408, 0.00874880886509988), (2443, 0.008745957299641238), (1059, 0.008745749143598023), (62, 0.008736781318103307), (4542, 0.008735176139160073), (61, 0.008722837685195143), (4181, 0.008722687630957408), (1913, 0.008718964966998914), (1253, 0.008711906923500344), (613, 0.008708643443564588), (3453, 0.008703958806248501), (1786, 0.00870335837910387), (3207, 0.008696118977288036), (2375, 0.008693593820282923), (841, 0.008689123611636566), (4602, 0.008682245700832869), (4020, 0.008667738807323718), (1091, 0.008663350803229662), (2297, 0.008660198723755718), (4029, 0.008658439593945176), (3580, 0.008656223179796864), (3695, 0.008655606869191241), (1589, 0.008654639662689301), (253, 0.00865184349751471), (3730, 0.008650540435000874), (977, 0.008631750868617132), (1900, 0.0086301271540014), (746, 0.00862782112941483), (2029, 0.008625763962025256), (3181, 0.00862316246732218), (1805, 0.008621747051108387), (2574, 0.008612480739250871), (4327, 0.008610422146324227), (1056, 0.008609828663850879), (3515, 0.008603567699323428), (4087, 0.008602397876265166), (1265, 0.008600633628419544), (1592, 0.008568837810620681), (1261, 0.008554241927910588), (1246, 0.008548812439070585), (4659, 0.00853944360359187), (2571, 0.008536099190670806), (2003, 0.00853565703912392), (1645, 0.008535333956155244), (4656, 0.008533179330890235), (3010, 0.008519791419726938), (3586, 0.008516329852063706), (3872, 0.008513812342184561), (3141, 0.00851211751233865), (3184, 0.008499503834499992), (3352, 0.008496435662874781), (2637, 0.008496132465786056), (2100, 0.008495791407064674), (1798, 0.008495273297909889), (1561, 0.008492301883957882), (1637, 0.008488351242517681), (2131, 0.008487451040677137), (1582, 0.008482166313997681), (2588, 0.008476164387689838), (427, 0.0084745765419955), (1545, 0.008472391380879444), (3834, 0.00846699990807876), (1409, 0.008465887476889061), (3873, 0.008461610788737915), (2964, 0.008456189321778182), (3868, 0.008453792863459967), (12, 0.008450524290911594), (3985, 0.008446112556236287), (4155, 0.008440651250767397), (2817, 0.008438065999778794), (3965, 0.008437998235434379), (3235, 0.00843593666904608), (1654, 0.008433519740298595), (4355, 0.008430390258259762), (3109, 0.008427883379589201), (4175, 0.008426257195738253), (603, 0.008416820183527702), (680, 0.008415718806626208), (1031, 0.008413657932587155), (17, 0.008406067316190119), (1915, 0.00840236575213024), (748, 0.008397047259653633), (3533, 0.008393081824513288), (1234, 0.008379707518730836), (4613, 0.008377167436866645), (4662, 0.008372918197529349), (193, 0.008366718157176462), (3264, 0.008355755515641255), (408, 0.008353276389330614), (4399, 0.008349907522238414), (3077, 0.008343653939452541), (388, 0.008340606811918325), (3388, 0.008337592142016998), (3654, 0.008322463318104496), (1821, 0.008304017331204519), (1835, 0.008303025441814646), (1271, 0.008302701672683512), (886, 0.008283061482342953), (3493, 0.008282577583908315), (20, 0.008277094204565256), (3071, 0.008275533421432786), (975, 0.008271107874931809), (55, 0.008268616467333857), (298, 0.008266366734671406), (4059, 0.008262390196436417), (2578, 0.008258447172362833), (3378, 0.008257544730753807), (3382, 0.008257308190240575), (565, 0.008252144587303882), (23, 0.00824639197266124), (4136, 0.00824361035509926), (2904, 0.008230753475339421), (2259, 0.008226510708577231), (3147, 0.008225106406566703), (213, 0.008223122629069136), (588, 0.008222980004443598), (2827, 0.008218823724748164), (1364, 0.008216891346184129), (1124, 0.008204150211574899), (2072, 0.008199895932408125), (774, 0.008199396538032264), (3517, 0.008193549631316934), (3930, 0.008192530355510194), (2129, 0.008186757477106411), (2106, 0.008180546524943325), (248, 0.008173550948316217), (335, 0.008167996231731237), (2456, 0.008167492981889074), (2548, 0.008163779066507155), (1244, 0.008162479902942246), (2497, 0.008159956432647823), (4063, 0.008153739423873162), (3839, 0.00814931303754564), (472, 0.008146823722592005), (122, 0.008138818435735537), (3528, 0.008138778385270039), (1860, 0.008138210158044692), (2321, 0.008130224487192188), (2230, 0.00812690053947287), (3389, 0.00812580845794058), (2347, 0.008121929733202998), (4177, 0.008120764935698927), (3840, 0.008112224362211424), (846, 0.008102930700342124), (4168, 0.008093283056843537), (3738, 0.00808129014418323), (3329, 0.008077199790315088), (958, 0.008075539938608807), (2290, 0.008075270783598367), (2732, 0.008070478668971044), (56, 0.00805691458027924), (219, 0.0080514857153272), (1495, 0.008050894252017224), (3842, 0.008041633904846983), (2551, 0.008040513723701717), (353, 0.008037011722314294), (2685, 0.008030985126781054), (1105, 0.008030855118484084), (2277, 0.008021670518277148), (3325, 0.008007688486878915), (2931, 0.007992165253796887), (1795, 0.007988861117512914), (3551, 0.007986818572960096), (2396, 0.007985277731669896), (4266, 0.007985123940444101), (1577, 0.007982436866499689), (848, 0.007980637065182346), (1945, 0.00797342649608262), (1485, 0.007971221320679855), (515, 0.00796394368414665), (2067, 0.007960933362055389), (3541, 0.007960160469399232), (4712, 0.007959094142174336), (2826, 0.007955610954834455), (1908, 0.00795541161191638), (4074, 0.007951065564651862), (4184, 0.007945648505049729), (3491, 0.007944422957124808), (3564, 0.00794405803078718), (2256, 0.007938459863593204), (1804, 0.007937374455565787), (938, 0.00793211565745609), (4304, 0.00792966895838205), (1374, 0.007919076203352051), (3167, 0.007912391535657202), (226, 0.007912271199459978), (272, 0.007910990454930433), (4736, 0.007908533840958614), (3111, 0.007907675672529781), (2046, 0.007903491289193232), (1163, 0.007899408751690394), (1750, 0.007895951664845016), (2195, 0.007892490529274794), (2213, 0.007878894510712747), (1022, 0.007877162729208218), (3518, 0.007876636889031617), (1978, 0.007874660842460393), (439, 0.007866785008359207), (1392, 0.00785537660347019), (2839, 0.007850533782512792), (703, 0.007848107559663805), (3360, 0.007848075884584737), (2503, 0.007847069082614736), (1986, 0.007826104260283722), (3937, 0.007809909583441158), (33, 0.007808069311097977), (282, 0.0077958944730129815), (3173, 0.007793189139354416), (3830, 0.007783925903227122), (3644, 0.007774863129818495), (169, 0.00777482751468492), (605, 0.00777425740093099), (3, 0.00776710431842658), (647, 0.007752019483121884), (3773, 0.00773967172332082), (2616, 0.007737305013906472), (2805, 0.007725991784583279), (1617, 0.007725503434361391), (618, 0.007725407841421893), (2239, 0.007719086377605404), (2677, 0.007710170559530199), (2698, 0.007710009447016907), (1408, 0.00770705036694656), (1284, 0.007703267576904896), (4395, 0.007698464816669596), (924, 0.0076958785034700735), (2461, 0.007672671389394909), (3127, 0.007665214387381239), (1249, 0.007659792209870013), (4472, 0.007649463992591981), (1492, 0.00764590341441114), (4069, 0.007643454198446572), (1247, 0.0076432207741280855), (2095, 0.007642502589366937), (2842, 0.0076387996824328185), (2642, 0.007624177654187189), (1597, 0.00762285453486263), (223, 0.007620164250330609), (85, 0.007612742115697974), (2167, 0.007604148832677159), (3246, 0.007586250842664715), (3958, 0.0075766981774797754), (2367, 0.007574879749313438), (1810, 0.007565591133205717), (445, 0.007563551660561206), (883, 0.00755923938801016), (2352, 0.007550807338706869), (3390, 0.007539754989537655), (713, 0.0075339513545155685), (4018, 0.007530461746063377), (2962, 0.0075303773707783355), (984, 0.0075272306266593895), (2242, 0.00752162122382808), (2152, 0.007513216150001047), (2892, 0.0075116906713333), (1340, 0.007503240629768636), (1487, 0.007502773056107774), (53, 0.0074986187697248345), (3712, 0.007495901304812007), (1742, 0.007482319284565333), (859, 0.0074801870336706055), (1256, 0.007471662968162578), (387, 0.0074632274753035355), (2023, 0.007451967301346934), (2525, 0.007451562226994939), (2627, 0.007435311547641991), (195, 0.007426276533294937), (1372, 0.007423209238516376), (548, 0.007420704932263873), (575, 0.00741193403744549), (2205, 0.007407245275113822), (2552, 0.007398485064492249), (726, 0.007387601364341903), (2699, 0.007382652434874583), (2327, 0.007377972812979357), (1342, 0.007377845277287291), (3732, 0.0073725651580037665), (4356, 0.007359491018999162), (710, 0.007351524561450083), (4305, 0.007351445799675678), (3550, 0.007350678020405273), (2227, 0.007341601758627225), (568, 0.0073394033842037075), (770, 0.007309072681914892), (1752, 0.007304811683710379), (3656, 0.007292918375203999), (1114, 0.0072886990198406665), (3395, 0.007269565347849055), (2509, 0.007260567646360112), (569, 0.007250756455308078), (2207, 0.007244752112871756), (2301, 0.007238711104851606), (4620, 0.007230318345594892), (957, 0.00722583294093742), (2954, 0.007225565861265667), (37, 0.007223977623307545), (2135, 0.007216355270720971), (4726, 0.007205895733285055), (759, 0.007204876199082823), (2749, 0.0072019364130660795), (1288, 0.0072000651245085374), (1503, 0.007174783626340021), (237, 0.007167813167913436), (2402, 0.0071665109637555425), (3304, 0.007165442211194154), (2338, 0.007149576258901327), (3986, 0.007120106612591046), (2976, 0.0070888257707155), (577, 0.0070873513864464395), (3633, 0.0070872528799818734), (1994, 0.007040979996709682), (807, 0.007014905692672154), (2047, 0.006992754193166215), (820, 0.006990173082577471), (1199, 0.00698072674993316), (4247, 0.006955235620594391), (545, 0.006951599156964555), (1186, 0.006948407586398045), (2240, 0.0069443648586540434), (4558, 0.0069336140565410586), (862, 0.006893955831796629), (3655, 0.006886780072663734), (2539, 0.006869540218311825), (1465, 0.006860719778506127), (242, 0.006851414083828715), (3748, 0.006846804146008099), (2294, 0.006836349669346243), (1698, 0.006835314993103969), (3185, 0.00680072611394461), (2474, 0.006778520607488914), (2168, 0.006771684390729435), (1050, 0.006741584280397406), (3855, 0.006714581485341956), (1312, 0.006678062934838203), (1535, 0.006654193115443684), (2157, 0.0066540402981466965), (2877, 0.006643607324480129), (3347, 0.006641789594737278), (64, 0.006627752612474859), (1042, 0.0066091077555892), (3430, 0.006586825248268382), (3056, 0.00655562045761846), (1571, 0.006542471368992206), (2665, 0.006516006034529799), (1241, 0.006505391995793331), (1341, 0.006494845036620417), (3254, 0.006470313495939212), (929, 0.006373406097943217), (2768, 0.006371053418676034), (996, 0.006324452073569293), (477, 0.006312280005076394), (3538, 0.006309847458653308), (2377, 0.006281765309642143), (168, 0.00621933153111373), (4134, 0.006150792560011141), (421, 0.006120094922965427), (4709, 0.006092098700633116), (3574, 0.006077656593963182), (3626, 0.006071187757941769), (4691, 0.006070847755073164), (2275, 0.006069518737099262), (4666, 0.006067800146561833), (3635, 0.006059630717729155), (3458, 0.006053042993316095), (4652, 0.006048597090093314), (947, 0.006045836828586375), (3223, 0.006009975891660599), (4182, 0.006003731176480787), (228, 0.0059932096058246094), (1939, 0.005948058260388037), (3721, 0.0059456822735506456), (2655, 0.005939584129236412), (2932, 0.005925857073256465), (2075, 0.0058726969517736765), (4444, 0.005871105662773214), (3975, 0.005841947383223145), (4537, 0.005834200113398609), (2671, 0.005812225304633002), (4546, 0.0057933846889599615), (3715, 0.005783442765188978), (2255, 0.005782466827236832), (1306, 0.005768719636043011), (2645, 0.005768054374583445), (4219, 0.00576178030891518), (2154, 0.00574090804511301), (4464, 0.005698789167143929), (336, 0.005675356882929223), (3828, 0.005668312136200853), (4710, 0.005665287262742368), (4047, 0.005664918323718088), (2795, 0.005660117409699016), (553, 0.005627605777543768), (4208, 0.005608160910235654), (2939, 0.005582149537409338), (3365, 0.005580528441357487), (4612, 0.005579602355986648), (4242, 0.005568044361965795), (3049, 0.005564941083143588), (4724, 0.005524925259700472), (670, 0.0055234926660238945), (3521, 0.00552154817631613), (3588, 0.005506717134210813), (2328, 0.005500996486134329), (1058, 0.005493491668858905), (4443, 0.0054904856743132335), (3154, 0.005485657045773745), (842, 0.005480302203665057), (2188, 0.005469856205594211), (3123, 0.005466876626957143), (2879, 0.0054583169514256635), (2459, 0.0054552630933873145), (3744, 0.005454601464045215), (4518, 0.005440823579568021), (3228, 0.0054391743659196095), (3448, 0.00543702307055101), (1064, 0.005430032910092453), (3502, 0.005424891736851313), (4514, 0.00542123104459689), (2778, 0.005419457566939771), (4698, 0.005407470369294827), (3901, 0.0054052315921719945), (787, 0.005404238814980136), (2727, 0.005390740478194187), (1429, 0.005388090744598131), (1941, 0.0053643499324014365), (3750, 0.005351268965880297), (4524, 0.0053484545270280895), (3766, 0.0053448648449266655), (3675, 0.005342675691904534), (1343, 0.005327980513208423), (4554, 0.005327686867585731), (2567, 0.005318588284104463), (4637, 0.005318281471179258), (4490, 0.005315248983701437), (740, 0.0053086020053698555), (3535, 0.005307217836738086), (4735, 0.005303631762962655), (2273, 0.005290026709647507), (4642, 0.005289267755367011), (2089, 0.005266487782041403), (2406, 0.005264593290951472), (1968, 0.005263455578687814), (4285, 0.005259653680772397), (4412, 0.0052502281830208095), (1940, 0.005238316435725381), (2468, 0.0052367406326508355), (937, 0.0052363752885047545), (3019, 0.005217549272311225), (3022, 0.005214147116271141), (3440, 0.005207471736041782), (2427, 0.005206096170764584), (3312, 0.005205689484615169), (3450, 0.005205326032298579), (4163, 0.005196295156005734), (753, 0.005195486192038947), (860, 0.005192960899103697), (1591, 0.005190761443431375), (905, 0.005184650141345589), (3947, 0.005179363157877061), (3708, 0.005174875643732758), (1275, 0.005171509660297902), (4331, 0.005162724338338024), (4162, 0.005158672045558908), (2012, 0.0051543372669601035), (4527, 0.005153456767712889), (380, 0.005148882583871264), (1381, 0.005143297135206865), (760, 0.005141602503807274), (4244, 0.005134608446255814), (125, 0.005130985452723122), (855, 0.005117566345074002), (876, 0.005115756529656296), (3661, 0.005111642189883607), (3883, 0.00510890117901358), (537, 0.005101744339724347), (4121, 0.005097621672759009), (2555, 0.005096706750751434), (2476, 0.0050963102833076765), (1713, 0.005089377706033329), (424, 0.00508895507902901), (2181, 0.005087342040119175), (4746, 0.0050835024777133924), (3960, 0.005081136747835891), (4389, 0.005078120171634207), (2881, 0.005076096530786718), (4731, 0.00507451003917799), (4092, 0.005072048683179811), (2576, 0.005070429540370726), (3680, 0.005068208131318897), (4462, 0.005064934914055915), (4494, 0.005063292413291928), (207, 0.005062432125563713), (1148, 0.005060416207554548), (3168, 0.00504682381054439), (666, 0.0050434546120366845), (2066, 0.0050419723140490945), (3110, 0.005041929274009019), (533, 0.005041065179237905), (682, 0.005040720651508563), (1489, 0.005036206046172201), (2700, 0.005035009471466091), (4307, 0.005031992787834262), (3470, 0.005030755191444059), (2903, 0.0050262003225426954), (4630, 0.005026192139453088), (3196, 0.005025837364044132), (3012, 0.0050249409234984855), (3158, 0.005023393161905334), (3385, 0.0050232672327198994), (4512, 0.00502193044505944), (2683, 0.005020274335409197), (3032, 0.005016759301663936), (250, 0.00501526327668043), (1158, 0.005007423569809703), (1976, 0.0050067993982373885), (701, 0.005003094263479776), (458, 0.0050009837621382515), (1391, 0.005000249880968635), (2840, 0.0049987928211702405), (3640, 0.004998410587268763), (729, 0.004997877626141428), (4120, 0.0049958803273066925), (4043, 0.004995648833925107), (1962, 0.004992981443927069), (4515, 0.0049873639809065624), (3180, 0.0049863391669703085), (2383, 0.004983450072710142), (2733, 0.004978696599991609), (2854, 0.004977634959378797), (128, 0.004972139425600995), (1960, 0.0049623749300172), (2231, 0.0049528469277498825), (3652, 0.00495230220084472), (2040, 0.004951496339640907), (550, 0.004950529434743775), (4227, 0.004947720894694607), (3961, 0.0049469714048479664), (2112, 0.004946820121227938), (2996, 0.0049323643248524625), (371, 0.004931890168251412), (2314, 0.004930448869741631), (595, 0.004929208191315667), (3604, 0.004922769426586719), (69, 0.004921191464610117), (2626, 0.004918953649832074), (450, 0.004917989755478745), (4046, 0.00491342716693329), (1799, 0.004908824487700197), (3787, 0.004906782964994275), (896, 0.004896201198227826), (1866, 0.004893942373133392), (635, 0.004893291935982949), (673, 0.004890978395678304), (1162, 0.00488974935776397), (4133, 0.004887066224175086), (4116, 0.00488634186937542), (4522, 0.004884314761786294), (3263, 0.004882693590058951), (4669, 0.004881441879499781), (4013, 0.004879640071425089), (350, 0.004879319721700853), (3163, 0.004878309220631014), (2214, 0.0048731210376297), (513, 0.004872143083384288), (303, 0.004863535172262738), (514, 0.004860481436507897), (1897, 0.004859525516759811), (1325, 0.004857900349172044), (2136, 0.004857476594370369), (3771, 0.004854510170981079), (3694, 0.004850498524817536), (952, 0.004844933871291907), (3704, 0.004843431752529234), (3086, 0.004841701908314772), (2084, 0.004836977126193791), (1150, 0.00483417526277688), (728, 0.004834075395208377), (4579, 0.0048309806751515765), (210, 0.004830414667406356), (4090, 0.004829587273993385), (2252, 0.00482905270027351), (4076, 0.004828439630339826), (1661, 0.004826441507620546), (1952, 0.00482629104809143), (341, 0.004825866914701026), (3692, 0.004825739398173517), (3112, 0.00481948766230896), (420, 0.00481945070050349), (3768, 0.00481609166352038), (4312, 0.004815340478116307), (3584, 0.00481344532467088), (3095, 0.004811804246424436), (991, 0.004811042390087201), (2254, 0.004809559519419572), (3451, 0.004803911944863673), (4703, 0.004803702554549533), (3782, 0.004800832586314704), (1537, 0.004798512414023086), (3131, 0.004795093799921812), (992, 0.004794882870113033), (4431, 0.004793172733857889), (21, 0.004792931270822528), (4038, 0.004791579642593195), (1732, 0.0047902656398209975), (3850, 0.004789785940758495), (1812, 0.004787800890420959), (3780, 0.004785479207657847), (1119, 0.0047852259397471696), (1071, 0.004782929087723056), (4231, 0.004781042786255911), (2522, 0.004776737397127436), (2630, 0.004773552596474535), (1280, 0.004772584350887138), (1791, 0.004771461028463874), (3997, 0.004771449709382043), (3710, 0.004764827952076987), (208, 0.0047583186059590955), (4510, 0.0047571408407485185), (239, 0.004753990891394833), (68, 0.004753336349483213), (1099, 0.004752544916401723), (1687, 0.004752064002434194), (3897, 0.004751971453925061), (2208, 0.004750320180351426), (1426, 0.004748468134309295), (4384, 0.004747141265591447), (1853, 0.004744081788942542), (2714, 0.004743405702709045), (4265, 0.004743301657883207), (1436, 0.004742212068852923), (1904, 0.004739860928410806), (2330, 0.004738753594527798), (1452, 0.004737364637440599), (765, 0.004736798780146788), (1531, 0.004735601433324157), (3777, 0.004735479454751581), (4123, 0.004732359939691857), (1225, 0.004728199036468576), (1859, 0.004726012740459427), (1400, 0.0047244700023758345), (4695, 0.004723460115249883), (1975, 0.004720824463805752), (4392, 0.004719482993564066), (4474, 0.004719130727754372), (1449, 0.0047184056630026824), (1104, 0.00471746011179736), (3334, 0.004715632458642367), (51, 0.004715535812960634), (667, 0.00471211954411027), (4757, 0.004706700897242908), (1643, 0.004705404058225148), (1188, 0.0047042615444673995), (2413, 0.00470131237900608), (716, 0.004699936249611219), (4624, 0.004699839966169499), (429, 0.004697202534435268), (1192, 0.00469585465517116), (3513, 0.004695854236764352), (2088, 0.004695766717161303), (255, 0.004693343528717412), (4430, 0.004692564300907491), (502, 0.004692101096312627), (3437, 0.004692009711143002), (4639, 0.004689854452189453), (1881, 0.0046878426737141324), (1396, 0.004687125906118883), (3769, 0.004686221799542469), (4621, 0.004683494700051116), (580, 0.0046834551702562965), (1588, 0.0046830328286633135), (3862, 0.004680925614472184), (2015, 0.004680023878638042), (1229, 0.0046791310038363666), (3514, 0.004679002084551935), (482, 0.0046781268435597545), (3134, 0.004677868192301519), (928, 0.0046771467662256785), (201, 0.004676156758890897), (879, 0.004675945458240131), (4629, 0.004675526661313087), (3488, 0.004672551125479333), (1432, 0.004668626027948952), (1024, 0.004668093193262685), (4586, 0.004667005278654323), (1083, 0.004663280770521433), (27, 0.004655731900428073), (3849, 0.0046551504784364045), (793, 0.004654663708033367), (3666, 0.004653662329992113), (3124, 0.0046532576018562), (3907, 0.004649998037454578), (3349, 0.004649936259991427), (3995, 0.004646737956585172), (3507, 0.004646192064951279), (4552, 0.004645671020328167), (313, 0.004644867894994644), (637, 0.004641254090354449), (2780, 0.0046407019724776), (1542, 0.004640384466744318), (918, 0.004638243698826492), (584, 0.00463757071245175), (2053, 0.00462725299947356), (4249, 0.004624435755695483), (1443, 0.004624137659905006), (3623, 0.004623507232059179), (4470, 0.004620841964672428), (3153, 0.004615235172253518), (137, 0.004614408824671868), (3191, 0.004614164620197078), (2334, 0.004613146005866771), (2668, 0.0046115927665834385), (3233, 0.004610845584555897), (95, 0.00461040027294063), (743, 0.004605611779372731), (2235, 0.004605489164065191), (2276, 0.004603798173924997), (3446, 0.004602928010272037), (4377, 0.004599604920854147), (902, 0.00459759622622371), (509, 0.004596326670686288), (4251, 0.0045950656930771995), (4098, 0.004594195951801374), (2947, 0.004593768642720479), (1901, 0.004593375300267073), (1431, 0.0045894438146723915), (4533, 0.004587028676253213), (4189, 0.004584532109844685), (652, 0.004584345175158668), (3571, 0.004583054725989107), (1174, 0.004581897643587948), (1003, 0.004581203202705179), (2784, 0.0045810654443898535), (1761, 0.004580181642272893), (1931, 0.004579284159900492), (3699, 0.004577841691486333), (1832, 0.004577461365972055), (3486, 0.004576195979907183), (1958, 0.00457481968132853), (1337, 0.004573855476938101), (406, 0.004572780900003197), (1266, 0.00457256408020551), (1740, 0.004572041985214066), (238, 0.0045712707911332836), (2960, 0.004571269649403339), (3815, 0.0045694785898818735), (3653, 0.00456874773133279), (4283, 0.0045686475351747885), (3810, 0.004567033201921037), (2421, 0.004566572948408842), (750, 0.004566098654239664), (2788, 0.00456290245408506), (1587, 0.004562240411118368), (3303, 0.00456099992417215), (3404, 0.004560041886888611), (1942, 0.004559910265102354), (832, 0.004557171262750657), (2210, 0.004556926241912506), (3501, 0.004555865139629548), (2045, 0.004554909875960715), (919, 0.004554699368194708), (4068, 0.004553332293645668), (2295, 0.004553206687775105), (3576, 0.004552058940324028), (4375, 0.004550794432494469), (1413, 0.00454863709737328), (2278, 0.004546933263646328), (1991, 0.004546698149829887), (1302, 0.004545769915452232), (4004, 0.004545311770256017), (2091, 0.00454433063480001), (4255, 0.0045434500630117305), (83, 0.004541799141867742), (2991, 0.0045416336782088855), (2061, 0.004539541926446389), (3520, 0.004537189575652746), (1998, 0.00453602818774655), (1472, 0.004534056295018012), (1138, 0.004533803910325809), (1930, 0.004530798755699499), (2130, 0.004530561134173375), (4677, 0.004530042797010867), (636, 0.004526411213630531), (1510, 0.0045246900672078726), (3670, 0.004520265035753608), (3227, 0.004519090822736807), (628, 0.004518800927640254), (1232, 0.00451652222983881), (30, 0.004516384265383975), (2606, 0.0045129022966201695), (696, 0.004511331291291891), (3436, 0.004510764810818992), (1876, 0.004507695725080259), (4103, 0.004506201700883493), (2284, 0.004506130564947365), (4360, 0.0045058588790918225), (3125, 0.004504086463056459), (2501, 0.004503504929407522), (39, 0.004500344853836826), (1191, 0.004499624512817135), (1223, 0.004499283853370594), (4383, 0.0044976023952471005), (2506, 0.004496501395250349), (315, 0.00449573294763973), (560, 0.004495502954726404), (4715, 0.004493511157362488), (1488, 0.0044932171126944535), (2344, 0.004491264425455045), (3367, 0.00448899807463909), (1385, 0.00448758512622331), (2695, 0.004487477179064516), (1419, 0.004487288906145082), (4310, 0.00448648900292346), (1566, 0.004485547057690462), (1129, 0.004483640478800551), (761, 0.00448261398637717), (849, 0.004478992001600481), (931, 0.004478854075542945), (986, 0.004478527099499526), (135, 0.004478093654550419), (3416, 0.004477753931593117), (305, 0.004477598599104467), (1455, 0.004476502127975905), (370, 0.004474688364252027), (241, 0.004470937874716151), (1262, 0.004470001843035389), (3330, 0.004466684797365994), (4623, 0.004465764226352109), (1420, 0.004463704485613257), (619, 0.004461176049243206), (460, 0.004461115485891853), (2336, 0.004456791772910046), (1678, 0.004456341556829467), (4248, 0.0044554067594771846), (3374, 0.004447980943477477), (4708, 0.004447714814031139), (1811, 0.0044459056817285104), (4665, 0.004445239851770618), (3727, 0.004443811696886667), (2174, 0.0044425777287505075), (3553, 0.004442020077592126), (1252, 0.004440548930419177), (3624, 0.004440416620855351), (1012, 0.004439970602437605), (1442, 0.004437189875419371), (534, 0.004426655991632254), (2847, 0.004425094500888111), (233, 0.004423526371856223), (3161, 0.004421517470319192), (3443, 0.004420747361181253), (2841, 0.004420058637201465), (1852, 0.004419786436710125), (1621, 0.004418403557458356), (467, 0.004418108971692872), (880, 0.004417588582803901), (4264, 0.0044167182739918475), (1573, 0.004415419847584926), (1927, 0.004415372415806518), (1857, 0.004412304006116217), (2961, 0.004411665876940711), (1127, 0.004411341118454642), (989, 0.004408333322958049), (1292, 0.004407430280458493), (3793, 0.004406148837477875), (1622, 0.00440575858046349), (3499, 0.004403010358622578), (634, 0.0044028941356604925), (1937, 0.0044024295600095615), (1082, 0.004401830784991188), (4211, 0.004399596008978428), (4284, 0.004397625586022268), (1635, 0.004395507145569807), (1696, 0.00439499268004887), (2216, 0.004392550001216596), (1773, 0.00439123661563648), (633, 0.0043908000941034475), (4362, 0.004388517701438916), (90, 0.004382765596799395), (870, 0.0043825320192146505), (2232, 0.004378719700761082), (4387, 0.0043702323129593355), (799, 0.004369216212782374), (4039, 0.004369050181533467), (1933, 0.004368822544792555), (2178, 0.00435949502640077), (2008, 0.004358669434281427), (1953, 0.004354819229867577), (4576, 0.004353230633046922), (152, 0.004352516274796743), (3583, 0.004351925014264056), (3370, 0.004350486380709601), (321, 0.004350213038853695), (273, 0.004349322867217095), (825, 0.0043468920378084116), (790, 0.004344048412395074), (3555, 0.004343887496025198), (643, 0.004343128049265763), (2808, 0.004342925150240746), (4673, 0.004340976374933912), (2062, 0.004339814452525761), (1671, 0.004339287664254565), (1146, 0.004333601837588811), (1063, 0.004330461167857446), (2245, 0.004328968351001512), (87, 0.00432663802075707), (3720, 0.004325191788520535), (261, 0.004324221761842301), (3696, 0.004322286553896569), (3660, 0.004322098460476968), (2918, 0.004318008630325578), (3582, 0.004317684829958151), (2716, 0.0043171037233650286), (4543, 0.004317023041746861), (112, 0.0043149252393209344), (915, 0.004312779477815074), (3487, 0.00430924585370389), (4658, 0.00430886648421104), (3664, 0.004308106815259561), (310, 0.004306173691302684), (3886, 0.004304322809326722), (1230, 0.004301936707948868), (18, 0.004297686115461116), (1632, 0.004297233668104213), (4438, 0.004296935185444783), (2680, 0.004296204887437235), (4670, 0.004293270739238284), (3504, 0.004292910651309089), (3126, 0.004292216319711873), (1478, 0.004291897706131614), (2024, 0.004291892325778405), (4523, 0.004287465538342051), (3970, 0.004286644728231801), (3605, 0.004284631851428419), (2206, 0.004284031206254997), (1633, 0.004282582989283428), (4481, 0.004282261268312703), (1207, 0.004281807719920641), (4614, 0.004281057368701989), (3978, 0.004274975477343891), (284, 0.004274342635312166), (2540, 0.004271643387859264), (1001, 0.004271641238476284), (2121, 0.004266883991939019), (3035, 0.004266779556127804), (1412, 0.004265992778049208), (2711, 0.004264655818969874), (2787, 0.004261808335163724), (1123, 0.004259601265543584), (1132, 0.0042594861903448985), (144, 0.004259263067496162), (644, 0.004257659123520774), (3465, 0.004257133492105837), (2224, 0.0042529537865850136), (360, 0.0042528019983728875), (1630, 0.004252695070502953), (827, 0.004251899756180376), (260, 0.004251087918030297), (2751, 0.004250216971997083), (1211, 0.004246889632593441), (911, 0.004246124530491657), (3794, 0.004245113972990261), (3361, 0.004242708985582628), (2094, 0.004241259454941282), (4124, 0.004240920443236042), (4071, 0.004240713571015451), (3819, 0.0042318034651979974), (116, 0.0042300805117038865), (3723, 0.004229782881927219), (3734, 0.004227257447363305), (276, 0.004225978843869793), (2348, 0.004221628890352324), (1181, 0.00421969862693464), (31, 0.004215142948213054), (1788, 0.004214571962353221), (3133, 0.004212745568809954), (1914, 0.004212239516417193), (236, 0.004209964515125491), (1451, 0.004209953978562571), (1723, 0.0042074610022734635), (2139, 0.004206467010064341), (661, 0.004204472270524701), (4548, 0.004201397776916515), (3135, 0.004197858469095338), (468, 0.00419404424389173), (4585, 0.00419383282161103), (426, 0.0041921407504291654), (2496, 0.004191405704656545), (1992, 0.004187188830516686), (3966, 0.004180032755204155), (3452, 0.00417932532145314), (2992, 0.004179003000474363), (1662, 0.004177252723300258), (3338, 0.0041756183024187245), (1819, 0.004175560363964499), (690, 0.004170033480420587), (1433, 0.004169738356789929), (4591, 0.00416845528381801), (2442, 0.004168309424599836), (866, 0.004166609760627805), (4697, 0.004166139877836345), (3143, 0.004162586570962241), (532, 0.0041618604342934795), (2742, 0.004161284180323142), (1183, 0.004160141200164145), (3118, 0.0041592051183603805), (4325, 0.004157157978942131), (2429, 0.004154646594717097), (316, 0.004153848750246763), (916, 0.004152960512300042), (1623, 0.0041502918326370404), (744, 0.0041448417125444495), (3854, 0.004144670305175242), (4402, 0.004144318028453738), (1760, 0.004143850609945443), (3993, 0.004141003647257712), (1789, 0.004138691864061609), (540, 0.004136542521021764), (590, 0.00413084875766306), (1667, 0.004130596803884709), (3079, 0.004130582268459352), (695, 0.0041281629779229695), (4282, 0.004125668144303532), (669, 0.004123897071528736), (604, 0.004122007579575512), (829, 0.004117246595579219), (94, 0.004115879680004344), (2984, 0.004114845138909048), (3876, 0.0041141350054298325), (1462, 0.004110936128794073), (2791, 0.004110416075756579), (1270, 0.004108882654335558), (80, 0.004106673518822642), (4235, 0.004106603935720037), (801, 0.0041055596178824075), (3284, 0.004104863443040328), (4322, 0.004103710040589158), (910, 0.004102763896589871), (863, 0.004096873540858472), (1065, 0.004096480443683984), (4164, 0.004093131437204161), (124, 0.004092524860768501), (1568, 0.004090042165063191), (4689, 0.0040896981304507), (199, 0.0040867091842198685), (1990, 0.004083310326459655), (1360, 0.004079109488730365), (1892, 0.0040698142291233416), (1237, 0.004068527322099034), (148, 0.004067207683992782), (4044, 0.004066655320244155), (1865, 0.004065991240866387), (67, 0.0040641962951211376), (608, 0.004062760423326127), (3705, 0.004055643121195851), (3247, 0.004053569252171725), (1809, 0.004050553183756586), (4154, 0.004049946161553061), (1220, 0.0040452535887788715), (2031, 0.0040444282123723), (581, 0.0040389531257668905), (3974, 0.004034016533555638), (936, 0.004032717452347689), (1000, 0.004031241928016538), (804, 0.004031162818125432), (4475, 0.0040303853616742305), (1739, 0.004029940719141472), (800, 0.004028521654930327), (501, 0.004024674444600163), (1817, 0.004022204390310088), (2191, 0.004019509019481513), (3801, 0.004015514413431546), (4590, 0.0040133260622775765), (4106, 0.004012631643701752), (323, 0.004009126640551877), (3556, 0.004007448880673387), (932, 0.004006532414653535), (803, 0.004005839883421739), (3070, 0.00400361694110506), (2580, 0.004002533842754169), (1934, 0.0040019317687143815), (2929, 0.003997346790824206), (1154, 0.003994894604503954), (559, 0.003992985025111626), (1384, 0.003988983815386975), (333, 0.003986606039965134), (3099, 0.003986582125392281), (2871, 0.003985199690041494), (1694, 0.003979355751371019), (47, 0.003978213008507207), (1009, 0.003976054055469718), (4661, 0.003972865718149182), (200, 0.0039602775124738575), (519, 0.003957323114861339), (808, 0.003951205640238432), (4365, 0.0039477215366139065), (222, 0.0039448330089159045), (4679, 0.003940342942238479), (3619, 0.003932266334033722), (187, 0.003931330709293476), (3403, 0.003926689379356951), (2820, 0.003920210022124676), (3232, 0.003918654993125619), (1925, 0.003912569219584061), (1018, 0.003908378455708853), (1590, 0.003907697782165459), (3852, 0.003905231867751044), (1348, 0.0039039946978260973), (2692, 0.003891967785171729), (2412, 0.0038916933111588464), (1772, 0.003889272822394032), (4488, 0.0038856842144973265), (762, 0.0038848585798716678), (4096, 0.0038829090872457266), (147, 0.0038776113636976037), (692, 0.0038737250904713914), (642, 0.0038713448162047658), (629, 0.0038702263634228912), (4426, 0.003867217463028456), (861, 0.0038595186241601642), (3339, 0.0038570844969008492), (625, 0.003856978471209133), (1546, 0.0038557199265503114), (4158, 0.003848332635630935), (3776, 0.003838518097293162), (1215, 0.003836383695713115), (1309, 0.00383588558865746), (2070, 0.0038336170387273058), (4344, 0.003831236660102802), (1627, 0.0038312047646630013), (190, 0.003824722059774586), (1120, 0.0038211597841459432), (1781, 0.003813529529672062), (3065, 0.0038069447712366367), (288, 0.003806246025122282), (4095, 0.0038036374371402545), (2541, 0.0038033932903290364), (2771, 0.003803064849401558), (723, 0.0037941799137016694), (621, 0.0037921178750870625), (2197, 0.00379075171099319), (1845, 0.0037901420170928036), (970, 0.0037867460964122884), (1910, 0.0037863500443966235), (639, 0.00378463799202343), (617, 0.003784065439857296), (3674, 0.0037833278872523557), (1279, 0.0037735220155710224), (78, 0.003767459062829377), (314, 0.0037570944595339026), (3213, 0.003756994194594228), (640, 0.0037520830184490325), (3215, 0.003748318607876876), (4733, 0.0037396811409445454), (2355, 0.003736580119713062), (3331, 0.0037361105287626413), (1092, 0.0037357186195712258), (16, 0.003735648170188965), (3484, 0.0037273131907659806), (2602, 0.0037188945248005285), (442, 0.003716310356635865), (4513, 0.0037075289465352767), (469, 0.0037039427604918605), (3045, 0.0037012278569187244), (2318, 0.0037006169862823903), (3957, 0.0036942407629509226), (2573, 0.003673896983459845), (3317, 0.0036709564791899637), (1530, 0.0036704623223537307), (2697, 0.003669190073198395), (1369, 0.0036683415310677647), (433, 0.0036662064655261953), (3756, 0.0036661472658863653), (290, 0.0036573437269675057), (76, 0.003657027587670744), (1164, 0.0036443834172841375), (942, 0.0036436739543401295), (435, 0.0036342869242514952), (1377, 0.0036154505595090754), (1303, 0.0036136075216296067), (3944, 0.0036128563686981833), (3989, 0.003610676548900196), (953, 0.0036086666387566066), (1395, 0.003607717001322405), (1115, 0.003601334700826784), (1989, 0.0035998417122131256), (2925, 0.0035985386926604477), (289, 0.003597210922005424), (1576, 0.003589923564977903), (877, 0.0035842288358494956), (2078, 0.0035645245086181714), (668, 0.003545841566646237), (1701, 0.003539150867819291), (1417, 0.0034985858305947265), (3946, 0.0034757045969534242), (853, 0.003465339461840465), (571, 0.0034556518873643236), (271, 0.0034348728829861766), (775, 0.0034288462258002996), (1774, 0.0034221588046745312), (77, 0.00337791681595869), (296, 0.003359124615559725), (332, 0.003355933681378188), (1276, 0.0033429949557801397), (1210, 0.0032590887186714295), (831, 0.0031640649236066537), (243, 0.003155428291518204), (542, 0.00314294923724224), (1506, 0.0030692966483563586), (1509, 0.0030618382796688383), (3429, 0.0030472876295403145), (2544, 0.0028669000691129913), (0, 0.0), (1, 0.0), (2, 0.0), (4, 0.0), (7, 0.0), (8, 0.0), (9, 0.0), (10, 0.0), (11, 0.0), (13, 0.0), (14, 0.0), (19, 0.0), (22, 0.0), (26, 0.0), (28, 0.0), (29, 0.0), (32, 0.0), (35, 0.0), (36, 0.0), (40, 0.0), (41, 0.0), (42, 0.0), (43, 0.0), (45, 0.0), (49, 0.0), (50, 0.0), (54, 0.0), (57, 0.0), (58, 0.0), (59, 0.0), (63, 0.0), (66, 0.0), (71, 0.0), (73, 0.0), (79, 0.0), (81, 0.0), (82, 0.0), (86, 0.0), (91, 0.0), (92, 0.0), (97, 0.0), (98, 0.0), (100, 0.0), (101, 0.0), (103, 0.0), (104, 0.0), (105, 0.0), (106, 0.0), (108, 0.0), (110, 0.0), (111, 0.0), (113, 0.0), (114, 0.0), (117, 0.0), (119, 0.0), (120, 0.0), (121, 0.0), (123, 0.0), (129, 0.0), (130, 0.0), (131, 0.0), (132, 0.0), (133, 0.0), (134, 0.0), (136, 0.0), (139, 0.0), (140, 0.0), (141, 0.0), (142, 0.0), (143, 0.0), (146, 0.0), (150, 0.0), (151, 0.0), (153, 0.0), (154, 0.0), (155, 0.0), (156, 0.0), (157, 0.0), (158, 0.0), (159, 0.0), (161, 0.0), (162, 0.0), (163, 0.0), (164, 0.0), (165, 0.0), (171, 0.0), (172, 0.0), (173, 0.0), (174, 0.0), (175, 0.0), (176, 0.0), (177, 0.0), (178, 0.0), (179, 0.0), (180, 0.0), (181, 0.0), (183, 0.0), (184, 0.0), (185, 0.0), (186, 0.0), (188, 0.0), (194, 0.0), (196, 0.0), (197, 0.0), (202, 0.0), (205, 0.0), (206, 0.0), (209, 0.0), (211, 0.0), (212, 0.0), (214, 0.0), (215, 0.0), (216, 0.0), (217, 0.0), (218, 0.0), (221, 0.0), (224, 0.0), (227, 0.0), (229, 0.0), (230, 0.0), (231, 0.0), (232, 0.0), (235, 0.0), (245, 0.0), (246, 0.0), (247, 0.0), (252, 0.0), (254, 0.0), (258, 0.0), (259, 0.0), (262, 0.0), (263, 0.0), (264, 0.0), (265, 0.0), (267, 0.0), (268, 0.0), (269, 0.0), (274, 0.0), (277, 0.0), (278, 0.0), (279, 0.0), (280, 0.0), (281, 0.0), (285, 0.0), (286, 0.0), (287, 0.0), (292, 0.0), (293, 0.0), (297, 0.0), (299, 0.0), (300, 0.0), (301, 0.0), (302, 0.0), (307, 0.0), (308, 0.0), (309, 0.0), (311, 0.0), (312, 0.0), (317, 0.0), (318, 0.0), (319, 0.0), (324, 0.0), (325, 0.0), (326, 0.0), (328, 0.0), (330, 0.0), (331, 0.0), (337, 0.0), (338, 0.0), (339, 0.0), (340, 0.0), (342, 0.0), (343, 0.0), (344, 0.0), (345, 0.0), (346, 0.0), (348, 0.0), (352, 0.0), (355, 0.0), (357, 0.0), (358, 0.0), (359, 0.0), (361, 0.0), (362, 0.0), (363, 0.0), (364, 0.0), (365, 0.0), (366, 0.0), (367, 0.0), (368, 0.0), (369, 0.0), (372, 0.0), (373, 0.0), (374, 0.0), (376, 0.0), (378, 0.0), (379, 0.0), (381, 0.0), (382, 0.0), (383, 0.0), (384, 0.0), (385, 0.0), (386, 0.0), (390, 0.0), (391, 0.0), (392, 0.0), (393, 0.0), (394, 0.0), (396, 0.0), (398, 0.0), (399, 0.0), (400, 0.0), (401, 0.0), (402, 0.0), (403, 0.0), (404, 0.0), (405, 0.0), (407, 0.0), (409, 0.0), (410, 0.0), (411, 0.0), (413, 0.0), (414, 0.0), (415, 0.0), (416, 0.0), (419, 0.0), (428, 0.0), (430, 0.0), (431, 0.0), (432, 0.0), (434, 0.0), (437, 0.0), (441, 0.0), (444, 0.0), (446, 0.0), (448, 0.0), (452, 0.0), (453, 0.0), (456, 0.0), (459, 0.0), (461, 0.0), (462, 0.0), (464, 0.0), (465, 0.0), (466, 0.0), (471, 0.0), (473, 0.0), (474, 0.0), (475, 0.0), (479, 0.0), (483, 0.0), (484, 0.0), (485, 0.0), (486, 0.0), (487, 0.0), (488, 0.0), (489, 0.0), (490, 0.0), (491, 0.0), (492, 0.0), (494, 0.0), (495, 0.0), (496, 0.0), (497, 0.0), (498, 0.0), (499, 0.0), (503, 0.0), (504, 0.0), (505, 0.0), (506, 0.0), (507, 0.0), (508, 0.0), (516, 0.0), (518, 0.0), (520, 0.0), (521, 0.0), (522, 0.0), (525, 0.0), (526, 0.0), (527, 0.0), (528, 0.0), (529, 0.0), (531, 0.0), (535, 0.0), (536, 0.0), (538, 0.0), (539, 0.0), (544, 0.0), (546, 0.0), (547, 0.0), (549, 0.0), (551, 0.0), (552, 0.0), (554, 0.0), (555, 0.0), (556, 0.0), (557, 0.0), (558, 0.0), (561, 0.0), (564, 0.0), (566, 0.0), (567, 0.0), (570, 0.0), (572, 0.0), (573, 0.0), (574, 0.0), (576, 0.0), (578, 0.0), (579, 0.0), (582, 0.0), (585, 0.0), (586, 0.0), (587, 0.0), (591, 0.0), (592, 0.0), (593, 0.0), (594, 0.0), (596, 0.0), (597, 0.0), (599, 0.0), (600, 0.0), (601, 0.0), (602, 0.0), (609, 0.0), (610, 0.0), (611, 0.0), (612, 0.0), (615, 0.0), (616, 0.0), (620, 0.0), (623, 0.0), (624, 0.0), (626, 0.0), (627, 0.0), (630, 0.0), (631, 0.0), (632, 0.0), (641, 0.0), (645, 0.0), (646, 0.0), (649, 0.0), (650, 0.0), (651, 0.0), (656, 0.0), (657, 0.0), (658, 0.0), (662, 0.0), (663, 0.0), (664, 0.0), (665, 0.0), (671, 0.0), (672, 0.0), (674, 0.0), (679, 0.0), (681, 0.0), (684, 0.0), (686, 0.0), (691, 0.0), (693, 0.0), (698, 0.0), (699, 0.0), (700, 0.0), (702, 0.0), (704, 0.0), (706, 0.0), (709, 0.0), (711, 0.0), (712, 0.0), (714, 0.0), (715, 0.0), (717, 0.0), (718, 0.0), (720, 0.0), (721, 0.0), (722, 0.0), (724, 0.0), (725, 0.0), (730, 0.0), (731, 0.0), (734, 0.0), (735, 0.0), (736, 0.0), (737, 0.0), (745, 0.0), (747, 0.0), (749, 0.0), (752, 0.0), (754, 0.0), (755, 0.0), (757, 0.0), (758, 0.0), (763, 0.0), (764, 0.0), (766, 0.0), (767, 0.0), (768, 0.0), (771, 0.0), (772, 0.0), (776, 0.0), (777, 0.0), (778, 0.0), (781, 0.0), (782, 0.0), (783, 0.0), (784, 0.0), (785, 0.0), (786, 0.0), (788, 0.0), (789, 0.0), (792, 0.0), (794, 0.0), (795, 0.0), (796, 0.0), (797, 0.0), (798, 0.0), (806, 0.0), (812, 0.0), (813, 0.0), (814, 0.0), (815, 0.0), (817, 0.0), (819, 0.0), (821, 0.0), (822, 0.0), (823, 0.0), (826, 0.0), (828, 0.0), (836, 0.0), (837, 0.0), (838, 0.0), (839, 0.0), (840, 0.0), (843, 0.0), (844, 0.0), (847, 0.0), (850, 0.0), (851, 0.0), (852, 0.0), (854, 0.0), (858, 0.0), (864, 0.0), (865, 0.0), (867, 0.0), (869, 0.0), (872, 0.0), (874, 0.0), (881, 0.0), (882, 0.0), (885, 0.0), (887, 0.0), (889, 0.0), (890, 0.0), (894, 0.0), (895, 0.0), (899, 0.0), (903, 0.0), (906, 0.0), (908, 0.0), (909, 0.0), (912, 0.0), (913, 0.0), (914, 0.0), (917, 0.0), (920, 0.0), (921, 0.0), (922, 0.0), (925, 0.0), (926, 0.0), (933, 0.0), (934, 0.0), (935, 0.0), (939, 0.0), (941, 0.0), (943, 0.0), (944, 0.0), (945, 0.0), (946, 0.0), (948, 0.0), (949, 0.0), (950, 0.0), (954, 0.0), (955, 0.0), (956, 0.0), (960, 0.0), (961, 0.0), (962, 0.0), (964, 0.0), (965, 0.0), (966, 0.0), (971, 0.0), (972, 0.0), (973, 0.0), (978, 0.0), (983, 0.0), (985, 0.0), (987, 0.0), (990, 0.0), (993, 0.0), (995, 0.0), (998, 0.0), (999, 0.0), (1002, 0.0), (1004, 0.0), (1005, 0.0), (1006, 0.0), (1007, 0.0), (1008, 0.0), (1010, 0.0), (1011, 0.0), (1013, 0.0), (1014, 0.0), (1016, 0.0), (1019, 0.0), (1020, 0.0), (1021, 0.0), (1023, 0.0), (1025, 0.0), (1027, 0.0), (1028, 0.0), (1032, 0.0), (1033, 0.0), (1036, 0.0), (1037, 0.0), (1038, 0.0), (1039, 0.0), (1040, 0.0), (1043, 0.0), (1045, 0.0), (1046, 0.0), (1051, 0.0), (1053, 0.0), (1055, 0.0), (1057, 0.0), (1060, 0.0), (1062, 0.0), (1066, 0.0), (1070, 0.0), (1072, 0.0), (1073, 0.0), (1075, 0.0), (1076, 0.0), (1077, 0.0), (1078, 0.0), (1079, 0.0), (1086, 0.0), (1087, 0.0), (1088, 0.0), (1089, 0.0), (1090, 0.0), (1093, 0.0), (1094, 0.0), (1095, 0.0), (1096, 0.0), (1097, 0.0), (1098, 0.0), (1100, 0.0), (1102, 0.0), (1106, 0.0), (1108, 0.0), (1109, 0.0), (1110, 0.0), (1111, 0.0), (1112, 0.0), (1113, 0.0), (1116, 0.0), (1117, 0.0), (1118, 0.0), (1121, 0.0), (1122, 0.0), (1125, 0.0), (1126, 0.0), (1128, 0.0), (1131, 0.0), (1135, 0.0), (1136, 0.0), (1139, 0.0), (1142, 0.0), (1144, 0.0), (1145, 0.0), (1147, 0.0), (1149, 0.0), (1151, 0.0), (1152, 0.0), (1155, 0.0), (1157, 0.0), (1160, 0.0), (1161, 0.0), (1165, 0.0), (1166, 0.0), (1169, 0.0), (1170, 0.0), (1171, 0.0), (1172, 0.0), (1176, 0.0), (1178, 0.0), (1180, 0.0), (1182, 0.0), (1187, 0.0), (1189, 0.0), (1190, 0.0), (1193, 0.0), (1194, 0.0), (1195, 0.0), (1196, 0.0), (1198, 0.0), (1200, 0.0), (1201, 0.0), (1203, 0.0), (1204, 0.0), (1205, 0.0), (1206, 0.0), (1208, 0.0), (1209, 0.0), (1212, 0.0), (1213, 0.0), (1214, 0.0), (1216, 0.0), (1217, 0.0), (1219, 0.0), (1221, 0.0), (1222, 0.0), (1228, 0.0), (1231, 0.0), (1233, 0.0), (1235, 0.0), (1238, 0.0), (1240, 0.0), (1242, 0.0), (1245, 0.0), (1250, 0.0), (1251, 0.0), (1254, 0.0), (1258, 0.0), (1260, 0.0), (1263, 0.0), (1264, 0.0), (1267, 0.0), (1268, 0.0), (1269, 0.0), (1273, 0.0), (1274, 0.0), (1277, 0.0), (1278, 0.0), (1282, 0.0), (1283, 0.0), (1285, 0.0), (1286, 0.0), (1287, 0.0), (1289, 0.0), (1290, 0.0), (1291, 0.0), (1293, 0.0), (1294, 0.0), (1296, 0.0), (1297, 0.0), (1298, 0.0), (1299, 0.0), (1304, 0.0), (1305, 0.0), (1307, 0.0), (1308, 0.0), (1310, 0.0), (1311, 0.0), (1313, 0.0), (1315, 0.0), (1316, 0.0), (1317, 0.0), (1318, 0.0), (1319, 0.0), (1320, 0.0), (1321, 0.0), (1322, 0.0), (1323, 0.0), (1326, 0.0), (1327, 0.0), (1328, 0.0), (1330, 0.0), (1331, 0.0), (1333, 0.0), (1334, 0.0), (1336, 0.0), (1345, 0.0), (1346, 0.0), (1349, 0.0), (1350, 0.0), (1352, 0.0), (1354, 0.0), (1355, 0.0), (1357, 0.0), (1358, 0.0), (1359, 0.0), (1365, 0.0), (1368, 0.0), (1370, 0.0), (1373, 0.0), (1376, 0.0), (1378, 0.0), (1379, 0.0), (1382, 0.0), (1386, 0.0), (1387, 0.0), (1388, 0.0), (1389, 0.0), (1390, 0.0), (1393, 0.0), (1397, 0.0), (1398, 0.0), (1399, 0.0), (1401, 0.0), (1403, 0.0), (1404, 0.0), (1410, 0.0), (1411, 0.0), (1415, 0.0), (1416, 0.0), (1418, 0.0), (1422, 0.0), (1423, 0.0), (1424, 0.0), (1425, 0.0), (1427, 0.0), (1434, 0.0), (1437, 0.0), (1438, 0.0), (1439, 0.0), (1440, 0.0), (1441, 0.0), (1444, 0.0), (1445, 0.0), (1446, 0.0), (1447, 0.0), (1450, 0.0), (1453, 0.0), (1456, 0.0), (1457, 0.0), (1459, 0.0), (1460, 0.0), (1461, 0.0), (1464, 0.0), (1467, 0.0), (1468, 0.0), (1470, 0.0), (1473, 0.0), (1475, 0.0), (1476, 0.0), (1477, 0.0), (1482, 0.0), (1486, 0.0), (1490, 0.0), (1491, 0.0), (1494, 0.0), (1496, 0.0), (1497, 0.0), (1499, 0.0), (1500, 0.0), (1507, 0.0), (1508, 0.0), (1511, 0.0), (1512, 0.0), (1513, 0.0), (1514, 0.0), (1515, 0.0), (1516, 0.0), (1517, 0.0), (1520, 0.0), (1521, 0.0), (1522, 0.0), (1523, 0.0), (1524, 0.0), (1525, 0.0), (1526, 0.0), (1527, 0.0), (1528, 0.0), (1529, 0.0), (1536, 0.0), (1538, 0.0), (1539, 0.0), (1540, 0.0), (1541, 0.0), (1543, 0.0), (1547, 0.0), (1548, 0.0), (1549, 0.0), (1552, 0.0), (1557, 0.0), (1558, 0.0), (1560, 0.0), (1563, 0.0), (1564, 0.0), (1565, 0.0), (1567, 0.0), (1569, 0.0), (1570, 0.0), (1572, 0.0), (1574, 0.0), (1578, 0.0), (1579, 0.0), (1581, 0.0), (1584, 0.0), (1586, 0.0), (1593, 0.0), (1596, 0.0), (1598, 0.0), (1599, 0.0), (1600, 0.0), (1601, 0.0), (1602, 0.0), (1603, 0.0), (1604, 0.0), (1605, 0.0), (1606, 0.0), (1607, 0.0), (1609, 0.0), (1610, 0.0), (1615, 0.0), (1616, 0.0), (1618, 0.0), (1619, 0.0), (1620, 0.0), (1624, 0.0), (1625, 0.0), (1626, 0.0), (1628, 0.0), (1634, 0.0), (1636, 0.0), (1638, 0.0), (1639, 0.0), (1640, 0.0), (1641, 0.0), (1642, 0.0), (1644, 0.0), (1646, 0.0), (1648, 0.0), (1649, 0.0), (1650, 0.0), (1651, 0.0), (1652, 0.0), (1655, 0.0), (1656, 0.0), (1657, 0.0), (1658, 0.0), (1660, 0.0), (1663, 0.0), (1664, 0.0), (1666, 0.0), (1668, 0.0), (1670, 0.0), (1672, 0.0), (1673, 0.0), (1674, 0.0), (1676, 0.0), (1677, 0.0), (1679, 0.0), (1682, 0.0), (1683, 0.0), (1684, 0.0), (1685, 0.0), (1686, 0.0), (1688, 0.0), (1689, 0.0), (1690, 0.0), (1691, 0.0), (1692, 0.0), (1693, 0.0), (1695, 0.0), (1697, 0.0), (1700, 0.0), (1702, 0.0), (1703, 0.0), (1704, 0.0), (1705, 0.0), (1706, 0.0), (1708, 0.0), (1709, 0.0), (1710, 0.0), (1711, 0.0), (1712, 0.0), (1714, 0.0), (1715, 0.0), (1717, 0.0), (1718, 0.0), (1721, 0.0), (1722, 0.0), (1725, 0.0), (1726, 0.0), (1727, 0.0), (1728, 0.0), (1729, 0.0), (1730, 0.0), (1733, 0.0), (1734, 0.0), (1735, 0.0), (1736, 0.0), (1737, 0.0), (1738, 0.0), (1741, 0.0), (1743, 0.0), (1744, 0.0), (1745, 0.0), (1746, 0.0), (1748, 0.0), (1751, 0.0), (1754, 0.0), (1755, 0.0), (1756, 0.0), (1757, 0.0), (1758, 0.0), (1759, 0.0), (1762, 0.0), (1763, 0.0), (1764, 0.0), (1765, 0.0), (1766, 0.0), (1767, 0.0), (1768, 0.0), (1769, 0.0), (1770, 0.0), (1771, 0.0), (1776, 0.0), (1777, 0.0), (1778, 0.0), (1780, 0.0), (1783, 0.0), (1785, 0.0), (1787, 0.0), (1790, 0.0), (1792, 0.0), (1793, 0.0), (1794, 0.0), (1797, 0.0), (1800, 0.0), (1801, 0.0), (1803, 0.0), (1806, 0.0), (1807, 0.0), (1808, 0.0), (1813, 0.0), (1814, 0.0), (1816, 0.0), (1818, 0.0), (1820, 0.0), (1822, 0.0), (1823, 0.0), (1824, 0.0), (1825, 0.0), (1826, 0.0), (1828, 0.0), (1830, 0.0), (1833, 0.0), (1834, 0.0), (1836, 0.0), (1837, 0.0), (1839, 0.0), (1841, 0.0), (1842, 0.0), (1843, 0.0), (1844, 0.0), (1847, 0.0), (1848, 0.0), (1849, 0.0), (1850, 0.0), (1851, 0.0), (1854, 0.0), (1855, 0.0), (1856, 0.0), (1861, 0.0), (1862, 0.0), (1867, 0.0), (1868, 0.0), (1869, 0.0), (1870, 0.0), (1874, 0.0), (1875, 0.0), (1877, 0.0), (1878, 0.0), (1880, 0.0), (1882, 0.0), (1883, 0.0), (1884, 0.0), (1885, 0.0), (1886, 0.0), (1887, 0.0), (1889, 0.0), (1890, 0.0), (1891, 0.0), (1893, 0.0), (1894, 0.0), (1895, 0.0), (1896, 0.0), (1898, 0.0), (1899, 0.0), (1903, 0.0), (1905, 0.0), (1906, 0.0), (1907, 0.0), (1909, 0.0), (1911, 0.0), (1912, 0.0), (1916, 0.0), (1917, 0.0), (1920, 0.0), (1921, 0.0), (1922, 0.0), (1923, 0.0), (1926, 0.0), (1929, 0.0), (1932, 0.0), (1935, 0.0), (1938, 0.0), (1943, 0.0), (1946, 0.0), (1947, 0.0), (1950, 0.0), (1951, 0.0), (1954, 0.0), (1955, 0.0), (1956, 0.0), (1957, 0.0), (1959, 0.0), (1961, 0.0), (1963, 0.0), (1965, 0.0), (1966, 0.0), (1969, 0.0), (1971, 0.0), (1972, 0.0), (1973, 0.0), (1977, 0.0), (1979, 0.0), (1980, 0.0), (1982, 0.0), (1984, 0.0), (1987, 0.0), (1988, 0.0), (1995, 0.0), (2001, 0.0), (2002, 0.0), (2004, 0.0), (2005, 0.0), (2006, 0.0), (2007, 0.0), (2009, 0.0), (2010, 0.0), (2011, 0.0), (2016, 0.0), (2017, 0.0), (2018, 0.0), (2019, 0.0), (2020, 0.0), (2021, 0.0), (2022, 0.0), (2025, 0.0), (2026, 0.0), (2027, 0.0), (2028, 0.0), (2030, 0.0), (2032, 0.0), (2033, 0.0), (2034, 0.0), (2035, 0.0), (2036, 0.0), (2038, 0.0), (2041, 0.0), (2042, 0.0), (2043, 0.0), (2048, 0.0), (2049, 0.0), (2051, 0.0), (2052, 0.0), (2054, 0.0), (2055, 0.0), (2056, 0.0), (2058, 0.0), (2059, 0.0), (2060, 0.0), (2063, 0.0), (2064, 0.0), (2065, 0.0), (2068, 0.0), (2071, 0.0), (2073, 0.0), (2076, 0.0), (2077, 0.0), (2079, 0.0), (2080, 0.0), (2081, 0.0), (2082, 0.0), (2083, 0.0), (2086, 0.0), (2087, 0.0), (2090, 0.0), (2092, 0.0), (2098, 0.0), (2099, 0.0), (2101, 0.0), (2103, 0.0), (2105, 0.0), (2107, 0.0), (2108, 0.0), (2109, 0.0), (2111, 0.0), (2113, 0.0), (2114, 0.0), (2115, 0.0), (2116, 0.0), (2117, 0.0), (2120, 0.0), (2122, 0.0), (2123, 0.0), (2124, 0.0), (2125, 0.0), (2126, 0.0), (2127, 0.0), (2132, 0.0), (2133, 0.0), (2134, 0.0), (2137, 0.0), (2138, 0.0), (2140, 0.0), (2141, 0.0), (2142, 0.0), (2143, 0.0), (2144, 0.0), (2145, 0.0), (2146, 0.0), (2147, 0.0), (2148, 0.0), (2149, 0.0), (2150, 0.0), (2151, 0.0), (2153, 0.0), (2155, 0.0), (2156, 0.0), (2159, 0.0), (2160, 0.0), (2161, 0.0), (2163, 0.0), (2164, 0.0), (2165, 0.0), (2166, 0.0), (2169, 0.0), (2170, 0.0), (2171, 0.0), (2172, 0.0), (2173, 0.0), (2175, 0.0), (2176, 0.0), (2177, 0.0), (2182, 0.0), (2183, 0.0), (2184, 0.0), (2185, 0.0), (2186, 0.0), (2187, 0.0), (2189, 0.0), (2190, 0.0), (2192, 0.0), (2193, 0.0), (2194, 0.0), (2198, 0.0), (2199, 0.0), (2200, 0.0), (2201, 0.0), (2202, 0.0), (2203, 0.0), (2204, 0.0), (2209, 0.0), (2212, 0.0), (2215, 0.0), (2217, 0.0), (2218, 0.0), (2219, 0.0), (2220, 0.0), (2221, 0.0), (2222, 0.0), (2223, 0.0), (2225, 0.0), (2226, 0.0), (2228, 0.0), (2233, 0.0), (2234, 0.0), (2236, 0.0), (2237, 0.0), (2238, 0.0), (2243, 0.0), (2244, 0.0), (2247, 0.0), (2248, 0.0), (2249, 0.0), (2251, 0.0), (2253, 0.0), (2257, 0.0), (2260, 0.0), (2261, 0.0), (2262, 0.0), (2263, 0.0), (2264, 0.0), (2265, 0.0), (2266, 0.0), (2267, 0.0), (2268, 0.0), (2270, 0.0), (2271, 0.0), (2272, 0.0), (2274, 0.0), (2279, 0.0), (2281, 0.0), (2282, 0.0), (2285, 0.0), (2286, 0.0), (2287, 0.0), (2288, 0.0), (2289, 0.0), (2291, 0.0), (2292, 0.0), (2293, 0.0), (2296, 0.0), (2298, 0.0), (2299, 0.0), (2300, 0.0), (2302, 0.0), (2303, 0.0), (2304, 0.0), (2305, 0.0), (2306, 0.0), (2307, 0.0), (2308, 0.0), (2309, 0.0), (2310, 0.0), (2311, 0.0), (2312, 0.0), (2313, 0.0), (2315, 0.0), (2316, 0.0), (2317, 0.0), (2319, 0.0), (2320, 0.0), (2322, 0.0), (2324, 0.0), (2325, 0.0), (2329, 0.0), (2331, 0.0), (2332, 0.0), (2333, 0.0), (2335, 0.0), (2337, 0.0), (2339, 0.0), (2341, 0.0), (2342, 0.0), (2343, 0.0), (2345, 0.0), (2346, 0.0), (2349, 0.0), (2350, 0.0), (2351, 0.0), (2354, 0.0), (2356, 0.0), (2357, 0.0), (2358, 0.0), (2360, 0.0), (2361, 0.0), (2362, 0.0), (2363, 0.0), (2364, 0.0), (2365, 0.0), (2366, 0.0), (2369, 0.0), (2370, 0.0), (2371, 0.0), (2372, 0.0), (2373, 0.0), (2376, 0.0), (2378, 0.0), (2379, 0.0), (2380, 0.0), (2381, 0.0), (2382, 0.0), (2385, 0.0), (2386, 0.0), (2387, 0.0), (2388, 0.0), (2389, 0.0), (2390, 0.0), (2391, 0.0), (2392, 0.0), (2393, 0.0), (2394, 0.0), (2395, 0.0), (2397, 0.0), (2398, 0.0), (2399, 0.0), (2401, 0.0), (2403, 0.0), (2404, 0.0), (2405, 0.0), (2407, 0.0), (2411, 0.0), (2414, 0.0), (2415, 0.0), (2416, 0.0), (2417, 0.0), (2418, 0.0), (2419, 0.0), (2420, 0.0), (2422, 0.0), (2423, 0.0), (2424, 0.0), (2425, 0.0), (2426, 0.0), (2430, 0.0), (2431, 0.0), (2433, 0.0), (2434, 0.0), (2435, 0.0), (2436, 0.0), (2437, 0.0), (2438, 0.0), (2439, 0.0), (2444, 0.0), (2445, 0.0), (2446, 0.0), (2448, 0.0), (2449, 0.0), (2450, 0.0), (2451, 0.0), (2452, 0.0), (2453, 0.0), (2454, 0.0), (2455, 0.0), (2457, 0.0), (2460, 0.0), (2462, 0.0), (2463, 0.0), (2464, 0.0), (2466, 0.0), (2467, 0.0), (2469, 0.0), (2470, 0.0), (2471, 0.0), (2472, 0.0), (2473, 0.0), (2475, 0.0), (2478, 0.0), (2479, 0.0), (2481, 0.0), (2482, 0.0), (2483, 0.0), (2484, 0.0), (2485, 0.0), (2487, 0.0), (2488, 0.0), (2489, 0.0), (2490, 0.0), (2491, 0.0), (2492, 0.0), (2493, 0.0), (2494, 0.0), (2495, 0.0), (2498, 0.0), (2499, 0.0), (2500, 0.0), (2502, 0.0), (2504, 0.0), (2505, 0.0), (2507, 0.0), (2508, 0.0), (2510, 0.0), (2511, 0.0), (2512, 0.0), (2513, 0.0), (2514, 0.0), (2515, 0.0), (2517, 0.0), (2518, 0.0), (2519, 0.0), (2520, 0.0), (2521, 0.0), (2523, 0.0), (2527, 0.0), (2528, 0.0), (2529, 0.0), (2530, 0.0), (2531, 0.0), (2532, 0.0), (2533, 0.0), (2534, 0.0), (2535, 0.0), (2536, 0.0), (2537, 0.0), (2538, 0.0), (2542, 0.0), (2543, 0.0), (2545, 0.0), (2546, 0.0), (2547, 0.0), (2549, 0.0), (2550, 0.0), (2554, 0.0), (2556, 0.0), (2557, 0.0), (2559, 0.0), (2560, 0.0), (2561, 0.0), (2562, 0.0), (2563, 0.0), (2564, 0.0), (2565, 0.0), (2566, 0.0), (2568, 0.0), (2569, 0.0), (2570, 0.0), (2575, 0.0), (2577, 0.0), (2579, 0.0), (2581, 0.0), (2582, 0.0), (2583, 0.0), (2584, 0.0), (2586, 0.0), (2587, 0.0), (2589, 0.0), (2590, 0.0), (2592, 0.0), (2593, 0.0), (2594, 0.0), (2595, 0.0), (2596, 0.0), (2597, 0.0), (2600, 0.0), (2601, 0.0), (2603, 0.0), (2604, 0.0), (2605, 0.0), (2608, 0.0), (2609, 0.0), (2610, 0.0), (2611, 0.0), (2612, 0.0), (2613, 0.0), (2614, 0.0), (2615, 0.0), (2619, 0.0), (2620, 0.0), (2623, 0.0), (2625, 0.0), (2628, 0.0), (2629, 0.0), (2631, 0.0), (2634, 0.0), (2635, 0.0), (2636, 0.0), (2639, 0.0), (2640, 0.0), (2641, 0.0), (2643, 0.0), (2644, 0.0), (2646, 0.0), (2648, 0.0), (2649, 0.0), (2651, 0.0), (2652, 0.0), (2653, 0.0), (2654, 0.0), (2656, 0.0), (2657, 0.0), (2658, 0.0), (2659, 0.0), (2660, 0.0), (2661, 0.0), (2662, 0.0), (2663, 0.0), (2664, 0.0), (2666, 0.0), (2667, 0.0), (2669, 0.0), (2670, 0.0), (2672, 0.0), (2673, 0.0), (2674, 0.0), (2675, 0.0), (2676, 0.0), (2678, 0.0), (2679, 0.0), (2681, 0.0), (2684, 0.0), (2686, 0.0), (2687, 0.0), (2688, 0.0), (2690, 0.0), (2691, 0.0), (2693, 0.0), (2694, 0.0), (2696, 0.0), (2701, 0.0), (2702, 0.0), (2703, 0.0), (2704, 0.0), (2705, 0.0), (2706, 0.0), (2707, 0.0), (2708, 0.0), (2709, 0.0), (2710, 0.0), (2712, 0.0), (2713, 0.0), (2715, 0.0), (2717, 0.0), (2718, 0.0), (2719, 0.0), (2720, 0.0), (2721, 0.0), (2722, 0.0), (2723, 0.0), (2725, 0.0), (2726, 0.0), (2728, 0.0), (2729, 0.0), (2731, 0.0), (2734, 0.0), (2735, 0.0), (2737, 0.0), (2738, 0.0), (2740, 0.0), (2741, 0.0), (2743, 0.0), (2744, 0.0), (2745, 0.0), (2747, 0.0), (2748, 0.0), (2750, 0.0), (2752, 0.0), (2753, 0.0), (2754, 0.0), (2755, 0.0), (2757, 0.0), (2758, 0.0), (2760, 0.0), (2761, 0.0), (2763, 0.0), (2764, 0.0), (2765, 0.0), (2767, 0.0), (2769, 0.0), (2770, 0.0), (2772, 0.0), (2773, 0.0), (2774, 0.0), (2775, 0.0), (2776, 0.0), (2777, 0.0), (2779, 0.0), (2781, 0.0), (2782, 0.0), (2783, 0.0), (2785, 0.0), (2786, 0.0), (2792, 0.0), (2793, 0.0), (2794, 0.0), (2796, 0.0), (2797, 0.0), (2798, 0.0), (2800, 0.0), (2802, 0.0), (2804, 0.0), (2806, 0.0), (2807, 0.0), (2809, 0.0), (2811, 0.0), (2812, 0.0), (2813, 0.0), (2815, 0.0), (2816, 0.0), (2818, 0.0), (2822, 0.0), (2823, 0.0), (2824, 0.0), (2828, 0.0), (2829, 0.0), (2830, 0.0), (2831, 0.0), (2832, 0.0), (2833, 0.0), (2834, 0.0), (2835, 0.0), (2836, 0.0), (2837, 0.0), (2838, 0.0), (2843, 0.0), (2844, 0.0), (2846, 0.0), (2848, 0.0), (2849, 0.0), (2850, 0.0), (2851, 0.0), (2852, 0.0), (2855, 0.0), (2856, 0.0), (2857, 0.0), (2858, 0.0), (2859, 0.0), (2860, 0.0), (2861, 0.0), (2862, 0.0), (2863, 0.0), (2864, 0.0), (2865, 0.0), (2867, 0.0), (2868, 0.0), (2869, 0.0), (2870, 0.0), (2872, 0.0), (2873, 0.0), (2874, 0.0), (2875, 0.0), (2876, 0.0), (2878, 0.0), (2880, 0.0), (2882, 0.0), (2883, 0.0), (2884, 0.0), (2885, 0.0), (2887, 0.0), (2888, 0.0), (2889, 0.0), (2890, 0.0), (2891, 0.0), (2893, 0.0), (2895, 0.0), (2896, 0.0), (2897, 0.0), (2898, 0.0), (2900, 0.0), (2901, 0.0), (2905, 0.0), (2906, 0.0), (2907, 0.0), (2909, 0.0), (2911, 0.0), (2912, 0.0), (2913, 0.0), (2914, 0.0), (2915, 0.0), (2916, 0.0), (2920, 0.0), (2921, 0.0), (2922, 0.0), (2923, 0.0), (2926, 0.0), (2927, 0.0), (2928, 0.0), (2930, 0.0), (2933, 0.0), (2934, 0.0), (2935, 0.0), (2936, 0.0), (2937, 0.0), (2938, 0.0), (2940, 0.0), (2941, 0.0), (2942, 0.0), (2943, 0.0), (2946, 0.0), (2948, 0.0), (2950, 0.0), (2951, 0.0), (2952, 0.0), (2953, 0.0), (2955, 0.0), (2956, 0.0), (2957, 0.0), (2958, 0.0), (2965, 0.0), (2966, 0.0), (2967, 0.0), (2969, 0.0), (2970, 0.0), (2971, 0.0), (2972, 0.0), (2973, 0.0), (2974, 0.0), (2975, 0.0), (2977, 0.0), (2979, 0.0), (2980, 0.0), (2982, 0.0), (2983, 0.0), (2985, 0.0), (2986, 0.0), (2987, 0.0), (2989, 0.0), (2990, 0.0), (2993, 0.0), (2994, 0.0), (2995, 0.0), (2997, 0.0), (2998, 0.0), (2999, 0.0), (3001, 0.0), (3002, 0.0), (3003, 0.0), (3004, 0.0), (3006, 0.0), (3007, 0.0), (3008, 0.0), (3009, 0.0), (3013, 0.0), (3014, 0.0), (3015, 0.0), (3016, 0.0), (3017, 0.0), (3018, 0.0), (3020, 0.0), (3021, 0.0), (3023, 0.0), (3024, 0.0), (3025, 0.0), (3026, 0.0), (3028, 0.0), (3029, 0.0), (3030, 0.0), (3031, 0.0), (3033, 0.0), (3034, 0.0), (3036, 0.0), (3037, 0.0), (3038, 0.0), (3039, 0.0), (3040, 0.0), (3041, 0.0), (3042, 0.0), (3044, 0.0), (3046, 0.0), (3047, 0.0), (3048, 0.0), (3050, 0.0), (3051, 0.0), (3052, 0.0), (3053, 0.0), (3054, 0.0), (3055, 0.0), (3057, 0.0), (3058, 0.0), (3059, 0.0), (3060, 0.0), (3061, 0.0), (3062, 0.0), (3063, 0.0), (3064, 0.0), (3066, 0.0), (3067, 0.0), (3068, 0.0), (3069, 0.0), (3072, 0.0), (3073, 0.0), (3074, 0.0), (3075, 0.0), (3076, 0.0), (3078, 0.0), (3080, 0.0), (3081, 0.0), (3082, 0.0), (3084, 0.0), (3087, 0.0), (3088, 0.0), (3089, 0.0), (3090, 0.0), (3091, 0.0), (3093, 0.0), (3094, 0.0), (3096, 0.0), (3097, 0.0), (3098, 0.0), (3103, 0.0), (3104, 0.0), (3105, 0.0), (3106, 0.0), (3107, 0.0), (3113, 0.0), (3114, 0.0), (3115, 0.0), (3116, 0.0), (3119, 0.0), (3120, 0.0), (3121, 0.0), (3128, 0.0), (3130, 0.0), (3132, 0.0), (3137, 0.0), (3138, 0.0), (3139, 0.0), (3140, 0.0), (3144, 0.0), (3145, 0.0), (3146, 0.0), (3148, 0.0), (3150, 0.0), (3151, 0.0), (3152, 0.0), (3155, 0.0), (3157, 0.0), (3159, 0.0), (3162, 0.0), (3164, 0.0), (3165, 0.0), (3166, 0.0), (3169, 0.0), (3170, 0.0), (3171, 0.0), (3172, 0.0), (3174, 0.0), (3176, 0.0), (3177, 0.0), (3178, 0.0), (3183, 0.0), (3186, 0.0), (3187, 0.0), (3189, 0.0), (3190, 0.0), (3192, 0.0), (3193, 0.0), (3194, 0.0), (3197, 0.0), (3198, 0.0), (3199, 0.0), (3201, 0.0), (3202, 0.0), (3203, 0.0), (3204, 0.0), (3205, 0.0), (3208, 0.0), (3209, 0.0), (3212, 0.0), (3214, 0.0), (3216, 0.0), (3217, 0.0), (3218, 0.0), (3219, 0.0), (3220, 0.0), (3221, 0.0), (3224, 0.0), (3226, 0.0), (3229, 0.0), (3230, 0.0), (3236, 0.0), (3237, 0.0), (3238, 0.0), (3239, 0.0), (3240, 0.0), (3241, 0.0), (3242, 0.0), (3244, 0.0), (3245, 0.0), (3248, 0.0), (3249, 0.0), (3250, 0.0), (3251, 0.0), (3252, 0.0), (3253, 0.0), (3255, 0.0), (3256, 0.0), (3257, 0.0), (3258, 0.0), (3259, 0.0), (3260, 0.0), (3261, 0.0), (3262, 0.0), (3265, 0.0), (3266, 0.0), (3268, 0.0), (3269, 0.0), (3270, 0.0), (3271, 0.0), (3272, 0.0), (3273, 0.0), (3274, 0.0), (3276, 0.0), (3278, 0.0), (3280, 0.0), (3281, 0.0), (3283, 0.0), (3286, 0.0), (3287, 0.0), (3288, 0.0), (3290, 0.0), (3291, 0.0), (3292, 0.0), (3293, 0.0), (3294, 0.0), (3295, 0.0), (3296, 0.0), (3298, 0.0), (3299, 0.0), (3300, 0.0), (3301, 0.0), (3302, 0.0), (3305, 0.0), (3306, 0.0), (3307, 0.0), (3309, 0.0), (3311, 0.0), (3313, 0.0), (3314, 0.0), (3315, 0.0), (3316, 0.0), (3319, 0.0), (3320, 0.0), (3321, 0.0), (3322, 0.0), (3323, 0.0), (3324, 0.0), (3326, 0.0), (3327, 0.0), (3332, 0.0), (3337, 0.0), (3340, 0.0), (3341, 0.0), (3343, 0.0), (3345, 0.0), (3346, 0.0), (3348, 0.0), (3350, 0.0), (3351, 0.0), (3353, 0.0), (3354, 0.0), (3355, 0.0), (3356, 0.0), (3357, 0.0), (3358, 0.0), (3359, 0.0), (3363, 0.0), (3366, 0.0), (3368, 0.0), (3369, 0.0), (3371, 0.0), (3372, 0.0), (3373, 0.0), (3375, 0.0), (3376, 0.0), (3379, 0.0), (3381, 0.0), (3383, 0.0), (3391, 0.0), (3393, 0.0), (3396, 0.0), (3397, 0.0), (3399, 0.0), (3401, 0.0), (3402, 0.0), (3407, 0.0), (3409, 0.0), (3410, 0.0), (3411, 0.0), (3412, 0.0), (3413, 0.0), (3414, 0.0), (3415, 0.0), (3417, 0.0), (3418, 0.0), (3419, 0.0), (3420, 0.0), (3422, 0.0), (3423, 0.0), (3424, 0.0), (3425, 0.0), (3427, 0.0), (3428, 0.0), (3431, 0.0), (3434, 0.0), (3439, 0.0), (3441, 0.0), (3442, 0.0), (3444, 0.0), (3445, 0.0), (3447, 0.0), (3449, 0.0), (3454, 0.0), (3455, 0.0), (3457, 0.0), (3459, 0.0), (3461, 0.0), (3462, 0.0), (3464, 0.0), (3467, 0.0), (3469, 0.0), (3472, 0.0), (3473, 0.0), (3475, 0.0), (3476, 0.0), (3477, 0.0), (3478, 0.0), (3479, 0.0), (3480, 0.0), (3481, 0.0), (3482, 0.0), (3485, 0.0), (3489, 0.0), (3492, 0.0), (3494, 0.0), (3496, 0.0), (3497, 0.0), (3500, 0.0), (3503, 0.0), (3505, 0.0), (3508, 0.0), (3509, 0.0), (3511, 0.0), (3512, 0.0), (3519, 0.0), (3522, 0.0), (3523, 0.0), (3525, 0.0), (3526, 0.0), (3527, 0.0), (3529, 0.0), (3530, 0.0), (3531, 0.0), (3532, 0.0), (3536, 0.0), (3537, 0.0), (3539, 0.0), (3540, 0.0), (3542, 0.0), (3543, 0.0), (3544, 0.0), (3545, 0.0), (3546, 0.0), (3547, 0.0), (3548, 0.0), (3549, 0.0), (3552, 0.0), (3554, 0.0), (3557, 0.0), (3558, 0.0), (3559, 0.0), (3560, 0.0), (3561, 0.0), (3562, 0.0), (3565, 0.0), (3566, 0.0), (3567, 0.0), (3568, 0.0), (3569, 0.0), (3570, 0.0), (3572, 0.0), (3573, 0.0), (3575, 0.0), (3577, 0.0), (3578, 0.0), (3579, 0.0), (3581, 0.0), (3585, 0.0), (3589, 0.0), (3590, 0.0), (3591, 0.0), (3592, 0.0), (3593, 0.0), (3594, 0.0), (3595, 0.0), (3596, 0.0), (3599, 0.0), (3600, 0.0), (3601, 0.0), (3603, 0.0), (3606, 0.0), (3607, 0.0), (3608, 0.0), (3609, 0.0), (3610, 0.0), (3612, 0.0), (3613, 0.0), (3615, 0.0), (3616, 0.0), (3617, 0.0), (3620, 0.0), (3621, 0.0), (3622, 0.0), (3625, 0.0), (3627, 0.0), (3628, 0.0), (3629, 0.0), (3630, 0.0), (3631, 0.0), (3632, 0.0), (3634, 0.0), (3636, 0.0), (3639, 0.0), (3641, 0.0), (3643, 0.0), (3645, 0.0), (3646, 0.0), (3647, 0.0), (3648, 0.0), (3649, 0.0), (3651, 0.0), (3657, 0.0), (3658, 0.0), (3662, 0.0), (3663, 0.0), (3665, 0.0), (3667, 0.0), (3668, 0.0), (3671, 0.0), (3672, 0.0), (3673, 0.0), (3676, 0.0), (3677, 0.0), (3678, 0.0), (3681, 0.0), (3682, 0.0), (3683, 0.0), (3685, 0.0), (3686, 0.0), (3687, 0.0), (3688, 0.0), (3689, 0.0), (3690, 0.0), (3691, 0.0), (3693, 0.0), (3697, 0.0), (3698, 0.0), (3700, 0.0), (3701, 0.0), (3702, 0.0), (3703, 0.0), (3707, 0.0), (3709, 0.0), (3714, 0.0), (3716, 0.0), (3717, 0.0), (3718, 0.0), (3719, 0.0), (3722, 0.0), (3724, 0.0), (3725, 0.0), (3726, 0.0), (3728, 0.0), (3729, 0.0), (3733, 0.0), (3735, 0.0), (3737, 0.0), (3739, 0.0), (3740, 0.0), (3742, 0.0), (3745, 0.0), (3746, 0.0), (3749, 0.0), (3751, 0.0), (3752, 0.0), (3753, 0.0), (3755, 0.0), (3757, 0.0), (3758, 0.0), (3760, 0.0), (3761, 0.0), (3762, 0.0), (3763, 0.0), (3764, 0.0), (3765, 0.0), (3767, 0.0), (3770, 0.0), (3772, 0.0), (3778, 0.0), (3779, 0.0), (3781, 0.0), (3783, 0.0), (3784, 0.0), (3785, 0.0), (3786, 0.0), (3789, 0.0), (3790, 0.0), (3791, 0.0), (3792, 0.0), (3795, 0.0), (3796, 0.0), (3798, 0.0), (3799, 0.0), (3800, 0.0), (3804, 0.0), (3805, 0.0), (3808, 0.0), (3809, 0.0), (3811, 0.0), (3812, 0.0), (3813, 0.0), (3817, 0.0), (3818, 0.0), (3820, 0.0), (3821, 0.0), (3822, 0.0), (3825, 0.0), (3826, 0.0), (3831, 0.0), (3832, 0.0), (3835, 0.0), (3836, 0.0), (3837, 0.0), (3838, 0.0), (3843, 0.0), (3845, 0.0), (3846, 0.0), (3848, 0.0), (3851, 0.0), (3858, 0.0), (3859, 0.0), (3861, 0.0), (3863, 0.0), (3864, 0.0), (3865, 0.0), (3866, 0.0), (3867, 0.0), (3871, 0.0), (3874, 0.0), (3875, 0.0), (3879, 0.0), (3880, 0.0), (3882, 0.0), (3885, 0.0), (3887, 0.0), (3888, 0.0), (3890, 0.0), (3891, 0.0), (3892, 0.0), (3893, 0.0), (3894, 0.0), (3895, 0.0), (3896, 0.0), (3898, 0.0), (3899, 0.0), (3900, 0.0), (3902, 0.0), (3904, 0.0), (3905, 0.0), (3906, 0.0), (3909, 0.0), (3911, 0.0), (3912, 0.0), (3913, 0.0), (3914, 0.0), (3916, 0.0), (3917, 0.0), (3918, 0.0), (3920, 0.0), (3921, 0.0), (3922, 0.0), (3923, 0.0), (3924, 0.0), (3925, 0.0), (3926, 0.0), (3927, 0.0), (3928, 0.0), (3929, 0.0), (3931, 0.0), (3932, 0.0), (3933, 0.0), (3934, 0.0), (3935, 0.0), (3936, 0.0), (3939, 0.0), (3940, 0.0), (3941, 0.0), (3943, 0.0), (3945, 0.0), (3948, 0.0), (3949, 0.0), (3950, 0.0), (3951, 0.0), (3952, 0.0), (3953, 0.0), (3954, 0.0), (3955, 0.0), (3962, 0.0), (3963, 0.0), (3964, 0.0), (3967, 0.0), (3968, 0.0), (3969, 0.0), (3971, 0.0), (3972, 0.0), (3973, 0.0), (3977, 0.0), (3979, 0.0), (3980, 0.0), (3981, 0.0), (3982, 0.0), (3983, 0.0), (3984, 0.0), (3987, 0.0), (3988, 0.0), (3990, 0.0), (3991, 0.0), (3992, 0.0), (3994, 0.0), (3996, 0.0), (3998, 0.0), (3999, 0.0), (4001, 0.0), (4003, 0.0), (4007, 0.0), (4008, 0.0), (4009, 0.0), (4010, 0.0), (4011, 0.0), (4012, 0.0), (4014, 0.0), (4015, 0.0), (4016, 0.0), (4017, 0.0), (4019, 0.0), (4021, 0.0), (4023, 0.0), (4024, 0.0), (4025, 0.0), (4026, 0.0), (4027, 0.0), (4030, 0.0), (4031, 0.0), (4032, 0.0), (4033, 0.0), (4034, 0.0), (4035, 0.0), (4036, 0.0), (4037, 0.0), (4040, 0.0), (4041, 0.0), (4042, 0.0), (4049, 0.0), (4051, 0.0), (4052, 0.0), (4053, 0.0), (4054, 0.0), (4055, 0.0), (4057, 0.0), (4058, 0.0), (4060, 0.0), (4061, 0.0), (4064, 0.0), (4065, 0.0), (4066, 0.0), (4070, 0.0), (4072, 0.0), (4073, 0.0), (4075, 0.0), (4077, 0.0), (4079, 0.0), (4080, 0.0), (4081, 0.0), (4082, 0.0), (4083, 0.0), (4084, 0.0), (4085, 0.0), (4086, 0.0), (4093, 0.0), (4094, 0.0), (4097, 0.0), (4099, 0.0), (4100, 0.0), (4102, 0.0), (4104, 0.0), (4105, 0.0), (4107, 0.0), (4108, 0.0), (4109, 0.0), (4110, 0.0), (4111, 0.0), (4112, 0.0), (4113, 0.0), (4114, 0.0), (4115, 0.0), (4118, 0.0), (4122, 0.0), (4126, 0.0), (4127, 0.0), (4128, 0.0), (4129, 0.0), (4130, 0.0), (4131, 0.0), (4132, 0.0), (4135, 0.0), (4137, 0.0), (4138, 0.0), (4139, 0.0), (4140, 0.0), (4141, 0.0), (4142, 0.0), (4143, 0.0), (4145, 0.0), (4146, 0.0), (4147, 0.0), (4149, 0.0), (4151, 0.0), (4152, 0.0), (4156, 0.0), (4157, 0.0), (4160, 0.0), (4161, 0.0), (4166, 0.0), (4167, 0.0), (4170, 0.0), (4171, 0.0), (4172, 0.0), (4173, 0.0), (4179, 0.0), (4180, 0.0), (4183, 0.0), (4185, 0.0), (4186, 0.0), (4187, 0.0), (4188, 0.0), (4190, 0.0), (4191, 0.0), (4192, 0.0), (4195, 0.0), (4196, 0.0), (4197, 0.0), (4198, 0.0), (4199, 0.0), (4202, 0.0), (4203, 0.0), (4204, 0.0), (4205, 0.0), (4206, 0.0), (4207, 0.0), (4210, 0.0), (4212, 0.0), (4213, 0.0), (4214, 0.0), (4215, 0.0), (4217, 0.0), (4218, 0.0), (4220, 0.0), (4221, 0.0), (4222, 0.0), (4223, 0.0), (4224, 0.0), (4225, 0.0), (4228, 0.0), (4229, 0.0), (4230, 0.0), (4233, 0.0), (4234, 0.0), (4236, 0.0), (4237, 0.0), (4238, 0.0), (4239, 0.0), (4241, 0.0), (4243, 0.0), (4245, 0.0), (4246, 0.0), (4250, 0.0), (4252, 0.0), (4253, 0.0), (4254, 0.0), (4256, 0.0), (4257, 0.0), (4258, 0.0), (4259, 0.0), (4260, 0.0), (4261, 0.0), (4267, 0.0), (4268, 0.0), (4269, 0.0), (4270, 0.0), (4271, 0.0), (4272, 0.0), (4273, 0.0), (4276, 0.0), (4277, 0.0), (4278, 0.0), (4279, 0.0), (4280, 0.0), (4287, 0.0), (4289, 0.0), (4291, 0.0), (4293, 0.0), (4294, 0.0), (4295, 0.0), (4296, 0.0), (4297, 0.0), (4298, 0.0), (4300, 0.0), (4301, 0.0), (4302, 0.0), (4303, 0.0), (4306, 0.0), (4308, 0.0), (4311, 0.0), (4313, 0.0), (4314, 0.0), (4315, 0.0), (4316, 0.0), (4317, 0.0), (4318, 0.0), (4319, 0.0), (4320, 0.0), (4323, 0.0), (4326, 0.0), (4330, 0.0), (4332, 0.0), (4333, 0.0), (4334, 0.0), (4335, 0.0), (4336, 0.0), (4338, 0.0), (4340, 0.0), (4341, 0.0), (4342, 0.0), (4343, 0.0), (4345, 0.0), (4346, 0.0), (4347, 0.0), (4348, 0.0), (4349, 0.0), (4350, 0.0), (4351, 0.0), (4352, 0.0), (4353, 0.0), (4354, 0.0), (4357, 0.0), (4358, 0.0), (4361, 0.0), (4363, 0.0), (4364, 0.0), (4367, 0.0), (4368, 0.0), (4370, 0.0), (4371, 0.0), (4372, 0.0), (4373, 0.0), (4378, 0.0), (4381, 0.0), (4382, 0.0), (4385, 0.0), (4386, 0.0), (4388, 0.0), (4390, 0.0), (4391, 0.0), (4393, 0.0), (4394, 0.0), (4397, 0.0), (4398, 0.0), (4400, 0.0), (4401, 0.0), (4405, 0.0), (4406, 0.0), (4407, 0.0), (4408, 0.0), (4409, 0.0), (4410, 0.0), (4411, 0.0), (4413, 0.0), (4414, 0.0), (4415, 0.0), (4416, 0.0), (4417, 0.0), (4418, 0.0), (4419, 0.0), (4420, 0.0), (4421, 0.0), (4422, 0.0), (4423, 0.0), (4424, 0.0), (4425, 0.0), (4428, 0.0), (4433, 0.0), (4434, 0.0), (4435, 0.0), (4437, 0.0), (4439, 0.0), (4440, 0.0), (4442, 0.0), (4445, 0.0), (4446, 0.0), (4447, 0.0), (4448, 0.0), (4449, 0.0), (4451, 0.0), (4452, 0.0), (4453, 0.0), (4454, 0.0), (4455, 0.0), (4456, 0.0), (4457, 0.0), (4458, 0.0), (4459, 0.0), (4460, 0.0), (4461, 0.0), (4465, 0.0), (4467, 0.0), (4469, 0.0), (4471, 0.0), (4473, 0.0), (4476, 0.0), (4477, 0.0), (4478, 0.0), (4479, 0.0), (4480, 0.0), (4483, 0.0), (4484, 0.0), (4485, 0.0), (4486, 0.0), (4487, 0.0), (4489, 0.0), (4491, 0.0), (4492, 0.0), (4493, 0.0), (4495, 0.0), (4496, 0.0), (4497, 0.0), (4499, 0.0), (4500, 0.0), (4501, 0.0), (4502, 0.0), (4504, 0.0), (4505, 0.0), (4506, 0.0), (4507, 0.0), (4508, 0.0), (4509, 0.0), (4511, 0.0), (4516, 0.0), (4519, 0.0), (4520, 0.0), (4521, 0.0), (4525, 0.0), (4526, 0.0), (4528, 0.0), (4529, 0.0), (4530, 0.0), (4532, 0.0), (4535, 0.0), (4536, 0.0), (4538, 0.0), (4539, 0.0), (4540, 0.0), (4541, 0.0), (4544, 0.0), (4545, 0.0), (4547, 0.0), (4549, 0.0), (4550, 0.0), (4551, 0.0), (4555, 0.0), (4556, 0.0), (4560, 0.0), (4561, 0.0), (4562, 0.0), (4563, 0.0), (4564, 0.0), (4565, 0.0), (4567, 0.0), (4568, 0.0), (4569, 0.0), (4570, 0.0), (4571, 0.0), (4572, 0.0), (4573, 0.0), (4574, 0.0), (4575, 0.0), (4577, 0.0), (4578, 0.0), (4580, 0.0), (4581, 0.0), (4584, 0.0), (4588, 0.0), (4589, 0.0), (4592, 0.0), (4596, 0.0), (4597, 0.0), (4599, 0.0), (4600, 0.0), (4603, 0.0), (4604, 0.0), (4605, 0.0), (4606, 0.0), (4608, 0.0), (4609, 0.0), (4610, 0.0), (4611, 0.0), (4615, 0.0), (4616, 0.0), (4617, 0.0), (4618, 0.0), (4619, 0.0), (4622, 0.0), (4625, 0.0), (4626, 0.0), (4627, 0.0), (4631, 0.0), (4632, 0.0), (4634, 0.0), (4635, 0.0), (4636, 0.0), (4638, 0.0), (4640, 0.0), (4641, 0.0), (4643, 0.0), (4644, 0.0), (4645, 0.0), (4647, 0.0), (4648, 0.0), (4649, 0.0), (4650, 0.0), (4651, 0.0), (4654, 0.0), (4655, 0.0), (4657, 0.0), (4667, 0.0), (4668, 0.0), (4671, 0.0), (4672, 0.0), (4675, 0.0), (4676, 0.0), (4680, 0.0), (4681, 0.0), (4682, 0.0), (4685, 0.0), (4686, 0.0), (4687, 0.0), (4688, 0.0), (4690, 0.0), (4692, 0.0), (4693, 0.0), (4694, 0.0), (4696, 0.0), (4700, 0.0), (4702, 0.0), (4704, 0.0), (4705, 0.0), (4707, 0.0), (4711, 0.0), (4713, 0.0), (4714, 0.0), (4716, 0.0), (4717, 0.0), (4718, 0.0), (4719, 0.0), (4720, 0.0), (4722, 0.0), (4723, 0.0), (4725, 0.0), (4727, 0.0), (4728, 0.0), (4729, 0.0), (4730, 0.0), (4732, 0.0), (4734, 0.0), (4737, 0.0), (4738, 0.0), (4739, 0.0), (4740, 0.0), (4741, 0.0), (4742, 0.0), (4743, 0.0), (4744, 0.0), (4745, 0.0), (4748, 0.0), (4749, 0.0), (4750, 0.0), (4751, 0.0), (4752, 0.0), (4753, 0.0), (4754, 0.0), (4755, 0.0), (4756, 0.0), (4758, 0.0), (4759, 0.0)]\n"
          ]
        }
      ]
    },
    {
      "cell_type": "code",
      "source": [
        "print('Top 30 Movies suggested for you: \\n')"
      ],
      "metadata": {
        "colab": {
          "base_uri": "https://localhost:8080/"
        },
        "id": "sxG4E3wwpTjM",
        "outputId": "03823602-3da3-4ec5-c72c-d3cc1e3c4663"
      },
      "execution_count": null,
      "outputs": [
        {
          "output_type": "stream",
          "name": "stdout",
          "text": [
            "Top 30 Movies suggested for you: \n",
            "\n"
          ]
        }
      ]
    },
    {
      "cell_type": "code",
      "source": [
        "i = 1\n",
        "for movie in Sorted_similar_movies:\n",
        "  index = movie[0]\n",
        "  title_from_index = df[df.index == index]['Movie_Title'].values[0]\n",
        "  if (i<31):\n",
        "    print(i, '.', title_from_index)\n",
        "    i+=1"
      ],
      "metadata": {
        "colab": {
          "base_uri": "https://localhost:8080/"
        },
        "id": "TMI0Uu2JpW09",
        "outputId": "e8850398-0ae1-4011-c0d8-476fa2a89ce7"
      },
      "execution_count": null,
      "outputs": [
        {
          "output_type": "stream",
          "name": "stdout",
          "text": [
            "1 . Sleep Tight\n",
            "2 . Darkness\n",
            "3 . [REC]\n",
            "4 . Mondays in the Sun\n",
            "5 . [REC]²\n",
            "6 . Vicky Cristina Barcelona\n",
            "7 . The Cry of the Owl\n",
            "8 . The Bourne Identity\n",
            "9 . The Spanish Apartment\n",
            "10 . Urban Legend\n",
            "11 . The Last House on the Left\n",
            "12 . The Prestige\n",
            "13 . Underdogs\n",
            "14 . Trash\n",
            "15 . The Dark Hours\n",
            "16 . Battle of the Year\n",
            "17 . Angel Eyes\n",
            "18 . One Man's Hero\n",
            "19 . Larry the Cable Guy: Health Inspector\n",
            "20 . Rocky Balboa\n",
            "21 . Clear and Present Danger\n",
            "22 . The Last Exorcism\n",
            "23 . Anaconda\n",
            "24 . Predator\n",
            "25 . The World Is Not Enough\n",
            "26 . Desperado\n",
            "27 . Orphan\n",
            "28 . Groundhog Day\n",
            "29 . The Juror\n",
            "30 . Mission: Impossible II\n"
          ]
        }
      ]
    },
    {
      "cell_type": "markdown",
      "source": [
        "# **TOP 10 MOVIE RECOMENDATION MODEL**\n"
      ],
      "metadata": {
        "id": "iC-pLZJLp0JC"
      }
    },
    {
      "cell_type": "code",
      "source": [
        "Movie_name = input('Enter your favourite movie name: ')\n",
        "\n",
        "list_of_all_titles = df['Movie_Title'].tolist()\n",
        "Find_close_match = difflib.get_close_matches(Movie_name, list_of_all_titles)\n",
        "\n",
        "Close_match = Find_close_match[0]\n",
        "\n",
        "Index_of_movie = df[df.Movie_Title == Close_match]['Movie_ID'].values[0]\n",
        "\n",
        "Recommendation_Score = list(enumerate(Similarity_Score[Index_of_movie]))\n",
        "Sorted_similar_movies = sorted(Recommendation_Score, key = lambda x:x[1], reverse = True)\n",
        "\n",
        "print('Top 10 Movies suggested for you: \\n')\n",
        "\n",
        "i = 1\n",
        "for movie in Sorted_similar_movies:\n",
        "  index = movie[0]\n",
        "  title_from_index = df[df.index == index]['Movie_Title'].values\n",
        "  if (i<11):\n",
        "    print(i, '.', title_from_index)\n",
        "  i+= 1"
      ],
      "metadata": {
        "colab": {
          "base_uri": "https://localhost:8080/"
        },
        "id": "ijvkheEpeifs",
        "outputId": "c5a717c7-4c90-4dc0-e8a9-d989a2213402"
      },
      "execution_count": null,
      "outputs": [
        {
          "output_type": "stream",
          "name": "stdout",
          "text": [
            "Enter your favourite movie name: drama\n",
            "Top 10 Movies suggested for you: \n",
            "\n",
            "1 . ['The Velocity of Gary']\n",
            "2 . ['Broken Horses']\n",
            "3 . ['We Have Your Husband']\n",
            "4 . ['Once Upon a Time in Mexico']\n",
            "5 . ['Jason Bourne']\n",
            "6 . ['The Dangerous Lives of Altar Boys']\n",
            "7 . ['Impostor']\n",
            "8 . ['The Pirates! In an Adventure with Scientists!']\n",
            "9 . ['Grown Ups 2']\n",
            "10 . ['Frida']\n"
          ]
        }
      ]
    },
    {
      "cell_type": "markdown",
      "source": [
        "# GitHub"
      ],
      "metadata": {
        "id": "8ZsHYcNBtffM"
      }
    },
    {
      "cell_type": "code",
      "source": [
        "!git remote add origin https://github.com/Vedika945/Movie-Recommendation.git\n",
        "!git branch -M main\n",
        "!git push -u origin main"
      ],
      "metadata": {
        "colab": {
          "base_uri": "https://localhost:8080/"
        },
        "id": "gv1x94zKtiPF",
        "outputId": "e946ad8f-e9f6-4a84-fcae-31d57976a272"
      },
      "execution_count": 81,
      "outputs": [
        {
          "output_type": "stream",
          "name": "stdout",
          "text": [
            "fatal: not a git repository (or any of the parent directories): .git\n",
            "fatal: not a git repository (or any of the parent directories): .git\n",
            "fatal: not a git repository (or any of the parent directories): .git\n"
          ]
        }
      ]
    }
  ]
}